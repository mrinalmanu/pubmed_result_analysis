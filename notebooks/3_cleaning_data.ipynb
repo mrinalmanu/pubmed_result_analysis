{
 "cells": [
  {
   "cell_type": "raw",
   "metadata": {},
   "source": [
    "Multiple package complications in R. Switching to python for the text and content analysis. readyDF - dataframe contains author info, affliations, and paper titles. readyDF_X contains abstracts as well."
   ]
  },
  {
   "cell_type": "code",
   "execution_count": 1,
   "metadata": {
    "scrolled": true
   },
   "outputs": [],
   "source": [
    "# terminal commands from within JN\n",
    "#!pip install pandas\n",
    "#!pip install WordCloud\n",
    "# !pip install nltk\n",
    "#!pip install pycountry\n",
    "#!pip install geotext\n",
    "#!pip install pycountry_convert"
   ]
  },
  {
   "cell_type": "code",
   "execution_count": 2,
   "metadata": {},
   "outputs": [],
   "source": [
    "\n",
    "import warnings\n",
    "warnings.filterwarnings('ignore')\n"
   ]
  },
  {
   "cell_type": "code",
   "execution_count": 3,
   "metadata": {},
   "outputs": [],
   "source": [
    "# text extraction from abstracts\n",
    "import numpy as np\n",
    "import pandas as pd\n"
   ]
  },
  {
   "cell_type": "code",
   "execution_count": 4,
   "metadata": {
    "scrolled": true
   },
   "outputs": [],
   "source": [
    "# Load in the dataframe\n",
    "df = pd.read_csv(\"/home/mrinalmanu/Desktop/metagen_project/readyDF_X\")"
   ]
  },
  {
   "cell_type": "code",
   "execution_count": 5,
   "metadata": {
    "scrolled": true
   },
   "outputs": [
    {
     "data": {
      "text/html": [
       "<div>\n",
       "<style scoped>\n",
       "    .dataframe tbody tr th:only-of-type {\n",
       "        vertical-align: middle;\n",
       "    }\n",
       "\n",
       "    .dataframe tbody tr th {\n",
       "        vertical-align: top;\n",
       "    }\n",
       "\n",
       "    .dataframe thead th {\n",
       "        text-align: right;\n",
       "    }\n",
       "</style>\n",
       "<table border=\"1\" class=\"dataframe\">\n",
       "  <thead>\n",
       "    <tr style=\"text-align: right;\">\n",
       "      <th></th>\n",
       "      <th>doi</th>\n",
       "      <th>year</th>\n",
       "      <th>number_authors</th>\n",
       "      <th>journal</th>\n",
       "      <th>title</th>\n",
       "      <th>abstract</th>\n",
       "      <th>author</th>\n",
       "      <th>affiliation</th>\n",
       "    </tr>\n",
       "  </thead>\n",
       "  <tbody>\n",
       "    <tr>\n",
       "      <th>0</th>\n",
       "      <td>10.1177/0306624X20923252</td>\n",
       "      <td>2020</td>\n",
       "      <td>4</td>\n",
       "      <td>Int J Offender Ther Comp Criminol</td>\n",
       "      <td>Assessing the Links Between Parenting Practice...</td>\n",
       "      <td>Parenting practices have direct effects on chi...</td>\n",
       "      <td>Seyyedeh Masoomeh Shamila   Shadmanfaat</td>\n",
       "      <td>University of Guilan, Rasht, Iran.</td>\n",
       "    </tr>\n",
       "  </tbody>\n",
       "</table>\n",
       "</div>"
      ],
      "text/plain": [
       "                        doi  year  number_authors  \\\n",
       "0  10.1177/0306624X20923252  2020               4   \n",
       "\n",
       "                             journal  \\\n",
       "0  Int J Offender Ther Comp Criminol   \n",
       "\n",
       "                                               title  \\\n",
       "0  Assessing the Links Between Parenting Practice...   \n",
       "\n",
       "                                            abstract  \\\n",
       "0  Parenting practices have direct effects on chi...   \n",
       "\n",
       "                                    author                         affiliation  \n",
       "0  Seyyedeh Masoomeh Shamila   Shadmanfaat  University of Guilan, Rasht, Iran.  "
      ]
     },
     "execution_count": 5,
     "metadata": {},
     "output_type": "execute_result"
    }
   ],
   "source": [
    "df.columns = ['doi', 'year', 'number_authors', 'journal', 'title','abstract','author', 'affiliation']\n",
    "df.head(n=1)"
   ]
  },
  {
   "cell_type": "raw",
   "metadata": {},
   "source": [
    "Although we can use pycountries or geotext to extract country names, there are a lot of problems with this approach.\n",
    "\n",
    "Pycountries for example recognises only the rigid format for countries like Iran as 'Iran, Islamic Republic of' and GeoText has problems with abbriviations, so countries like USA won't be recognised.\n",
    "\n",
    "Nevertheless, I have managed a workaround."
   ]
  },
  {
   "cell_type": "code",
   "execution_count": 6,
   "metadata": {
    "scrolled": false
   },
   "outputs": [],
   "source": [
    "\n",
    "df_n = df\n",
    "\n",
    "# Remove email addresses\n",
    "\n",
    "df_n['affiliation'] = df_n['affiliation'].str.replace('\\S*@\\S*\\s?','').str.replace(' +',' ').str.strip()\n",
    "\n",
    "# remove non-character symbols\n",
    "\n",
    "df_n['affiliation'] = df_n['affiliation'].str.replace('[^A-z ]','').str.replace(' +',' ').str.strip()\n",
    "\n",
    "# drop NAs\n",
    "\n",
    "df_n = df_n[df_n['affiliation'].notna()]"
   ]
  },
  {
   "cell_type": "code",
   "execution_count": 7,
   "metadata": {},
   "outputs": [],
   "source": [
    "# handling tricky countries to the best of my knowledge\n",
    "\n",
    "df_n['affiliation'] = df_n['affiliation'].str.replace('Iran','IR').str.replace(' +',' ')\n",
    "df_n['affiliation'] = df_n['affiliation'].str.replace('Korea',\"KR\").str.replace(' +',' ')\n",
    "df_n['affiliation'] = df_n['affiliation'].str.replace('Tanzania','TZ').str.replace(' +',' ')\n",
    "df_n['affiliation'] = df_n['affiliation'].str.replace('Venezuela','VE').str.replace(' +',' ')\n",
    "df_n['affiliation'] = df_n['affiliation'].str.replace('United States','USA').str.replace(' +',' ')\n",
    "df_n['affiliation'] = df_n['affiliation'].str.replace('USA of America','USA').str.replace(' +',' ')\n",
    "df_n['affiliation'] = df_n['affiliation'].str.replace('United Kingdom','UK').str.replace(' +',' ')\n",
    "df_n['affiliation'] = df_n['affiliation'].str.replace('Taiwan','TW').str.replace(' +',' ')\n",
    "\n",
    "\n",
    "df_n['affiliation'] = df_n['affiliation'].str.replace('Indiagrid','India').str.replace(' +',' ')\n",
    "df_n['affiliation'] = df_n['affiliation'].str.replace('New York','New York USA').str.replace(' +',' ')\n",
    "df_n['affiliation'] = df_n['affiliation'].str.replace('Dallas','Dallas USA').str.replace(' +',' ')\n",
    "df_n['affiliation'] = df_n['affiliation'].str.replace('Czech Republic','CZ').str.replace(' +',' ')\n",
    "df_n['affiliation'] = df_n['affiliation'].str.replace('Massachusetts','Massachusetts USA').str.replace(' +',' ')\n",
    "\n",
    "df_n['affiliation'] = df_n['affiliation'].str.replace('HoustonDowntown','HoustonDowntown USA').str.replace(' +',' ')\n",
    "df_n['affiliation'] = df_n['affiliation'].str.replace('Lisboa','Lisboa Portugal').str.replace(' +',' ')\n",
    "df_n['affiliation'] = df_n['affiliation'].str.replace('Hong Kong','HK').str.replace(' +',' ')\n",
    "df_n['affiliation'] = df_n['affiliation'].str.replace('Houston TX','Houston TX USA').str.replace(' +',' ')\n",
    "\n",
    "df_n['affiliation'] = df_n['affiliation'].str.replace('Tianjin','Tianjin China').str.replace(' +',' ')\n",
    "df_n['affiliation'] = df_n['affiliation'].str.replace('Peking University','Peking University China').str.replace(' +',' ')\n",
    "\n",
    "\n",
    "df_n['affiliation'] = df_n['affiliation'].str.replace('Tianjin','Tianjin China').str.replace(' +',' ')\n",
    "df_n['affiliation'] = df_n['affiliation'].str.replace('Tianjin','Tianjin China').str.replace(' +',' ')\n",
    "df_n['affiliation'] = df_n['affiliation'].str.replace('Pittsburg','Pittsburg USA').str.replace(' +',' ')\n",
    "\n",
    "df_n['affiliation'] = df_n['affiliation'].str.replace('California Davis','California Davis USA').str.replace(' +',' ')\n",
    "df_n['affiliation'] = df_n['affiliation'].str.replace('Viet Nam','VN').str.replace(' +',' ')\n",
    "df_n['affiliation'] = df_n['affiliation'].str.replace('New Zealand','NZ').str.replace(' +',' ')\n",
    "df_n['affiliation'] = df_n['affiliation'].str.replace('MI','Miami USA').str.replace(' +',' ')\n",
    "\n",
    "df_n['affiliation'] = df_n['affiliation'].str.replace('Utah','Utah USA').str.replace(' +',' ')\n",
    "df_n['affiliation'] = df_n['affiliation'].str.replace('Mount Sinai','Mount Sinai USA').str.replace(' +',' ')\n",
    "\n",
    "df_n['affiliation'] = df_n['affiliation'].str.replace('Russia','RU').str.replace(' +',' ')\n",
    "df_n['affiliation'] = df_n['affiliation'].str.replace('Russiagridd','RU').str.replace(' +',' ')\n",
    "df_n['affiliation'] = df_n['affiliation'].str.replace('Russiagrid','RU').str.replace(' +',' ')\n",
    "\n",
    "df_n['affiliation'] = df_n['affiliation'].str.replace('Tokyo','Tokyo Japan').str.replace(' +',' ')\n",
    "\n",
    "df_n['affiliation'] = df_n['affiliation'].str.replace('Wisconsin Parkside','Wiskonsin Parkside USA').str.replace(' +',' ')\n",
    "df_n['affiliation'] = df_n['affiliation'].str.replace('Penn State DuBois','Penn State DuBois USA').str.replace(' +',' ')\n",
    "\n",
    "df_n['affiliation'] = df_n['affiliation'].str.replace('California Irvine','California Irvine USA').str.replace(' +',' ')\n",
    "df_n['affiliation'] = df_n['affiliation'].str.replace('West Virginia University','West Virginia University USA').str.replace(' +',' ')\n",
    "\n",
    "df_n['affiliation'] = df_n['affiliation'].str.replace('IRgrid','IR').str.replace(' +',' ')\n",
    "df_n['affiliation'] = df_n['affiliation'].str.replace('North Carolina at Chapel Hill','North Carolina at Chapel Hill USA').str.replace(' +',' ')\n",
    "\n",
    "df_n['affiliation'] = df_n['affiliation'].str.replace('Champaign Illinois','Champaign Illinois USA').str.replace(' +',' ')\n",
    "\n",
    "df_n['affiliation'] = df_n['affiliation'].str.replace('Norwaygridf','Norway').str.replace(' +',' ')\n",
    "df_n['affiliation'] = df_n['affiliation'].str.replace('Belgiumgrid','Belgium').str.replace(' +',' ')\n",
    "\n",
    "df_n['affiliation'] = df_n['affiliation'].str.replace('Greecegrid','Greece').str.replace(' +',' ')\n",
    "\n",
    "df_n['affiliation'] = df_n['affiliation'].str.replace('Michigan','Michigan USA').str.replace(' +',' ')\n",
    "df_n['affiliation'] = df_n['affiliation'].str.replace('Tennessee','Tennessee USA').str.replace(' +',' ')\n",
    "\n",
    "df_n['affiliation'] = df_n['affiliation'].str.replace('YangMing University','YangMing University TW').str.replace(' +',' ')\n",
    "df_n['affiliation'] = df_n['affiliation'].str.replace('Seattle WA','Seattle WA USA').str.replace(' +',' ')\n",
    "\n",
    "df_n['affiliation'] = df_n['affiliation'].str.replace('Saudi Arabia','Saudi Arabia SA').str.replace(' +',' ')\n",
    "\n",
    "\n",
    "df_n['affiliation'] = df_n['affiliation'].str.replace('South Africa','South Africa ZA').str.replace(' +',' ')\n",
    "\n",
    "df_n['affiliation'] = df_n['affiliation'].str.replace('Indiaa','India').str.replace(' +',' ')\n",
    "\n",
    "df_n['affiliation'] = df_n['affiliation'].str.replace('Novi Sad','Novi Sad Serbia').str.replace(' +',' ')\n",
    "\n",
    "df_n['affiliation'] = df_n['affiliation'].str.replace('Japangridd','Japan').str.replace(' +',' ')\n",
    "df_n['affiliation'] = df_n['affiliation'].str.replace('Japangrid','Japan').str.replace(' +',' ')\n",
    "\n",
    "df_n['affiliation'] = df_n['affiliation'].str.replace('Beijing','Beijing China').str.replace(' +',' ')\n",
    "\n",
    "df_n['affiliation'] = df_n['affiliation'].str.replace('Beijing','Beijing China').str.replace(' +',' ')\n",
    "\n",
    "df_n['affiliation'] = df_n['affiliation'].str.replace('Chinese','China Chinese').str.replace(' +',' ')\n",
    "\n",
    "df_n['affiliation'] = df_n['affiliation'].str.replace('Taipei','TW Taipei').str.replace(' +',' ')\n",
    "df_n['affiliation'] = df_n['affiliation'].str.replace('German',' Germany').str.replace(' +',' ')\n",
    "\n",
    "df_n['affiliation'] = df_n['affiliation'].str.replace('Netherlands','Netherlands ').str.replace(' +',' ')\n",
    "\n",
    "df_n['affiliation'] = df_n['affiliation'].str.replace('Germanyy','Germany').str.replace(' +',' ')\n",
    "\n",
    "df_n['affiliation'] = df_n['affiliation'].str.replace('Totonto','Toronto Canada').str.replace(' +',' ')\n",
    "\n",
    "df_n['affiliation'] = df_n['affiliation'].str.replace('Edinburgh','Edinburgh UK').str.replace(' +',' ')\n",
    "\n",
    "\n",
    "\n"
   ]
  },
  {
   "cell_type": "code",
   "execution_count": 8,
   "metadata": {
    "scrolled": true
   },
   "outputs": [],
   "source": [
    "import pandas as pd\n",
    "import pycountry_convert as pc\n",
    "import pycountry\n",
    "from itertools import compress\n",
    "\n",
    "continents = {\n",
    "    'NA': 'North America',\n",
    "    'SA': 'South America', \n",
    "    'AS': 'APAC',\n",
    "    'OC': 'APAC',\n",
    "    'AF': 'Africa',\n",
    "    'EU': 'Europe'\n",
    "}\n",
    "\n",
    "regions = [\"APAC\", \"EMEA\", \"NA\", \"SA\"]\n",
    "\n",
    "lc = list(pycountry.countries)\n",
    "\n",
    "exceptions = {\"UK\": \"EMEA\"}\n",
    "countries = [lc[i].name for i in range(len(lc))] + \\\n",
    "            [lc[i].alpha_2 for i in range(len(lc))] + \\\n",
    "            [lc[i].alpha_3 for i in range(len(lc))] + [\"UK\"]\n",
    "        \n",
    "dataset = df_n\n",
    "\n",
    "# Assuming proper division of words\n",
    "dataset[\"Countries\"] = dataset[\"affiliation\"].apply(lambda x: [list(compress(x.split(\" \"), [x.split(\" \")[i] in countries for i in range(len(x.split(\" \")))])) + [\"Global\"]][0][0])\n",
    "\n",
    "for i in range(len(dataset)):\n",
    "    if dataset.iloc[i,3] == \"Local\":\n",
    "        try:\n",
    "            c = pc.country_name_to_country_alpha2(dataset.iloc[i,2], cn_name_format=\"default\")\n",
    "            c = pc.country_alpha2_to_continent_code(c)\n",
    "            dataset.iat[i,3] = c\n",
    "        except:\n",
    "            try:\n",
    "                c = pc.country_alpha2_to_continent_code(dataset.iloc[i,2])\n",
    "                dataset.iat[i,3] = c\n",
    "            except:\n",
    "                try:\n",
    "                    c = pc.country_alpha3_to_continent_code(dataset.iloc[i,2])\n",
    "                    dataset.iat[i,3] = c                    \n",
    "                except:\n",
    "                    if dataset.iloc[i,2] in list(exceptions.keys()):\n",
    "                        dataset.iat[i,3] = exceptions[dataset.iloc[i,2]]\n",
    "        try:\n",
    "            dataset.iat[i,3] = continents[dataset.iloc[i,3]]\n",
    "        except:\n",
    "            pass\n"
   ]
  },
  {
   "cell_type": "code",
   "execution_count": 9,
   "metadata": {},
   "outputs": [
    {
     "data": {
      "text/plain": [
       "229"
      ]
     },
     "execution_count": 9,
     "metadata": {},
     "output_type": "execute_result"
    }
   ],
   "source": [
    "len(dataset['Countries'].unique())"
   ]
  },
  {
   "cell_type": "code",
   "execution_count": 10,
   "metadata": {},
   "outputs": [
    {
     "data": {
      "text/plain": [
       "29981"
      ]
     },
     "execution_count": 10,
     "metadata": {},
     "output_type": "execute_result"
    }
   ],
   "source": [
    "len(dataset)"
   ]
  },
  {
   "cell_type": "raw",
   "metadata": {},
   "source": [
    "Removing Global tags, as these are missing info"
   ]
  },
  {
   "cell_type": "code",
   "execution_count": 11,
   "metadata": {},
   "outputs": [],
   "source": [
    "rm_list = ['Global']\n",
    "dataset = dataset[~dataset['Countries'].isin(rm_list)]\n"
   ]
  },
  {
   "cell_type": "code",
   "execution_count": 12,
   "metadata": {
    "scrolled": true
   },
   "outputs": [
    {
     "data": {
      "text/plain": [
       "25482"
      ]
     },
     "execution_count": 12,
     "metadata": {},
     "output_type": "execute_result"
    }
   ],
   "source": [
    "'We are left with this many'\n",
    "len(dataset)"
   ]
  },
  {
   "cell_type": "raw",
   "metadata": {},
   "source": [
    "Additionally, let's clean the names of countries from 'affiliation' to get only university names.\n"
   ]
  },
  {
   "cell_type": "code",
   "execution_count": 13,
   "metadata": {},
   "outputs": [],
   "source": [
    "iso_code = {'Afghanistan': 'AF',\n",
    " 'Albania': 'AL',\n",
    " 'Algeria': 'DZ',\n",
    " 'American Samoa': 'AS',\n",
    " 'Andorra': 'AD',\n",
    " 'Angola': 'AO',\n",
    " 'Anguilla': 'AI',\n",
    " 'Antarctica': 'AQ',\n",
    " 'Antigua and Barbuda': 'AG',\n",
    " 'Argentina': 'AR',\n",
    " 'Armenia': 'AM',\n",
    " 'Aruba': 'AW',\n",
    " 'Australia': 'AU',\n",
    " 'Austria': 'AT',\n",
    " 'Azerbaijan': 'AZ',\n",
    " 'Bahamas': 'BS',\n",
    " 'Bahrain': 'BH',\n",
    " 'Bangladesh': 'BD',\n",
    " 'Barbados': 'BB',\n",
    " 'Belarus': 'BY',\n",
    " 'Belgium': 'BE',\n",
    " 'Belize': 'BZ',\n",
    " 'Benin': 'BJ',\n",
    " 'Bermuda': 'BM',\n",
    " 'Bhutan': 'BT',\n",
    " 'Bolivia, Plurinational State of': 'BO',\n",
    " 'Bonaire, Sint Eustatius and Saba': 'BQ',\n",
    " 'Bosnia and Herzegovina': 'BA',\n",
    " 'Botswana': 'BW',\n",
    " 'Bouvet Island': 'BV',\n",
    " 'Brazil': 'BR',\n",
    " 'British Indian Ocean Territory': 'IO',\n",
    " 'Brunei Darussalam': 'BN',\n",
    " 'Bulgaria': 'BG',\n",
    " 'Burkina Faso': 'BF',\n",
    " 'Burundi': 'BI',\n",
    " 'Cambodia': 'KH',\n",
    " 'Cameroon': 'CM',\n",
    " 'Canada': 'CA',\n",
    " 'Cape Verde': 'CV',\n",
    " 'Cayman Islands': 'KY',\n",
    " 'Central African Republic': 'CF',\n",
    " 'Chad': 'TD',\n",
    " 'Chile': 'CL',\n",
    " 'China': 'CN',\n",
    " 'Christmas Island': 'CX',\n",
    " 'Cocos (Keeling) Islands': 'CC',\n",
    " 'Colombia': 'CO',\n",
    " 'Comoros': 'KM',\n",
    " 'Congo': 'CG',\n",
    " 'Congo, the Democratic Republic of the': 'CD',\n",
    " 'Cook Islands': 'CK',\n",
    " 'Costa Rica': 'CR',\n",
    " 'Country name': 'Code',\n",
    " 'Croatia': 'HR',\n",
    " 'Cuba': 'CU',\n",
    " 'Curaçao': 'CW',\n",
    " 'Cyprus': 'CY',\n",
    " 'Czech Republic': 'CZ',\n",
    " \"Côte d'Ivoire\": 'CI',\n",
    " 'Denmark': 'DK',\n",
    " 'Djibouti': 'DJ',\n",
    " 'Dominica': 'DM',\n",
    " 'Dominican Republic': 'DO',\n",
    " 'Ecuador': 'EC',\n",
    " 'Egypt': 'EG',\n",
    " 'El Salvador': 'SV',\n",
    " 'Equatorial Guinea': 'GQ',\n",
    " 'Eritrea': 'ER',\n",
    " 'Estonia': 'EE',\n",
    " 'Ethiopia': 'ET',\n",
    " 'Falkland Islands (Malvinas)': 'FK',\n",
    " 'Faroe Islands': 'FO',\n",
    " 'Fiji': 'FJ',\n",
    " 'Finland': 'FI',\n",
    " 'France': 'FR',\n",
    " 'French Guiana': 'GF',\n",
    " 'French Polynesia': 'PF',\n",
    " 'French Southern Territories': 'TF',\n",
    " 'Gabon': 'GA',\n",
    " 'Gambia': 'GM',\n",
    " 'Georgia': 'GE',\n",
    " 'Germany': 'DE',\n",
    " 'Ghana': 'GH',\n",
    " 'Gibraltar': 'GI',\n",
    " 'Greece': 'GR',\n",
    " 'Greenland': 'GL',\n",
    " 'Grenada': 'GD',\n",
    " 'Guadeloupe': 'GP',\n",
    " 'Guam': 'GU',\n",
    " 'Guatemala': 'GT',\n",
    " 'Guernsey': 'GG',\n",
    " 'Guinea': 'GN',\n",
    " 'Guinea-Bissau': 'GW',\n",
    " 'Guyana': 'GY',\n",
    " 'Haiti': 'HT',\n",
    " 'Heard Island and McDonald Islands': 'HM',\n",
    " 'Holy See (Vatican City State)': 'VA',\n",
    " 'Honduras': 'HN',\n",
    " 'Hong Kong': 'HK',\n",
    " 'Hungary': 'HU',\n",
    " 'ISO 3166-2:GB': '(.uk)',\n",
    " 'Iceland': 'IS',\n",
    " 'India': 'IN',\n",
    " 'Indonesia': 'ID',\n",
    " 'Iran, Islamic Republic of': 'IR',\n",
    " 'Iraq': 'IQ',\n",
    " 'Ireland': 'IE',\n",
    " 'Isle of Man': 'IM',\n",
    " 'Israel': 'IL',\n",
    " 'Italy': 'IT',\n",
    " 'Jamaica': 'JM',\n",
    " 'Japan': 'JP',\n",
    " 'Jersey': 'JE',\n",
    " 'Jordan': 'JO',\n",
    " 'Kazakhstan': 'KZ',\n",
    " 'Kenya': 'KE',\n",
    " 'Kiribati': 'KI',\n",
    " \"Korea, Democratic People's Republic of\": 'KP',\n",
    " 'Korea, Republic of': 'KR',\n",
    " 'Kuwait': 'KW',\n",
    " 'Kyrgyzstan': 'KG',\n",
    " \"Lao People's Democratic Republic\": 'LA',\n",
    " 'Latvia': 'LV',\n",
    " 'Lebanon': 'LB',\n",
    " 'Lesotho': 'LS',\n",
    " 'Liberia': 'LR',\n",
    " 'Libya': 'LY',\n",
    " 'Liechtenstein': 'LI',\n",
    " 'Lithuania': 'LT',\n",
    " 'Luxembourg': 'LU',\n",
    " 'Macao': 'MO',\n",
    " 'Macedonia, the former Yugoslav Republic of': 'MK',\n",
    " 'Madagascar': 'MG',\n",
    " 'Malawi': 'MW',\n",
    " 'Malaysia': 'MY',\n",
    " 'Maldives': 'MV',\n",
    " 'Mali': 'ML',\n",
    " 'Malta': 'MT',\n",
    " 'Marshall Islands': 'MH',\n",
    " 'Martinique': 'MQ',\n",
    " 'Mauritania': 'MR',\n",
    " 'Mauritius': 'MU',\n",
    " 'Mayotte': 'YT',\n",
    " 'Mexico': 'MX',\n",
    " 'Micronesia, Federated States of': 'FM',\n",
    " 'Moldova, Republic of': 'MD',\n",
    " 'Monaco': 'MC',\n",
    " 'Mongolia': 'MN',\n",
    " 'Montenegro': 'ME',\n",
    " 'Montserrat': 'MS',\n",
    " 'Morocco': 'MA',\n",
    " 'Mozambique': 'MZ',\n",
    " 'Myanmar': 'MM',\n",
    " 'Namibia': 'NA',\n",
    " 'Nauru': 'NR',\n",
    " 'Nepal': 'NP',\n",
    " 'Netherlands': 'NL',\n",
    " 'New Caledonia': 'NC',\n",
    " 'New Zealand': 'NZ',\n",
    " 'Nicaragua': 'NI',\n",
    " 'Niger': 'NE',\n",
    " 'Nigeria': 'NG',\n",
    " 'Niue': 'NU',\n",
    " 'Norfolk Island': 'NF',\n",
    " 'Northern Mariana Islands': 'MP',\n",
    " 'Norway': 'NO',\n",
    " 'Oman': 'OM',\n",
    " 'Pakistan': 'PK',\n",
    " 'Palau': 'PW',\n",
    " 'Palestine, State of': 'PS',\n",
    " 'Panama': 'PA',\n",
    " 'Papua New Guinea': 'PG',\n",
    " 'Paraguay': 'PY',\n",
    " 'Peru': 'PE',\n",
    " 'Philippines': 'PH',\n",
    " 'Pitcairn': 'PN',\n",
    " 'Poland': 'PL',\n",
    " 'Portugal': 'PT',\n",
    " 'Puerto Rico': 'PR',\n",
    " 'Qatar': 'QA',\n",
    " 'Romania': 'RO',\n",
    " 'Russian Federation': 'RU',\n",
    " 'Rwanda': 'RW',\n",
    " 'Réunion': 'RE',\n",
    " 'Saint Barthélemy': 'BL',\n",
    " 'Saint Helena, Ascension and Tristan da Cunha': 'SH',\n",
    " 'Saint Kitts and Nevis': 'KN',\n",
    " 'Saint Lucia': 'LC',\n",
    " 'Saint Martin (French part)': 'MF',\n",
    " 'Saint Pierre and Miquelon': 'PM',\n",
    " 'Saint Vincent and the Grenadines': 'VC',\n",
    " 'Samoa': 'WS',\n",
    " 'San Marino': 'SM',\n",
    " 'Sao Tome and Principe': 'ST',\n",
    " 'Saudi Arabia': 'SA',\n",
    " 'Senegal': 'SN',\n",
    " 'Serbia': 'RS',\n",
    " 'Seychelles': 'SC',\n",
    " 'Sierra Leone': 'SL',\n",
    " 'Singapore': 'SG',\n",
    " 'Sint Maarten (Dutch part)': 'SX',\n",
    " 'Slovakia': 'SK',\n",
    " 'Slovenia': 'SI',\n",
    " 'Solomon Islands': 'SB',\n",
    " 'Somalia': 'SO',\n",
    " 'South Africa': 'ZA',\n",
    "           'Switzerland': 'CH',\n",
    "           'Sweden': 'SE',\n",
    "           'Spain': 'ES',\n",
    "           'Uruguay': 'UY',\n",
    "           'Ukraine': 'UA',\n",
    "           'Turkey': 'TR',\n",
    "           'Uganda': 'UG',\n",
    "           'Czechia': 'CZ',\n",
    "           'Tunisia': 'TN',\n",
    "           'Thailand': 'TH'}"
   ]
  },
  {
   "cell_type": "code",
   "execution_count": 14,
   "metadata": {},
   "outputs": [
    {
     "data": {
      "text/html": [
       "<div>\n",
       "<style scoped>\n",
       "    .dataframe tbody tr th:only-of-type {\n",
       "        vertical-align: middle;\n",
       "    }\n",
       "\n",
       "    .dataframe tbody tr th {\n",
       "        vertical-align: top;\n",
       "    }\n",
       "\n",
       "    .dataframe thead th {\n",
       "        text-align: right;\n",
       "    }\n",
       "</style>\n",
       "<table border=\"1\" class=\"dataframe\">\n",
       "  <thead>\n",
       "    <tr style=\"text-align: right;\">\n",
       "      <th></th>\n",
       "      <th>doi</th>\n",
       "      <th>year</th>\n",
       "      <th>number_authors</th>\n",
       "      <th>journal</th>\n",
       "      <th>title</th>\n",
       "      <th>abstract</th>\n",
       "      <th>author</th>\n",
       "      <th>affiliation</th>\n",
       "      <th>Countries</th>\n",
       "    </tr>\n",
       "  </thead>\n",
       "  <tbody>\n",
       "    <tr>\n",
       "      <th>0</th>\n",
       "      <td>10.1177/0306624X20923252</td>\n",
       "      <td>2020</td>\n",
       "      <td>4</td>\n",
       "      <td>Int J Offender Ther Comp Criminol</td>\n",
       "      <td>Assessing the Links Between Parenting Practice...</td>\n",
       "      <td>Parenting practices have direct effects on chi...</td>\n",
       "      <td>Seyyedeh Masoomeh Shamila   Shadmanfaat</td>\n",
       "      <td>University of Guilan Rasht IR</td>\n",
       "      <td>IR</td>\n",
       "    </tr>\n",
       "    <tr>\n",
       "      <th>1</th>\n",
       "      <td>10.1177/0306624X20923252</td>\n",
       "      <td>2020</td>\n",
       "      <td>4</td>\n",
       "      <td>Int J Offender Ther Comp Criminol</td>\n",
       "      <td>Assessing the Links Between Parenting Practice...</td>\n",
       "      <td>Parenting practices have direct effects on chi...</td>\n",
       "      <td>Jaeyong   Choi</td>\n",
       "      <td>Angelo State University San Angelo TX USA</td>\n",
       "      <td>USA</td>\n",
       "    </tr>\n",
       "    <tr>\n",
       "      <th>2</th>\n",
       "      <td>10.1177/0306624X20923252</td>\n",
       "      <td>2020</td>\n",
       "      <td>4</td>\n",
       "      <td>Int J Offender Ther Comp Criminol</td>\n",
       "      <td>Assessing the Links Between Parenting Practice...</td>\n",
       "      <td>Parenting practices have direct effects on chi...</td>\n",
       "      <td>Saeed   Kabiri</td>\n",
       "      <td>University of Mazandaran Babolsar IR</td>\n",
       "      <td>IR</td>\n",
       "    </tr>\n",
       "    <tr>\n",
       "      <th>3</th>\n",
       "      <td>10.1177/0306624X20923252</td>\n",
       "      <td>2020</td>\n",
       "      <td>4</td>\n",
       "      <td>Int J Offender Ther Comp Criminol</td>\n",
       "      <td>Assessing the Links Between Parenting Practice...</td>\n",
       "      <td>Parenting practices have direct effects on chi...</td>\n",
       "      <td>Ilhong   Yun</td>\n",
       "      <td>Chosun University Gwangju KR</td>\n",
       "      <td>KR</td>\n",
       "    </tr>\n",
       "    <tr>\n",
       "      <th>4</th>\n",
       "      <td>10.1371/journal.pcbi.1007465</td>\n",
       "      <td>2020</td>\n",
       "      <td>2</td>\n",
       "      <td>PLoS Comput Biol</td>\n",
       "      <td>Modeling the effects of motivation on choice a...</td>\n",
       "      <td>Decision making relies on adequately evaluatin...</td>\n",
       "      <td>Maaike M H   van Swieten</td>\n",
       "      <td>MRC Brain Network Dynamics Unit University of ...</td>\n",
       "      <td>UK</td>\n",
       "    </tr>\n",
       "  </tbody>\n",
       "</table>\n",
       "</div>"
      ],
      "text/plain": [
       "                            doi  year  number_authors  \\\n",
       "0      10.1177/0306624X20923252  2020               4   \n",
       "1      10.1177/0306624X20923252  2020               4   \n",
       "2      10.1177/0306624X20923252  2020               4   \n",
       "3      10.1177/0306624X20923252  2020               4   \n",
       "4  10.1371/journal.pcbi.1007465  2020               2   \n",
       "\n",
       "                             journal  \\\n",
       "0  Int J Offender Ther Comp Criminol   \n",
       "1  Int J Offender Ther Comp Criminol   \n",
       "2  Int J Offender Ther Comp Criminol   \n",
       "3  Int J Offender Ther Comp Criminol   \n",
       "4                   PLoS Comput Biol   \n",
       "\n",
       "                                               title  \\\n",
       "0  Assessing the Links Between Parenting Practice...   \n",
       "1  Assessing the Links Between Parenting Practice...   \n",
       "2  Assessing the Links Between Parenting Practice...   \n",
       "3  Assessing the Links Between Parenting Practice...   \n",
       "4  Modeling the effects of motivation on choice a...   \n",
       "\n",
       "                                            abstract  \\\n",
       "0  Parenting practices have direct effects on chi...   \n",
       "1  Parenting practices have direct effects on chi...   \n",
       "2  Parenting practices have direct effects on chi...   \n",
       "3  Parenting practices have direct effects on chi...   \n",
       "4  Decision making relies on adequately evaluatin...   \n",
       "\n",
       "                                    author  \\\n",
       "0  Seyyedeh Masoomeh Shamila   Shadmanfaat   \n",
       "1                           Jaeyong   Choi   \n",
       "2                           Saeed   Kabiri   \n",
       "3                             Ilhong   Yun   \n",
       "4                 Maaike M H   van Swieten   \n",
       "\n",
       "                                         affiliation Countries  \n",
       "0                      University of Guilan Rasht IR        IR  \n",
       "1          Angelo State University San Angelo TX USA       USA  \n",
       "2               University of Mazandaran Babolsar IR        IR  \n",
       "3                       Chosun University Gwangju KR        KR  \n",
       "4  MRC Brain Network Dynamics Unit University of ...        UK  "
      ]
     },
     "execution_count": 14,
     "metadata": {},
     "output_type": "execute_result"
    }
   ],
   "source": [
    "dataset.head()"
   ]
  },
  {
   "cell_type": "code",
   "execution_count": 15,
   "metadata": {},
   "outputs": [],
   "source": [
    "dataset[\"affiliation\"] = dataset[\"affiliation\"].replace(iso_code)"
   ]
  },
  {
   "cell_type": "code",
   "execution_count": 16,
   "metadata": {
    "scrolled": false
   },
   "outputs": [],
   "source": [
    "dataset[\"Countries\"] = dataset[\"Countries\"].replace(iso_code)"
   ]
  },
  {
   "cell_type": "code",
   "execution_count": 17,
   "metadata": {},
   "outputs": [],
   "source": [
    "remove_words = iso_code.values() "
   ]
  },
  {
   "cell_type": "code",
   "execution_count": 18,
   "metadata": {
    "scrolled": true
   },
   "outputs": [],
   "source": [
    "pat = r'\\b(?:{})\\b'.format('|'.join(remove_words))\n",
    "dataset['affiliation'] = dataset['affiliation'].str.replace(pat, '')\n"
   ]
  },
  {
   "cell_type": "code",
   "execution_count": 19,
   "metadata": {},
   "outputs": [
    {
     "data": {
      "text/plain": [
       "25482"
      ]
     },
     "execution_count": 19,
     "metadata": {},
     "output_type": "execute_result"
    }
   ],
   "source": [
    "'researchers'\n",
    "len(dataset)"
   ]
  },
  {
   "cell_type": "code",
   "execution_count": 20,
   "metadata": {},
   "outputs": [
    {
     "data": {
      "text/plain": [
       "10504"
      ]
     },
     "execution_count": 20,
     "metadata": {},
     "output_type": "execute_result"
    }
   ],
   "source": [
    "'institutes'\n",
    "len(dataset['affiliation'].unique())"
   ]
  },
  {
   "cell_type": "code",
   "execution_count": 21,
   "metadata": {},
   "outputs": [
    {
     "data": {
      "text/plain": [
       "179"
      ]
     },
     "execution_count": 21,
     "metadata": {},
     "output_type": "execute_result"
    }
   ],
   "source": [
    "'countries'\n",
    "len(dataset['Countries'].unique())"
   ]
  },
  {
   "cell_type": "code",
   "execution_count": 22,
   "metadata": {},
   "outputs": [],
   "source": [
    "name = '/home/mrinalmanu/Desktop/metagen_project/pre_cleaned_DF'\n",
    "#dataset.to_csv(name, index=False)"
   ]
  },
  {
   "cell_type": "code",
   "execution_count": null,
   "metadata": {},
   "outputs": [],
   "source": []
  }
 ],
 "metadata": {
  "kernelspec": {
   "display_name": "Python 3",
   "language": "python",
   "name": "python3"
  },
  "language_info": {
   "codemirror_mode": {
    "name": "ipython",
    "version": 3
   },
   "file_extension": ".py",
   "mimetype": "text/x-python",
   "name": "python",
   "nbconvert_exporter": "python",
   "pygments_lexer": "ipython3",
   "version": "3.7.4"
  }
 },
 "nbformat": 4,
 "nbformat_minor": 2
}
