{
 "cells": [
  {
   "cell_type": "code",
   "execution_count": 1,
   "metadata": {},
   "outputs": [],
   "source": [
    "# tutorial inspiration from:\n",
    "# https://www.kaggle.com/mohitr/topic-modeling-of-paper-abstracts\n",
    "\n",
    "#!pip install sklearn\n",
    "#!pip install gensim\n",
    "#!pip install pyLDAvis\n",
    "\n",
    "import pandas as pd\n"
   ]
  },
  {
   "cell_type": "code",
   "execution_count": 2,
   "metadata": {},
   "outputs": [],
   "source": [
    "# Load in the dataframe\n",
    "df = pd.read_csv(\"/home/mrinalmanu/Desktop/metagen_project/BIG_DF\")"
   ]
  },
  {
   "cell_type": "code",
   "execution_count": 3,
   "metadata": {},
   "outputs": [
    {
     "data": {
      "text/html": [
       "<div>\n",
       "<style scoped>\n",
       "    .dataframe tbody tr th:only-of-type {\n",
       "        vertical-align: middle;\n",
       "    }\n",
       "\n",
       "    .dataframe tbody tr th {\n",
       "        vertical-align: top;\n",
       "    }\n",
       "\n",
       "    .dataframe thead th {\n",
       "        text-align: right;\n",
       "    }\n",
       "</style>\n",
       "<table border=\"1\" class=\"dataframe\">\n",
       "  <thead>\n",
       "    <tr style=\"text-align: right;\">\n",
       "      <th></th>\n",
       "      <th>rank display</th>\n",
       "      <th>country code</th>\n",
       "      <th>country</th>\n",
       "      <th>size</th>\n",
       "      <th>focus</th>\n",
       "      <th>research</th>\n",
       "      <th>age band</th>\n",
       "      <th>doi</th>\n",
       "      <th>year</th>\n",
       "      <th>number_authors</th>\n",
       "      <th>...</th>\n",
       "      <th>title</th>\n",
       "      <th>abstract</th>\n",
       "      <th>author</th>\n",
       "      <th>affiliation_y</th>\n",
       "      <th>latitude</th>\n",
       "      <th>longitude</th>\n",
       "      <th>continent</th>\n",
       "      <th>fuzzy_matched_QS</th>\n",
       "      <th>original_affiliation</th>\n",
       "      <th>Token_Set_Ratio</th>\n",
       "    </tr>\n",
       "  </thead>\n",
       "  <tbody>\n",
       "    <tr>\n",
       "      <th>0</th>\n",
       "      <td>1</td>\n",
       "      <td>US</td>\n",
       "      <td>United States</td>\n",
       "      <td>M</td>\n",
       "      <td>CO</td>\n",
       "      <td>VH</td>\n",
       "      <td>5.0</td>\n",
       "      <td>10.2196/22635</td>\n",
       "      <td>2020</td>\n",
       "      <td>14</td>\n",
       "      <td>...</td>\n",
       "      <td>Natural Language Processing Reveals Vulnerable...</td>\n",
       "      <td>The COVID-19 pandemic is impacting mental heal...</td>\n",
       "      <td>Laurie   Rumker</td>\n",
       "      <td>Department of Brain and Cognitive Sciences Mas...</td>\n",
       "      <td>37.09024</td>\n",
       "      <td>-95.712891</td>\n",
       "      <td>North America</td>\n",
       "      <td>Massachusetts Institute of Technology (MIT)</td>\n",
       "      <td>Department of Brain and Cognitive Sciences Mas...</td>\n",
       "      <td>95</td>\n",
       "    </tr>\n",
       "  </tbody>\n",
       "</table>\n",
       "<p>1 rows × 21 columns</p>\n",
       "</div>"
      ],
      "text/plain": [
       "  rank display country code        country size focus research  age band  \\\n",
       "0            1           US  United States    M    CO       VH       5.0   \n",
       "\n",
       "             doi  year  number_authors  ...  \\\n",
       "0  10.2196/22635  2020              14  ...   \n",
       "\n",
       "                                               title  \\\n",
       "0  Natural Language Processing Reveals Vulnerable...   \n",
       "\n",
       "                                            abstract           author  \\\n",
       "0  The COVID-19 pandemic is impacting mental heal...  Laurie   Rumker   \n",
       "\n",
       "                                       affiliation_y  latitude  longitude  \\\n",
       "0  Department of Brain and Cognitive Sciences Mas...  37.09024 -95.712891   \n",
       "\n",
       "       continent                             fuzzy_matched_QS  \\\n",
       "0  North America  Massachusetts Institute of Technology (MIT)   \n",
       "\n",
       "                                original_affiliation Token_Set_Ratio  \n",
       "0  Department of Brain and Cognitive Sciences Mas...              95  \n",
       "\n",
       "[1 rows x 21 columns]"
      ]
     },
     "execution_count": 3,
     "metadata": {},
     "output_type": "execute_result"
    }
   ],
   "source": [
    "df.head(1)"
   ]
  },
  {
   "cell_type": "code",
   "execution_count": 4,
   "metadata": {},
   "outputs": [
    {
     "data": {
      "text/plain": [
       "['rank display',\n",
       " 'country code',\n",
       " 'country',\n",
       " 'size',\n",
       " 'focus',\n",
       " 'research',\n",
       " 'age band',\n",
       " 'doi',\n",
       " 'year',\n",
       " 'number_authors',\n",
       " 'journal',\n",
       " 'title',\n",
       " 'abstract',\n",
       " 'author',\n",
       " 'affiliation_y',\n",
       " 'latitude',\n",
       " 'longitude',\n",
       " 'continent',\n",
       " 'fuzzy_matched_QS',\n",
       " 'original_affiliation',\n",
       " 'Token_Set_Ratio']"
      ]
     },
     "execution_count": 4,
     "metadata": {},
     "output_type": "execute_result"
    }
   ],
   "source": [
    "list(df.columns.values) "
   ]
  },
  {
   "cell_type": "raw",
   "metadata": {},
   "source": [
    "Let's do a quick topic modeling for these papers to see if we are on the right track."
   ]
  },
  {
   "cell_type": "code",
   "execution_count": 5,
   "metadata": {},
   "outputs": [
    {
     "name": "stderr",
     "output_type": "stream",
     "text": [
      "/home/mrinalmanu/miniconda3/lib/python3.7/site-packages/matplotlib/__init__.py:107: DeprecationWarning: Using or importing the ABCs from 'collections' instead of from 'collections.abc' is deprecated, and in 3.8 it will stop working\n",
      "  from collections import MutableMapping\n",
      "/home/mrinalmanu/miniconda3/lib/python3.7/site-packages/matplotlib/rcsetup.py:20: DeprecationWarning: Using or importing the ABCs from 'collections' instead of from 'collections.abc' is deprecated, and in 3.8 it will stop working\n",
      "  from collections import Iterable, Mapping\n",
      "/home/mrinalmanu/miniconda3/lib/python3.7/site-packages/matplotlib/rcsetup.py:20: DeprecationWarning: Using or importing the ABCs from 'collections' instead of from 'collections.abc' is deprecated, and in 3.8 it will stop working\n",
      "  from collections import Iterable, Mapping\n",
      "/home/mrinalmanu/miniconda3/lib/python3.7/site-packages/matplotlib/colors.py:53: DeprecationWarning: Using or importing the ABCs from 'collections' instead of from 'collections.abc' is deprecated, and in 3.8 it will stop working\n",
      "  from collections import Sized\n"
     ]
    }
   ],
   "source": [
    "import pandas as pd \n",
    "from nltk.tokenize import word_tokenize\n",
    "from nltk.corpus import stopwords\n",
    "from nltk.corpus import wordnet\n",
    "from nltk.stem import WordNetLemmatizer\n",
    "from sklearn.feature_extraction.text import CountVectorizer, TfidfVectorizer\n",
    "from sklearn.decomposition import LatentDirichletAllocation\n",
    "import gensim\n",
    "import gensim.corpora as corpora\n",
    "import re\n",
    "import numpy as np\n",
    "from pprint import pprint\n",
    "import pyLDAvis\n",
    "import pyLDAvis.gensim\n",
    "import matplotlib.pyplot as plt\n",
    "%matplotlib inline\n",
    "import warnings\n",
    "warnings.filterwarnings(\"ignore\",category=DeprecationWarning)"
   ]
  },
  {
   "cell_type": "code",
   "execution_count": 6,
   "metadata": {},
   "outputs": [],
   "source": [
    "papers = df.loc[:, ['doi', 'year', 'title', 'abstract', 'author', 'affiliation_y', 'country', 'fuzzy_matched_QS']]"
   ]
  },
  {
   "cell_type": "code",
   "execution_count": 7,
   "metadata": {},
   "outputs": [
    {
     "data": {
      "text/html": [
       "<div>\n",
       "<style scoped>\n",
       "    .dataframe tbody tr th:only-of-type {\n",
       "        vertical-align: middle;\n",
       "    }\n",
       "\n",
       "    .dataframe tbody tr th {\n",
       "        vertical-align: top;\n",
       "    }\n",
       "\n",
       "    .dataframe thead th {\n",
       "        text-align: right;\n",
       "    }\n",
       "</style>\n",
       "<table border=\"1\" class=\"dataframe\">\n",
       "  <thead>\n",
       "    <tr style=\"text-align: right;\">\n",
       "      <th></th>\n",
       "      <th>doi</th>\n",
       "      <th>year</th>\n",
       "      <th>title</th>\n",
       "      <th>abstract</th>\n",
       "      <th>author</th>\n",
       "      <th>affiliation_y</th>\n",
       "      <th>country</th>\n",
       "      <th>fuzzy_matched_QS</th>\n",
       "    </tr>\n",
       "  </thead>\n",
       "  <tbody>\n",
       "    <tr>\n",
       "      <th>0</th>\n",
       "      <td>10.2196/22635</td>\n",
       "      <td>2020</td>\n",
       "      <td>Natural Language Processing Reveals Vulnerable...</td>\n",
       "      <td>The COVID-19 pandemic is impacting mental heal...</td>\n",
       "      <td>Laurie   Rumker</td>\n",
       "      <td>Department of Brain and Cognitive Sciences Mas...</td>\n",
       "      <td>United States</td>\n",
       "      <td>Massachusetts Institute of Technology (MIT)</td>\n",
       "    </tr>\n",
       "  </tbody>\n",
       "</table>\n",
       "</div>"
      ],
      "text/plain": [
       "             doi  year                                              title  \\\n",
       "0  10.2196/22635  2020  Natural Language Processing Reveals Vulnerable...   \n",
       "\n",
       "                                            abstract           author  \\\n",
       "0  The COVID-19 pandemic is impacting mental heal...  Laurie   Rumker   \n",
       "\n",
       "                                       affiliation_y        country  \\\n",
       "0  Department of Brain and Cognitive Sciences Mas...  United States   \n",
       "\n",
       "                              fuzzy_matched_QS  \n",
       "0  Massachusetts Institute of Technology (MIT)  "
      ]
     },
     "execution_count": 7,
     "metadata": {},
     "output_type": "execute_result"
    }
   ],
   "source": [
    "papers.head(n=1)"
   ]
  },
  {
   "cell_type": "code",
   "execution_count": 8,
   "metadata": {},
   "outputs": [],
   "source": [
    "abstracts = papers.groupby(['abstract'], as_index=False, sort=False).agg(' | '.join)\n"
   ]
  },
  {
   "cell_type": "code",
   "execution_count": 9,
   "metadata": {},
   "outputs": [
    {
     "data": {
      "text/html": [
       "<div>\n",
       "<style scoped>\n",
       "    .dataframe tbody tr th:only-of-type {\n",
       "        vertical-align: middle;\n",
       "    }\n",
       "\n",
       "    .dataframe tbody tr th {\n",
       "        vertical-align: top;\n",
       "    }\n",
       "\n",
       "    .dataframe thead th {\n",
       "        text-align: right;\n",
       "    }\n",
       "</style>\n",
       "<table border=\"1\" class=\"dataframe\">\n",
       "  <thead>\n",
       "    <tr style=\"text-align: right;\">\n",
       "      <th></th>\n",
       "      <th>abstract</th>\n",
       "      <th>title</th>\n",
       "      <th>author</th>\n",
       "      <th>affiliation_y</th>\n",
       "      <th>country</th>\n",
       "      <th>fuzzy_matched_QS</th>\n",
       "    </tr>\n",
       "  </thead>\n",
       "  <tbody>\n",
       "    <tr>\n",
       "      <th>0</th>\n",
       "      <td>The COVID-19 pandemic is impacting mental heal...</td>\n",
       "      <td>Natural Language Processing Reveals Vulnerable...</td>\n",
       "      <td>Laurie   Rumker | Tanya   Talkar | Daniel M   ...</td>\n",
       "      <td>Department of Brain and Cognitive Sciences Mas...</td>\n",
       "      <td>United States | United States | United States ...</td>\n",
       "      <td>Massachusetts Institute of Technology (MIT) | ...</td>\n",
       "    </tr>\n",
       "    <tr>\n",
       "      <th>1</th>\n",
       "      <td>Brain regions in the \"pain matrix\", can be act...</td>\n",
       "      <td>Empathic control through coordinated interacti...</td>\n",
       "      <td>Nir   Jacoby | Rebecca   Saxe | Emile G   Brun...</td>\n",
       "      <td>Department of Brain and Cognitive Sciences Mas...</td>\n",
       "      <td>United States | United States | United States ...</td>\n",
       "      <td>Massachusetts Institute of Technology (MIT) | ...</td>\n",
       "    </tr>\n",
       "    <tr>\n",
       "      <th>2</th>\n",
       "      <td>During embryonic development of bilaterally sy...</td>\n",
       "      <td>Characterizing the diverse cells that associat...</td>\n",
       "      <td>N   PenkoffLidbeck | C   Schneider | M S   Sch...</td>\n",
       "      <td>Computational and Systems Biology Massachusett...</td>\n",
       "      <td>United States | United States | Canada | Unite...</td>\n",
       "      <td>Massachusetts Institute of Technology (MIT) | ...</td>\n",
       "    </tr>\n",
       "    <tr>\n",
       "      <th>3</th>\n",
       "      <td>Zebra finches (Taeniopygia guttata) are labora...</td>\n",
       "      <td>Campylobacter taeniopygiae sp. nov., Campyloba...</td>\n",
       "      <td>Erin   Bryant | Zeli   Shen | Anthony   Mannio...</td>\n",
       "      <td>Division of Comparative Medicine Massachusetts...</td>\n",
       "      <td>United States | United States | United States ...</td>\n",
       "      <td>Massachusetts Institute of Technology (MIT) | ...</td>\n",
       "    </tr>\n",
       "    <tr>\n",
       "      <th>4</th>\n",
       "      <td>Non-recurrent deep convolutional neural networ...</td>\n",
       "      <td>Evidence that recurrent circuits are critical ...</td>\n",
       "      <td>Kohitij   Kar | Kailyn   Schmidt | James J   D...</td>\n",
       "      <td>McGovern Institute for Brain Research and Depa...</td>\n",
       "      <td>United States | United States | United States ...</td>\n",
       "      <td>Massachusetts Institute of Technology (MIT) | ...</td>\n",
       "    </tr>\n",
       "    <tr>\n",
       "      <th>...</th>\n",
       "      <td>...</td>\n",
       "      <td>...</td>\n",
       "      <td>...</td>\n",
       "      <td>...</td>\n",
       "      <td>...</td>\n",
       "      <td>...</td>\n",
       "    </tr>\n",
       "    <tr>\n",
       "      <th>2800</th>\n",
       "      <td>This study aims to investigate the effects of ...</td>\n",
       "      <td>Effects of ethical leadership on bullying and ...</td>\n",
       "      <td>Talat   Islam | Ishfaq   Ahmed</td>\n",
       "      <td>Institute of Business Administration Universit...</td>\n",
       "      <td>Pakistan | Pakistan</td>\n",
       "      <td>University of the Punjab | University of the P...</td>\n",
       "    </tr>\n",
       "    <tr>\n",
       "      <th>2801</th>\n",
       "      <td>Distinctions in illness behavior for women, su...</td>\n",
       "      <td>The combined influence of psychosocial factors...</td>\n",
       "      <td>Jenifer J   Thomas | Evelinn A   Borrayo</td>\n",
       "      <td>a Fay W Whitney School of Nursing University o...</td>\n",
       "      <td>United States | United States</td>\n",
       "      <td>University of Wyoming | University of Wyoming</td>\n",
       "    </tr>\n",
       "    <tr>\n",
       "      <th>2802</th>\n",
       "      <td>This study investigated continuity and stabili...</td>\n",
       "      <td>Taking stress response out of the box: stabili...</td>\n",
       "      <td>Heidemarie K   Laurent | Jennifer C   Ablow | ...</td>\n",
       "      <td>Department of Psychology University of Wyoming...</td>\n",
       "      <td>United States | United States | United States</td>\n",
       "      <td>University of Wyoming | University of Wyoming ...</td>\n",
       "    </tr>\n",
       "    <tr>\n",
       "      <th>2803</th>\n",
       "      <td>The rising prevalence of (online) pornography ...</td>\n",
       "      <td>Adolescent sexual aggressiveness and pornograp...</td>\n",
       "      <td>Azra   Tafro | Azra   Tafro | Aleksandar   ..t...</td>\n",
       "      <td>Department of Electronics Systems and Informat...</td>\n",
       "      <td>Croatia | Croatia | Croatia | Croatia</td>\n",
       "      <td>University of Zagreb | University of Zagreb | ...</td>\n",
       "    </tr>\n",
       "    <tr>\n",
       "      <th>2804</th>\n",
       "      <td>In light of conflicting research regarding eat...</td>\n",
       "      <td>Motivation for sport participation and eating ...</td>\n",
       "      <td>Susan L   Crowley</td>\n",
       "      <td>b Psychology Department Utah USA State Univers...</td>\n",
       "      <td>United States</td>\n",
       "      <td>Utah State University</td>\n",
       "    </tr>\n",
       "  </tbody>\n",
       "</table>\n",
       "<p>2805 rows × 6 columns</p>\n",
       "</div>"
      ],
      "text/plain": [
       "                                               abstract  \\\n",
       "0     The COVID-19 pandemic is impacting mental heal...   \n",
       "1     Brain regions in the \"pain matrix\", can be act...   \n",
       "2     During embryonic development of bilaterally sy...   \n",
       "3     Zebra finches (Taeniopygia guttata) are labora...   \n",
       "4     Non-recurrent deep convolutional neural networ...   \n",
       "...                                                 ...   \n",
       "2800  This study aims to investigate the effects of ...   \n",
       "2801  Distinctions in illness behavior for women, su...   \n",
       "2802  This study investigated continuity and stabili...   \n",
       "2803  The rising prevalence of (online) pornography ...   \n",
       "2804  In light of conflicting research regarding eat...   \n",
       "\n",
       "                                                  title  \\\n",
       "0     Natural Language Processing Reveals Vulnerable...   \n",
       "1     Empathic control through coordinated interacti...   \n",
       "2     Characterizing the diverse cells that associat...   \n",
       "3     Campylobacter taeniopygiae sp. nov., Campyloba...   \n",
       "4     Evidence that recurrent circuits are critical ...   \n",
       "...                                                 ...   \n",
       "2800  Effects of ethical leadership on bullying and ...   \n",
       "2801  The combined influence of psychosocial factors...   \n",
       "2802  Taking stress response out of the box: stabili...   \n",
       "2803  Adolescent sexual aggressiveness and pornograp...   \n",
       "2804  Motivation for sport participation and eating ...   \n",
       "\n",
       "                                                 author  \\\n",
       "0     Laurie   Rumker | Tanya   Talkar | Daniel M   ...   \n",
       "1     Nir   Jacoby | Rebecca   Saxe | Emile G   Brun...   \n",
       "2     N   PenkoffLidbeck | C   Schneider | M S   Sch...   \n",
       "3     Erin   Bryant | Zeli   Shen | Anthony   Mannio...   \n",
       "4     Kohitij   Kar | Kailyn   Schmidt | James J   D...   \n",
       "...                                                 ...   \n",
       "2800                     Talat   Islam | Ishfaq   Ahmed   \n",
       "2801           Jenifer J   Thomas | Evelinn A   Borrayo   \n",
       "2802  Heidemarie K   Laurent | Jennifer C   Ablow | ...   \n",
       "2803  Azra   Tafro | Azra   Tafro | Aleksandar   ..t...   \n",
       "2804                                  Susan L   Crowley   \n",
       "\n",
       "                                          affiliation_y  \\\n",
       "0     Department of Brain and Cognitive Sciences Mas...   \n",
       "1     Department of Brain and Cognitive Sciences Mas...   \n",
       "2     Computational and Systems Biology Massachusett...   \n",
       "3     Division of Comparative Medicine Massachusetts...   \n",
       "4     McGovern Institute for Brain Research and Depa...   \n",
       "...                                                 ...   \n",
       "2800  Institute of Business Administration Universit...   \n",
       "2801  a Fay W Whitney School of Nursing University o...   \n",
       "2802  Department of Psychology University of Wyoming...   \n",
       "2803  Department of Electronics Systems and Informat...   \n",
       "2804  b Psychology Department Utah USA State Univers...   \n",
       "\n",
       "                                                country  \\\n",
       "0     United States | United States | United States ...   \n",
       "1     United States | United States | United States ...   \n",
       "2     United States | United States | Canada | Unite...   \n",
       "3     United States | United States | United States ...   \n",
       "4     United States | United States | United States ...   \n",
       "...                                                 ...   \n",
       "2800                                Pakistan | Pakistan   \n",
       "2801                      United States | United States   \n",
       "2802      United States | United States | United States   \n",
       "2803              Croatia | Croatia | Croatia | Croatia   \n",
       "2804                                      United States   \n",
       "\n",
       "                                       fuzzy_matched_QS  \n",
       "0     Massachusetts Institute of Technology (MIT) | ...  \n",
       "1     Massachusetts Institute of Technology (MIT) | ...  \n",
       "2     Massachusetts Institute of Technology (MIT) | ...  \n",
       "3     Massachusetts Institute of Technology (MIT) | ...  \n",
       "4     Massachusetts Institute of Technology (MIT) | ...  \n",
       "...                                                 ...  \n",
       "2800  University of the Punjab | University of the P...  \n",
       "2801      University of Wyoming | University of Wyoming  \n",
       "2802  University of Wyoming | University of Wyoming ...  \n",
       "2803  University of Zagreb | University of Zagreb | ...  \n",
       "2804                              Utah State University  \n",
       "\n",
       "[2805 rows x 6 columns]"
      ]
     },
     "execution_count": 9,
     "metadata": {},
     "output_type": "execute_result"
    }
   ],
   "source": [
    "abstracts"
   ]
  },
  {
   "cell_type": "code",
   "execution_count": 10,
   "metadata": {},
   "outputs": [
    {
     "name": "stdout",
     "output_type": "stream",
     "text": [
      "<class 'pandas.core.frame.DataFrame'>\n",
      "Int64Index: 2805 entries, 0 to 2804\n",
      "Data columns (total 6 columns):\n",
      " #   Column            Non-Null Count  Dtype \n",
      "---  ------            --------------  ----- \n",
      " 0   abstract          2805 non-null   object\n",
      " 1   title             2805 non-null   object\n",
      " 2   author            2805 non-null   object\n",
      " 3   affiliation_y     2805 non-null   object\n",
      " 4   country           2805 non-null   object\n",
      " 5   fuzzy_matched_QS  2805 non-null   object\n",
      "dtypes: object(6)\n",
      "memory usage: 153.4+ KB\n"
     ]
    }
   ],
   "source": [
    "# total 2805 papers are there\n",
    "abstracts.info()"
   ]
  },
  {
   "cell_type": "code",
   "execution_count": 11,
   "metadata": {},
   "outputs": [],
   "source": [
    "#Removing symbols from Abstracts\n",
    "\n",
    "abstracts['Abstract_Cleaned'] = abstracts.apply(lambda row: (re.sub(\"[^A-Za-z0-9' ]+\", ' ', row['abstract'])),axis=1)"
   ]
  },
  {
   "cell_type": "code",
   "execution_count": 12,
   "metadata": {},
   "outputs": [],
   "source": [
    "# tokenization\n",
    "\n",
    "\n",
    "abstracts['Abstract_Cleaned'] = abstracts.apply(lambda row: (word_tokenize(row['Abstract_Cleaned'])), axis = 1)"
   ]
  },
  {
   "cell_type": "code",
   "execution_count": 13,
   "metadata": {},
   "outputs": [],
   "source": [
    "#nltk.download('stopwords')\n",
    "#nltk.download('wordnet')"
   ]
  },
  {
   "cell_type": "code",
   "execution_count": 14,
   "metadata": {},
   "outputs": [],
   "source": [
    "# we have to remove stopwords\n",
    "\n",
    "stop_words = set(stopwords.words('english'))\n",
    "abstracts['Abstract_Cleaned'] = abstracts.apply(lambda row: ([w for w in row['Abstract_Cleaned'] if w not in stop_words]),axis=1)"
   ]
  },
  {
   "cell_type": "code",
   "execution_count": 15,
   "metadata": {},
   "outputs": [],
   "source": [
    "# creating lemmas\n",
    "\n",
    "# Lemmatization\n",
    "\n",
    "lmtzr = WordNetLemmatizer()\n",
    "abstracts['Abstract_Cleaned'] = abstracts.apply(lambda row: ([lmtzr.lemmatize(w) for w in row['Abstract_Cleaned']]), axis=1)"
   ]
  },
  {
   "cell_type": "code",
   "execution_count": 16,
   "metadata": {},
   "outputs": [
    {
     "data": {
      "text/plain": [
       "['Brain',\n",
       " 'region',\n",
       " 'pain',\n",
       " 'matrix',\n",
       " 'activated',\n",
       " 'observing',\n",
       " 'reading',\n",
       " 'others',\n",
       " 'physical',\n",
       " 'pain']"
      ]
     },
     "execution_count": 16,
     "metadata": {},
     "output_type": "execute_result"
    }
   ],
   "source": [
    "abstracts['Abstract_Cleaned'][1][:10]"
   ]
  },
  {
   "cell_type": "markdown",
   "metadata": {},
   "source": [
    "# topic model"
   ]
  },
  {
   "cell_type": "code",
   "execution_count": 17,
   "metadata": {},
   "outputs": [],
   "source": [
    "# Creating Dictionary and Corpus\n",
    "\n",
    "dictionary = corpora.Dictionary(abstracts['Abstract_Cleaned'])\n",
    "texts = abstracts['Abstract_Cleaned']\n",
    "corpus = [dictionary.doc2bow(text) for text in abstracts['Abstract_Cleaned']]"
   ]
  },
  {
   "cell_type": "code",
   "execution_count": 18,
   "metadata": {},
   "outputs": [],
   "source": [
    "# Building LDA Model\n",
    "\n",
    "lda_model = gensim.models.ldamodel.LdaModel(corpus=corpus,\n",
    "                                           id2word=dictionary,\n",
    "                                           num_topics=10, \n",
    "                                           random_state=100,\n",
    "                                           update_every=1,\n",
    "                                           chunksize=100,\n",
    "                                           passes=10,\n",
    "                                           alpha='auto',\n",
    "                                           per_word_topics=True)"
   ]
  },
  {
   "cell_type": "code",
   "execution_count": 19,
   "metadata": {},
   "outputs": [],
   "source": [
    "# Printing the Keywords in topics\n",
    "\n",
    "#pprint(lda_model.print_topics())\n",
    "doc_lda = lda_model[corpus]"
   ]
  },
  {
   "cell_type": "code",
   "execution_count": 20,
   "metadata": {
    "scrolled": false
   },
   "outputs": [
    {
     "data": {
      "text/html": [
       "\n",
       "<link rel=\"stylesheet\" type=\"text/css\" href=\"https://cdn.jsdelivr.net/gh/bmabey/pyLDAvis@3.2.2/pyLDAvis/js/ldavis.v1.0.0.css\">\n",
       "\n",
       "\n",
       "<div id=\"ldavis_el124171404618155090722556803962\"></div>\n",
       "<script type=\"text/javascript\">\n",
       "\n",
       "var ldavis_el124171404618155090722556803962_data = {\"mdsDat\": {\"x\": [0.22457032522818995, 0.14217404283719562, 0.21639637095413078, 0.10409270986942665, 0.13761985873917337, -0.029653442350514987, -0.11780577519004867, -0.18245082465079632, -0.23454269680659243, -0.2604005686301642], \"y\": [-0.1141002887348038, 0.10617645934125496, -0.10369194919399756, -0.09973294388931637, 0.07298304139779815, 0.20322144482946564, 0.22299798789479403, -0.06686833260074496, -0.1602654883980194, -0.06071993064643057], \"topics\": [1, 2, 3, 4, 5, 6, 7, 8, 9, 10], \"cluster\": [1, 1, 1, 1, 1, 1, 1, 1, 1, 1], \"Freq\": [20.55548926107148, 19.754206537491527, 18.203351298373857, 12.007917124218576, 11.059199329756522, 6.932400380742081, 5.287462081503442, 3.402793248394518, 1.918143104194793, 0.8790376342532121]}, \"tinfo\": {\"Term\": [\"0\", \"use\", \"health\", \"model\", \"risk\", \"self\", \"factor\", \"stress\", \"infant\", \"protein\", \"patient\", \"personality\", \"sexual\", \"trajectory\", \"trait\", \"sport\", \"The\", \"behavior\", \"task\", \"1\", \"'\", \"intensity\", \"structure\", \"p\", \"motivation\", \"social\", \"2\", \"student\", \"system\", \"measure\", \"stress\", \"sexual\", \"adolescent\", \"eating\", \"pornography\", \"mother\", \"illness\", \"aggressiveness\", \"esteem\", \"parent\", \"attachment\", \"partner\", \"cortisol\", \"SNS\", \"HPA\", \"depressive\", \"Multilevel\", \"adolescence\", \"adjustment\", \"parenting\", \"childhood\", \"stressor\", \"child\", \"M\", \"temperament\", \"collegiate\", \"aggression\", \"Session\", \"middle\", \"girl\", \"peer\", \"woman\", \"association\", \"body\", \"disorder\", \"symptom\", \"female\", \"risk\", \"negative\", \"emotion\", \"longitudinal\", \"male\", \"gender\", \"reported\", \"associated\", \"level\", \"age\", \"among\", \"examined\", \"higher\", \"lower\", \"anxiety\", \"relationship\", \"predicted\", \"related\", \"year\", \"study\", \"social\", \"use\", \"modeling\", \"effect\", \"The\", \"self\", \"system\", \"ethical\", \"challenge\", \"violence\", \"source\", \"climate\", \"variation\", \"addressed\", \"psychopathology\", \"motivational\", \"HIV\", \"though\", \"absolute\", \"technique\", \"rising\", \"assist\", \"science\", \"advancing\", \"paper\", \"often\", \"recent\", \"tool\", \"cost\", \"adaptation\", \"game\", \"moral\", \"article\", \"driving\", \"planning\", \"review\", \"working\", \"process\", \"critical\", \"approach\", \"within\", \"We\", \"identification\", \"state\", \"method\", \"condition\", \"component\", \"individual\", \"various\", \"proposed\", \"pattern\", \"based\", \"response\", \"information\", \"different\", \"understanding\", \"new\", \"model\", \"data\", \"In\", \"modeling\", \"This\", \"show\", \"difference\", \"study\", \"also\", \"change\", \"used\", \"behavior\", \"two\", \"The\", \"result\", \"level\", \"effect\", \"sport\", \"efficacy\", \"care\", \"organizational\", \"leadership\", \"skill\", \"bullying\", \"participation\", \"nurse\", \"intention\", \"attitude\", \"safety\", \"nursing\", \"practice\", \"service\", \"athlete\", \"medical\", \"management\", \"literacy\", \"communication\", \"workplace\", \"personal\", \"daily\", \"professional\", \"PA\", \"reporting\", \"teacher\", \"adherence\", \"building\", \"career\", \"health\", \"physical\", \"survey\", \"motivation\", \"intervention\", \"student\", \"final\", \"hospital\", \"support\", \"'\", \"perceived\", \"poor\", \"self\", \"satisfaction\", \"behavior\", \"program\", \"social\", \"quality\", \"relationship\", \"The\", \"equation\", \"questionnaire\", \"impact\", \"study\", \"use\", \"activity\", \"among\", \"effect\", \"factor\", \"modeling\", \"model\", \"related\", \"significant\", \"0\", \"p\", \"P\", \"workload\", \"001\", \"Scale\", \"Questionnaire\", \"proved\", \"pain\", \"resilience\", \"01\", \"chronic\", \"sleep\", \"job\", \"receiving\", \"05\", \"Inventory\", \"empathy\", \"T1\", \"univariate\", \"reliability\", \"definition\", \"breast\", \"screening\", \"somewhat\", \"heart\", \"interval\", \"T2\", \"QOL\", \"MS\", \"treatment\", \"95\", \"cancer\", \"patient\", \"6\", \"status\", \"9\", \"5\", \"1\", \"3\", \"2\", \"4\", \"score\", \"7\", \"8\", \"group\", \"mean\", \"life\", \"year\", \"disease\", \"index\", \"The\", \"A\", \"study\", \"age\", \"using\", \"trait\", \"dyad\", \"employee\", \"conflicting\", \"measurement\", \"validity\", \"version\", \"observation\", \"error\", \"increasingly\", \"representing\", \"explicit\", \"clarify\", \"lowest\", \"continuity\", \"Five\", \"conscientiousness\", \"cultural\", \"marginal\", \"internal\", \"facet\", \"practical\", \"psychometric\", \"testing\", \"Model\", \"invariance\", \"affecting\", \"chain\", \"problematic\", \"Big\", \"item\", \"neuroticism\", \"personality\", \"scale\", \"construct\", \"supported\", \"correlated\", \"dimension\", \"measure\", \"factor\", \"variance\", \"model\", \"sample\", \"analysis\", \"fit\", \"The\", \"latent\", \"structural\", \"result\", \"study\", \"three\", \"structure\", \"two\", \"using\", \"data\", \"modeling\", \"research\", \"equation\", \"across\", \"well\", \"order\", \"binding\", \"requirement\", \"enzyme\", \"specie\", \"protein\", \"inhibitor\", \"template\", \"homology\", \"virus\", \"picture\", \"receptor\", \"surface\", \"rank\", \"plant\", \"docking\", \"concentration\", \"ligand\", \"channel\", \"3D\", \"loop\", \"alignment\", \"product\", \"fold\", \"affinity\", \"gyrus\", \"host\", \"cysteine\", \"sensory\", \"infection\", \"intensity\", \"sequence\", \"competition\", \"structure\", \"issue\", \"drug\", \"residue\", \"C\", \"molecular\", \"The\", \"identity\", \"functional\", \"2\", \"high\", \"1\", \"In\", \"interaction\", \"site\", \"3\", \"target\", \"result\", \"domain\", \"structural\", \"modeling\", \"cell\", \"gene\", \"acid\", \"amino\", \"expression\", \"primarily\", \"strain\", \"I\", \"genome\", \"coordination\", \"conserved\", \"nervous\", \"substrate\", \"rat\", \"water\", \"mRNA\", \"putative\", \"epitope\", \"IL\", \"motor\", \"tissue\", \"mouse\", \"catalytic\", \"cycling\", \"DNA\", \"vitro\", \"terminal\", \"purified\", \"ion\", \"stem\", \"located\", \"E\", \"B\", \"D\", \"expressed\", \"human\", \"activity\", \"identity\", \"type\", \"molecular\", \"analysis\", \"The\", \"disease\", \"showed\", \"study\", \"specific\", \"task\", \"intrinsic\", \"neural\", \"processing\", \"memory\", \"exploration\", \"connectivity\", \"reward\", \"effortful\", \"former\", \"elicit\", \"responsiveness\", \"depended\", \"visual\", \"face\", \"stimulus\", \"cortex\", \"left\", \"schizophrenia\", \"inhibition\", \"EEG\", \"imaging\", \"propofol\", \"verbal\", \"apathy\", \"narcissism\", \"parietal\", \"paradigm\", \"cortical\", \"gamma\", \"brain\", \"learning\", \"voice\", \"performance\", \"representation\", \"cognitive\", \"choice\", \"signal\", \"network\", \"subject\", \"control\", \"response\", \"participant\", \"infant\", \"alcohol\", \"sAA\", \"smoking\", \"cardiovascular\", \"attunement\", \"drinking\", \"CI\", \"substance\", \"suicide\", \"sympathetic\", \"ideation\", \"Infant\", \"suicidal\", \"Mother\", \"Situation\", \"1978\", \"Ainsworth\", \"Blehar\", \"Strange\", \"Wall\", \"Waters\", \"multisystemic\", \"OR\", \"IPV\", \"abstinence\", \"CoV\", \"perpetration\", \"quit\", \"binge\", \"trajectory\", \"use\", \"genetic\", \"risk\", \"drug\", \"consciousness\", \"injury\", \"loss\", \"agency\", \"h\", \"aging\", \"lapse\", \"From\", \"mild\", \"TBI\", \"67\", \"romantic\", \"Molecular\", \"political\", \"stimulation\", \"IT\", \"transfer\", \"anesthesia\", \"lung\", \"coherence\", \"principle\", \"prejudice\", \"psychotherapy\", \"occurring\", \"undergoing\", \"abiotic\", \"interplay\", \"instead\", \"seem\", \"HRV\", \"brain\"], \"Freq\": [2371.0, 1792.0, 2066.0, 3145.0, 1131.0, 2393.0, 2331.0, 1457.0, 549.0, 798.0, 1154.0, 1046.0, 1195.0, 615.0, 817.0, 1050.0, 4511.0, 2235.0, 490.0, 1346.0, 1270.0, 668.0, 784.0, 725.0, 987.0, 1634.0, 1278.0, 1018.0, 894.0, 992.0, 1456.1561619358497, 1194.68311501197, 872.6498333884889, 773.4948645134932, 716.3910931588748, 578.5202888836941, 574.81010922056, 477.0319523008882, 307.73367367281725, 299.9999520771043, 283.729642718134, 273.0846188937907, 270.4574830535859, 262.2750701117611, 240.03609464851647, 236.55952315449395, 218.45671993102695, 214.94077511858788, 209.5678489104594, 201.06567939003716, 190.80268983697206, 189.86642727784198, 660.5453353085043, 182.6095237643212, 165.92908423871177, 161.92390281440763, 159.9299680641633, 158.23977327891512, 155.81382173150715, 146.13078162626212, 444.67736480228587, 757.4357318404008, 862.9723446127334, 360.25879070638257, 817.7936514208276, 727.4399659233422, 397.88557862359767, 953.380392018257, 628.4725497431746, 321.2901642096277, 267.7159075839783, 448.9594958866792, 399.3163823983272, 846.4257640895004, 982.2983775951615, 1195.8945384694648, 628.8191583081177, 883.7527390933211, 493.29344121411395, 664.6499472121099, 420.8086218033106, 361.4080392735946, 701.7082789895962, 504.49783344620687, 661.6618515922075, 549.3140042619663, 959.4714752180155, 625.32173848779, 617.4637699139093, 664.2191640437217, 549.4510192979599, 539.1900652323743, 521.4829689991134, 893.1073008135594, 412.8460174779606, 378.0499006283995, 260.5887372665103, 225.73330389193342, 196.62888621956625, 191.10170049583036, 189.16371778761265, 178.53754367978652, 175.61688650834157, 175.30730245972507, 154.11851895459102, 149.97579712710458, 142.76268440846323, 132.4112098306276, 132.3520612571317, 130.73112162091272, 129.37330273931474, 121.60967457706037, 119.49311000572062, 119.02308285812748, 118.46037611007253, 116.24439411847405, 108.6524222890226, 108.14860724743313, 105.83799939364265, 104.8319500306507, 101.40212312798296, 99.31651103380416, 97.77034934192966, 643.99160849504, 529.3430403208147, 147.7323303632553, 632.179163163906, 377.8218817414302, 961.6344452507066, 516.0826552984234, 276.98560704287377, 416.5220217907453, 624.014545808224, 242.51087036632438, 790.679873174807, 249.05849000675357, 272.65749637596025, 275.7244294417062, 674.5071350783081, 713.3820237442919, 338.09375983652905, 473.08098044033807, 253.23046503719996, 290.09886653386354, 1100.5536678015787, 574.3968851616233, 701.4620499224397, 993.1962110077202, 617.0522637447501, 298.2822351827633, 355.2892292103481, 680.3433911165998, 389.6302567180829, 363.0110473236573, 396.78929892682896, 432.40422883323635, 354.35628815600313, 463.3827878772703, 374.0488607271707, 378.91854588913975, 359.7755502089742, 1049.2545346710367, 827.9788489057134, 539.151897260465, 489.65993581036037, 477.3694721680389, 437.56145916904006, 429.4726206683488, 385.48781792680614, 336.0518999945813, 323.7386766390208, 290.1757650828755, 288.4816412759859, 284.50693957923403, 264.8314770161956, 249.8643436425705, 235.64079741212026, 221.7402388241877, 197.40857591893862, 144.35929860123002, 143.1491464405404, 141.62213355213703, 133.19397503870778, 125.15785713776344, 138.9181703727171, 123.2827662989677, 121.99032411909104, 121.32300932692279, 120.4186475694274, 118.31097977298471, 116.31132957557442, 2034.5281287818398, 697.0074417997643, 333.6562672023531, 945.068360388586, 601.7316406270807, 937.6870758530697, 240.38923832014603, 239.14207886572976, 973.4841354840696, 1110.0502806751244, 935.8738732265135, 479.04589802191384, 1871.661951438001, 529.7025377256565, 1359.8100570911897, 415.8656259656585, 973.9839023712574, 430.27744054402194, 678.6215992121608, 1210.7408543283902, 549.5951461607659, 359.52546708740726, 408.7473708841029, 863.0181011247067, 580.3253473916408, 424.5855093795003, 517.7397775384359, 552.6631919209278, 513.7278045352839, 522.0715882397933, 525.1517967907103, 448.8501312734325, 439.88396955457387, 2371.050531021706, 724.5439957293306, 467.5729586938317, 460.8299813375024, 388.4579904873471, 378.3746805519153, 280.9009389351091, 228.66152925699623, 225.83826300967027, 207.2689156869513, 205.10302631467275, 189.03388988211847, 175.82966125257587, 175.56966276514345, 172.0561580055171, 169.67065056409723, 141.91466199349054, 135.51659970916177, 132.52915739472655, 129.97732394721052, 125.54119509137641, 120.36131946521488, 115.75884058161992, 114.71161611082799, 114.49174581420776, 110.23855394558127, 104.76382439656768, 104.52582975396254, 99.91652271218838, 99.91379024783346, 603.2613493377995, 202.2807209339331, 333.22867627417156, 1027.8192896474172, 454.0774433586389, 570.74283754281, 295.5591749047724, 392.67662719136223, 824.0339957692569, 439.9508308495351, 728.1910129011295, 328.0079518072581, 329.8636254021354, 237.66552177765223, 282.685220142621, 443.20427706756743, 294.34814670267343, 310.01243400990387, 366.3076375273111, 271.01126763849027, 246.95431515450068, 497.26926119474035, 312.4446035349231, 421.36757498297885, 265.4089590284748, 268.5694173826136, 816.9544850872776, 262.6187107661183, 253.59577517647782, 203.69313763759564, 182.9928345992216, 174.9174378873459, 161.51097625567215, 152.5210161428653, 140.33783297668947, 140.36489034547012, 132.01715004431415, 121.74255119428976, 120.58509093984863, 120.4217179719331, 117.22942411683783, 109.69117037849061, 107.51612739545924, 107.242633370221, 100.34119018214537, 96.55356784257059, 95.06258071727693, 94.57904363463602, 94.0260932285697, 93.40789982942562, 91.69674802267602, 88.18840507378195, 86.7147851066999, 83.34190599185645, 80.72185446889186, 77.32979404682614, 346.81748137086015, 142.76879265094743, 947.298348154497, 368.0633565385316, 281.14703496338745, 150.62731006097792, 190.94924968452142, 230.0419042394403, 655.7507084180352, 1283.746972359969, 225.99117498390163, 1462.4124199795294, 491.86199121304526, 653.9710282385971, 249.7980754603866, 1036.644567463015, 254.11156871347862, 358.8727006604806, 391.42689669583086, 520.2852372085571, 231.9797914868673, 262.09344825623265, 287.84688637359784, 302.81195642874843, 263.33235716412105, 323.6386304323515, 251.27235914052133, 247.1614311111052, 212.23926177019567, 207.68835835816242, 304.5487698583153, 256.4249552990092, 204.63687984786662, 177.54236506819865, 170.5190122942747, 793.8781031983365, 140.23236449224956, 136.1995709366973, 135.56300821383962, 113.67236353027059, 107.2335193152374, 106.05409413829585, 104.26165438567013, 104.04954770902371, 97.25287705502025, 91.2129853275104, 90.47398539081448, 83.37243002448089, 75.52543989207062, 75.461937556436, 74.26975366606709, 73.23807993788103, 70.59623577291245, 69.43089371932467, 68.04811267896785, 65.88945624647671, 63.988449550300935, 63.264510442715995, 61.4789215644741, 59.715604962063004, 598.3199771212073, 432.96838244667964, 262.6815510004493, 521.5115237805152, 118.27726750362224, 160.88514354411302, 147.27771217866893, 151.72953239314245, 153.9319775622063, 564.0275509524957, 263.0669473549561, 154.90499587904344, 285.0832168272009, 248.5109195143548, 261.2990889279282, 228.92873520071424, 163.2723404308717, 128.5043193509886, 157.82807259791784, 128.13388674842543, 179.60732123191596, 135.05046850639587, 158.80048071541717, 134.12368665756614, 450.4935849124734, 325.12137091404463, 301.8218227219132, 239.60209847682566, 219.6694081312333, 139.4664357969341, 134.29297413889617, 131.22924604305493, 127.39734878380638, 127.61761446628705, 109.94701587010088, 109.93660761848925, 104.79369375583187, 99.76496391364986, 88.51289820830794, 87.36845594065143, 83.44223918991803, 83.43073616793869, 81.50222676718754, 77.1737956143619, 74.51134052387161, 72.58770205794481, 72.24524519394201, 71.44579309949663, 70.24220678825623, 68.56807019124771, 68.3844290730001, 67.17562276971667, 66.56750691856715, 66.22208306820554, 140.73442316502155, 94.5671211377615, 194.53244389493562, 108.98478147059708, 98.95984757251948, 181.0289855728147, 232.4290572528144, 277.4446185433, 145.66060422735097, 115.73161325310451, 164.52676610749356, 199.8790696659149, 111.06061417261557, 116.01314376620985, 99.56540895947774, 92.78458111936885, 489.60824831460064, 383.6640064299502, 160.37462311864164, 153.6676278025169, 146.88900672064958, 145.3433687128582, 142.0543832560829, 128.59630894592536, 124.23684435803271, 118.60397685297572, 117.24975839780566, 116.13915740171143, 115.18943868537013, 112.35933599750508, 107.39887391808216, 107.19607266233199, 94.06593707719337, 90.74290861961227, 80.19818952678486, 69.77979236276236, 67.69491894028752, 61.12400032604403, 56.32545182303912, 54.21846508560374, 52.52829578544905, 51.799461754500115, 48.735778881042194, 48.23401731547611, 46.42751570932846, 45.76751987986896, 254.42204450653452, 199.21959987214484, 216.82648196096957, 206.62967403154627, 63.17744472737902, 215.61031430690764, 66.94775641910272, 79.547894012492, 118.74703778177692, 87.47322849182822, 111.84846634654046, 117.22304679309421, 77.65648912149122, 548.2446380451184, 319.9856028046694, 204.91518409051383, 183.42968205473016, 152.45461820867257, 139.73760340865692, 193.89455712598937, 120.11098002304772, 116.49963643999907, 89.67883641474363, 76.97478373563669, 76.34112865152223, 76.32424489426991, 72.72821180927507, 72.23164515961427, 71.90022467918646, 70.93729795647629, 70.1488725394039, 70.1488725394039, 70.1488725394039, 70.1488725394039, 70.1488725394039, 69.02012429717065, 68.03445822321567, 58.61218969724489, 47.78317419144639, 47.25752143270093, 43.86002214690552, 42.161308957574605, 41.00599949540943, 174.52259452079085, 275.0430670498791, 71.29085918220999, 176.85224604420563, 79.47843005197169, 124.60968032969174, 62.03865922158546, 60.71374748038141, 38.51207134607496, 36.86331034430908, 36.31646895163897, 35.226598598814135, 34.00970812354872, 32.97086950116504, 32.30797752204649, 30.05368336209692, 29.88652015411152, 29.788624343165303, 26.944496931626755, 26.05878163659987, 25.62652599814328, 25.175851808872054, 25.035554995706775, 23.15486867125228, 22.91533606855374, 22.52026219813463, 22.43317238248686, 21.318526493818283, 21.07777173217223, 20.93937058425215, 19.493085270795195, 18.60228790474919, 18.31205241149896, 18.14172917527087, 18.123716838437353, 21.879778811056457], \"Total\": [2371.0, 1792.0, 2066.0, 3145.0, 1131.0, 2393.0, 2331.0, 1457.0, 549.0, 798.0, 1154.0, 1046.0, 1195.0, 615.0, 817.0, 1050.0, 4511.0, 2235.0, 490.0, 1346.0, 1270.0, 668.0, 784.0, 725.0, 987.0, 1634.0, 1278.0, 1018.0, 894.0, 992.0, 1457.1037797760648, 1195.6304138397375, 873.5970772628397, 774.4422073024595, 717.3413319124091, 579.467714356754, 575.7576669968653, 477.9822444048359, 308.680948421365, 300.95140205447353, 284.67696195822015, 274.03206533885583, 271.40528494087977, 263.22314915500067, 240.99009996814647, 237.5067478000061, 219.40421845695647, 215.88800624341104, 210.51529676535606, 202.01288893881593, 191.7499023122425, 190.81409133373512, 663.894242795198, 183.55735088132573, 166.87640106083606, 162.87381185271764, 160.8772693517537, 159.19844544158659, 156.76201414684186, 147.07800586592802, 450.529250652506, 779.992309866515, 904.3443940925663, 368.7139596195629, 868.1897497839497, 777.9461025194133, 426.2026612220879, 1131.1032910352035, 716.7414450108147, 341.0311196679704, 280.30188275151784, 523.5133635766422, 464.5079142151494, 1196.5638929595466, 1450.9917203432742, 1972.6136893080734, 895.0561430182727, 1463.5161157554846, 661.1059460484838, 1044.0423368896045, 531.1913702265094, 415.6297734298016, 1399.8450095954518, 770.177771676235, 1370.266169085235, 926.2563447361094, 3545.7270448766662, 1634.603594748808, 1792.8566776899286, 2819.603307020602, 1888.7695194884282, 4511.408349076291, 2393.996262374319, 894.0144737642242, 413.753210325316, 378.9572975646132, 261.4958744622084, 226.64032716386487, 197.5357023739489, 192.0085468774315, 190.07115772376423, 179.44444409813278, 176.5238151067721, 176.21405552001517, 155.02651569780852, 150.88410044923165, 143.66948699719129, 133.32041146617362, 133.26092604743994, 131.63791412775586, 130.28321656021552, 122.51643035331857, 120.3999009138031, 119.92990698117028, 119.36726175041926, 117.15119082538362, 109.55930593628119, 109.0554887029304, 106.74474400907131, 105.73871047132815, 102.30892221566958, 100.22329491956013, 98.6771110318234, 660.1038206312762, 543.6812169117276, 150.17374133332632, 693.2822509080905, 415.74835203592824, 1149.9467121917432, 600.7510598707164, 303.50657350282347, 484.46233337442857, 765.8428161268323, 265.9233282503146, 1079.0233614644935, 282.30018323847054, 315.2730706671818, 320.7789941967448, 961.442150755246, 1048.3763980183148, 430.614728865631, 674.1047912413555, 300.27301715932174, 378.5300707148492, 3145.4747297297004, 1131.0951345311348, 1574.621927832527, 2819.603307020602, 1395.5757938461247, 405.80310589395884, 661.0290750165387, 3545.7270448766662, 918.0999504875892, 830.5276240970887, 1383.7868108461325, 2235.646269784932, 1045.2433117297842, 4511.408349076291, 1513.22722864765, 1972.6136893080734, 1888.7695194884282, 1050.1941052932862, 828.9173770570998, 540.0904329589154, 490.59862386781504, 478.3080276584228, 438.5000411019746, 430.4116455576053, 386.4265685059401, 336.99041755857235, 324.67718421817466, 291.11433184683295, 289.42020194792843, 285.44546685106985, 265.77005171112563, 250.80288942070084, 236.5796599184469, 222.67884827598547, 198.3471153553504, 145.29823626856702, 144.08773656078031, 142.5607909619355, 134.13254362217603, 126.09644843051329, 139.9738273012682, 124.22131607107393, 122.93022991942836, 122.26150749520816, 121.35714839306621, 119.24976256783636, 117.24994622202512, 2066.6227474922284, 703.1906804347839, 339.23998948626644, 987.446633101978, 633.2138301870418, 1018.6687435204777, 247.90088293308824, 247.74791911595943, 1098.774756333388, 1270.580097264521, 1075.0811148215803, 528.7592888832612, 2393.996262374319, 607.837453082165, 2235.646269784932, 506.7544600958997, 1634.603594748808, 548.7758303959001, 1399.8450095954518, 4511.408349076291, 1079.728834153258, 461.42179010143803, 612.8757622968762, 3545.7270448766662, 1792.8566776899286, 719.4323550784862, 1463.5161157554846, 1888.7695194884282, 2331.5163178288644, 2819.603307020602, 3145.4747297297004, 1370.266169085235, 1065.9115048724113, 2371.9656697947953, 725.4590628351065, 468.48819181064283, 461.7474181069091, 389.373043100992, 379.2898399727681, 281.8161338867597, 229.57932581176794, 226.7533667493021, 208.18405761460028, 206.01809453677564, 189.9490485106081, 176.7447575367101, 176.48484612803597, 172.97277116043966, 170.58573765388718, 142.82981025324722, 136.43168331143272, 133.44432149810854, 130.89628541150896, 126.4564878205227, 121.29240432844561, 116.6739543433964, 115.62711266588808, 115.41313375883729, 111.1537625690308, 105.67909620563485, 105.4409625425756, 100.83162296461286, 100.82938984440652, 617.7801052590124, 205.6607010744186, 351.6666143879912, 1154.8977474434905, 503.5351418002031, 686.7686265283891, 348.16836688251897, 525.9859252197134, 1346.5955121699715, 639.6364734430662, 1278.6222344179487, 444.6010371828953, 465.4138853868922, 304.4206551908422, 411.73349676610815, 940.0189585855212, 469.95551578392826, 573.6830507305925, 926.2563447361094, 456.07796299262543, 381.278625503437, 4511.408349076291, 877.438396032054, 3545.7270448766662, 895.0561430182727, 1310.4200091286098, 817.8767155249194, 263.5430864523445, 254.51860005977287, 204.63265206986543, 183.91505672953227, 175.83959988389142, 162.43323791862295, 153.44379963156013, 141.26019559091426, 141.28762626283645, 132.9405475773088, 122.66584979871342, 121.50911738133999, 121.34510066457871, 118.15543472589918, 110.61340453517053, 108.438437914818, 108.16496575017989, 101.2735781564695, 97.47586541412593, 95.9848377582488, 95.50134875970149, 94.94824117790512, 94.3302520442947, 92.61906709824687, 89.11056299582089, 87.6374417382268, 84.26488594841277, 81.64427077167365, 78.25197111616167, 352.15382620456444, 145.04615142246004, 1046.478019592308, 401.94517640339717, 320.62935632555036, 160.48636742664476, 219.5957792134646, 277.6299187189777, 992.9010735515228, 2331.5163178288644, 276.15423985428083, 3145.4747297297004, 916.0416973049342, 1496.1208543498185, 413.50063930172274, 4511.408349076291, 452.9756901661072, 1012.5740488631333, 1513.22722864765, 3545.7270448766662, 521.6108479267524, 784.4214046008639, 1045.2433117297842, 1310.4200091286098, 1131.0951345311348, 2819.603307020602, 1014.1700763513763, 1079.728834153258, 756.140314041904, 1014.157019202269, 305.478326648511, 257.35358304044377, 205.56718964026513, 178.47100285873185, 171.4476634208533, 798.2289528611216, 141.16103354662417, 137.12819775769282, 136.4916467599963, 114.6010146932583, 108.17095298192368, 106.98274221864553, 105.19035287082635, 104.98763519083387, 98.18151571223127, 92.14161491947415, 91.40274928295376, 84.3010376584759, 76.4541779427149, 76.39057933628577, 75.19839725810633, 74.16673408651374, 71.52505193754018, 70.35954276044019, 68.97676581878272, 66.81924198513867, 64.91711301462979, 64.19322891445994, 62.40776758470423, 60.644363688030175, 668.2525769647265, 520.8283832961395, 310.66384052255216, 784.4214046008639, 134.18570247720595, 241.23206289860428, 228.41584587103023, 242.74446753415623, 270.4802681682944, 4511.408349076291, 1028.2025976089053, 344.2494871711996, 1278.6222344179487, 1063.167265173312, 1346.5955121699715, 1574.621927832527, 641.0834715787557, 247.95288323518346, 639.6364734430662, 256.834164719098, 1513.22722864765, 338.76758013663465, 1012.5740488631333, 2819.603307020602, 451.41607183110915, 326.0438700892502, 302.74433802169165, 240.5246120144909, 220.59201894733343, 140.39348079776025, 135.2155656924061, 132.15203724927872, 128.3198741794873, 128.5440865235454, 110.86951958866466, 110.87056168680074, 105.71631794489655, 100.68869702419168, 89.43555702826677, 88.29118684326363, 84.3648581698227, 84.35352765695072, 82.42484759003024, 78.09638389222131, 75.43385545903996, 73.51026949893108, 73.1677235573271, 72.3685114366223, 71.16467506870471, 69.49057119918524, 69.30694329421746, 68.09812669046232, 67.49005955774089, 67.14456310147118, 155.62240798603756, 100.09269627759876, 228.92918433168012, 120.10865605489984, 114.70956360619492, 439.89429579338025, 719.4323550784862, 1028.2025976089053, 402.70574038100096, 270.4802681682944, 1496.1208543498185, 4511.408349076291, 456.07796299262543, 680.066049049487, 3545.7270448766662, 707.7900055142243, 490.5256947671116, 384.5826256157714, 161.29184256951288, 154.5850851529817, 147.80621371556762, 146.26197233119066, 142.97159237092634, 129.51357847366944, 125.15550066650822, 119.52528241132767, 118.16883550202877, 117.05883862779142, 116.10972349764951, 113.27654686685328, 108.31618544041422, 108.11328998314421, 94.98310482014202, 91.66025532210148, 81.11554765478647, 70.69754726442648, 68.61213098034453, 62.04135994846546, 57.24282071068189, 55.13583747761966, 53.44807326983031, 52.71719409467917, 49.65295123032456, 49.151396906692696, 47.34471281988278, 46.685236487738074, 277.138872015288, 319.92017639499176, 392.7048533528637, 378.30681794008416, 72.48707427883627, 534.0877726615894, 82.27056750412481, 122.19701018623269, 303.6333312267349, 189.42146386504433, 751.8380299778943, 1048.3763980183148, 468.60300188976015, 549.2025599017214, 320.9433484169217, 205.90520200302265, 184.38738342124003, 153.4150024516086, 140.69930167774322, 195.28746526929137, 121.06880856949552, 117.45739298288896, 90.63654031245912, 77.93323652929143, 77.2988535921929, 77.28225900393163, 73.68590983875737, 73.19023097903083, 72.85895313345979, 71.8963051831128, 71.1090338748593, 71.1090338748593, 71.1090338748593, 71.1090338748593, 71.1090338748593, 69.9838171881307, 68.99221836357195, 59.570004459381856, 48.7409103365912, 48.215623134945005, 44.81780913740954, 43.11902112593601, 41.96393942146607, 615.4055638209446, 1792.8566776899286, 136.00232218228248, 1131.1032910352035, 241.23206289860428, 125.56402565443375, 62.99302712004577, 61.668066740760544, 39.46638320631014, 37.81781165338271, 37.270832020361624, 36.1809066066239, 34.96465349423738, 33.925202279426294, 33.26220315976699, 31.008353700363926, 30.84089725191274, 30.743902622507235, 27.89875155229165, 27.013200571793742, 26.581064315054324, 26.130296056433366, 25.989771006386427, 24.109256104096453, 23.869855034988078, 23.47461152567188, 23.387706762133092, 22.273073913128634, 22.0322272022761, 21.893855621681997, 20.447967998402437, 19.556867768869147, 19.266596987572743, 19.096248608479698, 19.078212443339506, 277.138872015288], \"Category\": [\"Default\", \"Default\", \"Default\", \"Default\", \"Default\", \"Default\", \"Default\", \"Default\", \"Default\", \"Default\", \"Default\", \"Default\", \"Default\", \"Default\", \"Default\", \"Default\", \"Default\", \"Default\", \"Default\", \"Default\", \"Default\", \"Default\", \"Default\", \"Default\", \"Default\", \"Default\", \"Default\", \"Default\", \"Default\", \"Default\", \"Topic1\", \"Topic1\", \"Topic1\", \"Topic1\", \"Topic1\", \"Topic1\", \"Topic1\", \"Topic1\", \"Topic1\", \"Topic1\", \"Topic1\", \"Topic1\", \"Topic1\", \"Topic1\", \"Topic1\", \"Topic1\", \"Topic1\", \"Topic1\", \"Topic1\", \"Topic1\", \"Topic1\", \"Topic1\", \"Topic1\", \"Topic1\", \"Topic1\", \"Topic1\", \"Topic1\", \"Topic1\", \"Topic1\", \"Topic1\", \"Topic1\", \"Topic1\", \"Topic1\", \"Topic1\", \"Topic1\", \"Topic1\", \"Topic1\", \"Topic1\", \"Topic1\", \"Topic1\", \"Topic1\", \"Topic1\", \"Topic1\", \"Topic1\", \"Topic1\", \"Topic1\", \"Topic1\", \"Topic1\", \"Topic1\", \"Topic1\", \"Topic1\", \"Topic1\", \"Topic1\", \"Topic1\", \"Topic1\", \"Topic1\", \"Topic1\", \"Topic1\", \"Topic1\", \"Topic1\", \"Topic1\", \"Topic1\", \"Topic1\", \"Topic2\", \"Topic2\", \"Topic2\", \"Topic2\", \"Topic2\", \"Topic2\", \"Topic2\", \"Topic2\", \"Topic2\", \"Topic2\", \"Topic2\", \"Topic2\", \"Topic2\", \"Topic2\", \"Topic2\", \"Topic2\", \"Topic2\", \"Topic2\", \"Topic2\", \"Topic2\", \"Topic2\", \"Topic2\", \"Topic2\", \"Topic2\", \"Topic2\", \"Topic2\", \"Topic2\", \"Topic2\", \"Topic2\", \"Topic2\", \"Topic2\", \"Topic2\", \"Topic2\", \"Topic2\", \"Topic2\", \"Topic2\", \"Topic2\", \"Topic2\", \"Topic2\", \"Topic2\", \"Topic2\", \"Topic2\", \"Topic2\", \"Topic2\", \"Topic2\", \"Topic2\", \"Topic2\", \"Topic2\", \"Topic2\", \"Topic2\", \"Topic2\", \"Topic2\", \"Topic2\", \"Topic2\", \"Topic2\", \"Topic2\", \"Topic2\", \"Topic2\", \"Topic2\", \"Topic2\", \"Topic2\", \"Topic2\", \"Topic2\", \"Topic2\", \"Topic2\", \"Topic2\", \"Topic2\", \"Topic2\", \"Topic3\", \"Topic3\", \"Topic3\", \"Topic3\", \"Topic3\", \"Topic3\", \"Topic3\", \"Topic3\", \"Topic3\", \"Topic3\", \"Topic3\", \"Topic3\", \"Topic3\", \"Topic3\", \"Topic3\", \"Topic3\", \"Topic3\", \"Topic3\", \"Topic3\", \"Topic3\", \"Topic3\", \"Topic3\", \"Topic3\", \"Topic3\", \"Topic3\", \"Topic3\", \"Topic3\", \"Topic3\", \"Topic3\", \"Topic3\", \"Topic3\", \"Topic3\", \"Topic3\", \"Topic3\", \"Topic3\", \"Topic3\", \"Topic3\", \"Topic3\", \"Topic3\", \"Topic3\", \"Topic3\", \"Topic3\", \"Topic3\", \"Topic3\", \"Topic3\", \"Topic3\", \"Topic3\", \"Topic3\", \"Topic3\", \"Topic3\", \"Topic3\", \"Topic3\", \"Topic3\", \"Topic3\", \"Topic3\", \"Topic3\", \"Topic3\", \"Topic3\", \"Topic3\", \"Topic3\", \"Topic3\", \"Topic3\", \"Topic3\", \"Topic4\", \"Topic4\", \"Topic4\", \"Topic4\", \"Topic4\", \"Topic4\", \"Topic4\", \"Topic4\", \"Topic4\", \"Topic4\", \"Topic4\", \"Topic4\", \"Topic4\", \"Topic4\", \"Topic4\", \"Topic4\", \"Topic4\", \"Topic4\", \"Topic4\", \"Topic4\", \"Topic4\", \"Topic4\", \"Topic4\", \"Topic4\", \"Topic4\", \"Topic4\", \"Topic4\", \"Topic4\", \"Topic4\", \"Topic4\", \"Topic4\", \"Topic4\", \"Topic4\", \"Topic4\", \"Topic4\", \"Topic4\", \"Topic4\", \"Topic4\", \"Topic4\", \"Topic4\", \"Topic4\", \"Topic4\", \"Topic4\", \"Topic4\", \"Topic4\", \"Topic4\", \"Topic4\", \"Topic4\", \"Topic4\", \"Topic4\", \"Topic4\", \"Topic4\", \"Topic4\", \"Topic4\", \"Topic4\", \"Topic4\", \"Topic5\", \"Topic5\", \"Topic5\", \"Topic5\", \"Topic5\", \"Topic5\", \"Topic5\", \"Topic5\", \"Topic5\", \"Topic5\", \"Topic5\", \"Topic5\", \"Topic5\", \"Topic5\", \"Topic5\", \"Topic5\", \"Topic5\", \"Topic5\", \"Topic5\", \"Topic5\", \"Topic5\", \"Topic5\", \"Topic5\", \"Topic5\", \"Topic5\", \"Topic5\", \"Topic5\", \"Topic5\", \"Topic5\", \"Topic5\", \"Topic5\", \"Topic5\", \"Topic5\", \"Topic5\", \"Topic5\", \"Topic5\", \"Topic5\", \"Topic5\", \"Topic5\", \"Topic5\", \"Topic5\", \"Topic5\", \"Topic5\", \"Topic5\", \"Topic5\", \"Topic5\", \"Topic5\", \"Topic5\", \"Topic5\", \"Topic5\", \"Topic5\", \"Topic5\", \"Topic5\", \"Topic5\", \"Topic5\", \"Topic5\", \"Topic5\", \"Topic5\", \"Topic5\", \"Topic5\", \"Topic6\", \"Topic6\", \"Topic6\", \"Topic6\", \"Topic6\", \"Topic6\", \"Topic6\", \"Topic6\", \"Topic6\", \"Topic6\", \"Topic6\", \"Topic6\", \"Topic6\", \"Topic6\", \"Topic6\", \"Topic6\", \"Topic6\", \"Topic6\", \"Topic6\", \"Topic6\", \"Topic6\", \"Topic6\", \"Topic6\", \"Topic6\", \"Topic6\", \"Topic6\", \"Topic6\", \"Topic6\", \"Topic6\", \"Topic6\", \"Topic6\", \"Topic6\", \"Topic6\", \"Topic6\", \"Topic6\", \"Topic6\", \"Topic6\", \"Topic6\", \"Topic6\", \"Topic6\", \"Topic6\", \"Topic6\", \"Topic6\", \"Topic6\", \"Topic6\", \"Topic6\", \"Topic6\", \"Topic6\", \"Topic6\", \"Topic6\", \"Topic6\", \"Topic6\", \"Topic6\", \"Topic6\", \"Topic7\", \"Topic7\", \"Topic7\", \"Topic7\", \"Topic7\", \"Topic7\", \"Topic7\", \"Topic7\", \"Topic7\", \"Topic7\", \"Topic7\", \"Topic7\", \"Topic7\", \"Topic7\", \"Topic7\", \"Topic7\", \"Topic7\", \"Topic7\", \"Topic7\", \"Topic7\", \"Topic7\", \"Topic7\", \"Topic7\", \"Topic7\", \"Topic7\", \"Topic7\", \"Topic7\", \"Topic7\", \"Topic7\", \"Topic7\", \"Topic7\", \"Topic7\", \"Topic7\", \"Topic7\", \"Topic7\", \"Topic7\", \"Topic7\", \"Topic7\", \"Topic7\", \"Topic7\", \"Topic7\", \"Topic7\", \"Topic7\", \"Topic7\", \"Topic7\", \"Topic7\", \"Topic8\", \"Topic8\", \"Topic8\", \"Topic8\", \"Topic8\", \"Topic8\", \"Topic8\", \"Topic8\", \"Topic8\", \"Topic8\", \"Topic8\", \"Topic8\", \"Topic8\", \"Topic8\", \"Topic8\", \"Topic8\", \"Topic8\", \"Topic8\", \"Topic8\", \"Topic8\", \"Topic8\", \"Topic8\", \"Topic8\", \"Topic8\", \"Topic8\", \"Topic8\", \"Topic8\", \"Topic8\", \"Topic8\", \"Topic8\", \"Topic8\", \"Topic8\", \"Topic8\", \"Topic8\", \"Topic8\", \"Topic8\", \"Topic8\", \"Topic8\", \"Topic8\", \"Topic8\", \"Topic8\", \"Topic8\", \"Topic8\", \"Topic9\", \"Topic9\", \"Topic9\", \"Topic9\", \"Topic9\", \"Topic9\", \"Topic9\", \"Topic9\", \"Topic9\", \"Topic9\", \"Topic9\", \"Topic9\", \"Topic9\", \"Topic9\", \"Topic9\", \"Topic9\", \"Topic9\", \"Topic9\", \"Topic9\", \"Topic9\", \"Topic9\", \"Topic9\", \"Topic9\", \"Topic9\", \"Topic9\", \"Topic9\", \"Topic9\", \"Topic9\", \"Topic9\", \"Topic9\", \"Topic9\", \"Topic9\", \"Topic9\", \"Topic9\", \"Topic9\", \"Topic10\", \"Topic10\", \"Topic10\", \"Topic10\", \"Topic10\", \"Topic10\", \"Topic10\", \"Topic10\", \"Topic10\", \"Topic10\", \"Topic10\", \"Topic10\", \"Topic10\", \"Topic10\", \"Topic10\", \"Topic10\", \"Topic10\", \"Topic10\", \"Topic10\", \"Topic10\", \"Topic10\", \"Topic10\", \"Topic10\", \"Topic10\", \"Topic10\", \"Topic10\", \"Topic10\", \"Topic10\", \"Topic10\", \"Topic10\", \"Topic10\"], \"logprob\": [30.0, 29.0, 28.0, 27.0, 26.0, 25.0, 24.0, 23.0, 22.0, 21.0, 20.0, 19.0, 18.0, 17.0, 16.0, 15.0, 14.0, 13.0, 12.0, 11.0, 10.0, 9.0, 8.0, 7.0, 6.0, 5.0, 4.0, 3.0, 2.0, 1.0, -4.105, -4.3029, -4.617, -4.7377, -4.8143, -5.0281, -5.0345, -5.221, -5.6593, -5.6848, -5.7405, -5.7788, -5.7885, -5.8192, -5.9078, -5.9224, -6.002, -6.0182, -6.0435, -6.0849, -6.1373, -6.1422, -4.8955, -6.1812, -6.277, -6.3014, -6.3138, -6.3245, -6.3399, -6.4041, -5.2912, -4.7586, -4.6282, -5.5017, -4.682, -4.799, -5.4024, -4.5286, -4.9453, -5.6162, -5.7986, -5.2816, -5.3988, -4.6475, -4.4987, -4.3019, -4.9447, -4.6044, -5.1875, -4.8893, -5.3464, -5.4986, -4.8351, -5.165, -4.8938, -5.0799, -4.5222, -4.9503, -4.9629, -4.89, -5.0797, -5.0985, -5.1319, -4.5541, -5.3257, -5.4138, -5.7859, -5.9295, -6.0675, -6.096, -6.1062, -6.164, -6.1805, -6.1823, -6.3111, -6.3383, -6.3876, -6.4629, -6.4633, -6.4757, -6.4861, -6.548, -6.5655, -6.5695, -6.5742, -6.5931, -6.6607, -6.6653, -6.6869, -6.6964, -6.7297, -6.7505, -6.7662, -4.8811, -5.0772, -6.3534, -4.8996, -5.4144, -4.4802, -5.1025, -5.7248, -5.3169, -4.9126, -5.8578, -4.6759, -5.8311, -5.7406, -5.7294, -4.8348, -4.7788, -5.5255, -5.1895, -5.8145, -5.6786, -4.3452, -4.9955, -4.7956, -4.4479, -4.9239, -5.6508, -5.4759, -4.8262, -5.3836, -5.4544, -5.3654, -5.2794, -5.4785, -5.2103, -5.4244, -5.4115, -5.4633, -4.3112, -4.5481, -4.9771, -5.0733, -5.0988, -5.1858, -5.2045, -5.3125, -5.4498, -5.4871, -5.5966, -5.6024, -5.6163, -5.688, -5.7461, -5.8047, -5.8655, -5.9818, -6.2947, -6.3032, -6.3139, -6.3752, -6.4375, -6.3332, -6.4526, -6.4631, -6.4686, -6.4761, -6.4937, -6.5108, -3.649, -4.7203, -5.4569, -4.4158, -4.8672, -4.4236, -5.7848, -5.79, -4.3862, -4.2549, -4.4256, -5.0953, -3.7325, -4.9947, -4.0519, -5.2367, -4.3857, -5.2026, -4.747, -4.1681, -4.9579, -5.3823, -5.254, -4.5066, -4.9035, -5.2159, -5.0176, -4.9523, -5.0254, -5.0092, -5.0034, -5.1604, -5.1805, -3.0799, -4.2655, -4.7035, -4.718, -4.8888, -4.9151, -5.213, -5.4188, -5.4312, -5.517, -5.5275, -5.6091, -5.6815, -5.683, -5.7032, -5.7171, -5.8958, -5.9419, -5.9642, -5.9836, -6.0184, -6.0605, -6.0995, -6.1086, -6.1105, -6.1484, -6.1993, -6.2016, -6.2467, -6.2467, -4.4487, -5.5414, -5.0422, -3.9158, -4.7327, -4.5041, -5.1621, -4.878, -4.1368, -4.7643, -4.2604, -5.058, -5.0523, -5.3801, -5.2067, -4.757, -5.1662, -5.1144, -4.9475, -5.2488, -5.3418, -4.6419, -5.1066, -4.8075, -5.2697, -5.2579, -4.0631, -5.198, -5.233, -5.4521, -5.5593, -5.6044, -5.6841, -5.7414, -5.8247, -5.8245, -5.8858, -5.9668, -5.9763, -5.9777, -6.0046, -6.071, -6.0911, -6.0936, -6.1601, -6.1986, -6.2142, -6.2193, -6.2251, -6.2317, -6.2502, -6.2892, -6.3061, -6.3458, -6.3777, -6.4206, -4.9199, -5.8075, -3.9151, -4.8604, -5.1298, -5.7539, -5.5167, -5.3304, -4.2829, -3.6112, -5.3482, -3.4809, -4.5705, -4.2856, -5.2481, -3.825, -5.2309, -4.8857, -4.7989, -4.5143, -5.3221, -5.2, -5.1063, -5.0556, -5.1953, -4.9891, -5.2422, -5.2587, -5.411, -5.4327, -4.5828, -4.7548, -4.9804, -5.1224, -5.1628, -3.6247, -5.3583, -5.3875, -5.3922, -5.5683, -5.6266, -5.6377, -5.6547, -5.6568, -5.7243, -5.7885, -5.7966, -5.8783, -5.9772, -5.978, -5.9939, -6.0079, -6.0447, -6.0613, -6.0814, -6.1137, -6.1429, -6.1543, -6.183, -6.2121, -3.9075, -4.231, -4.7307, -4.0449, -5.5286, -5.221, -5.3093, -5.2795, -5.2651, -3.9665, -4.7292, -5.2588, -4.6489, -4.7862, -4.736, -4.8682, -5.2062, -5.4457, -5.2401, -5.4486, -5.1109, -5.396, -5.234, -5.4029, -3.9204, -4.2466, -4.3209, -4.5518, -4.6387, -5.093, -5.1308, -5.1538, -5.1835, -5.1817, -5.3308, -5.3309, -5.3788, -5.428, -5.5476, -5.5606, -5.6066, -5.6068, -5.6301, -5.6847, -5.7198, -5.746, -5.7507, -5.7618, -5.7788, -5.803, -5.8056, -5.8235, -5.8326, -5.8378, -5.0839, -5.4815, -4.7602, -5.3396, -5.4361, -4.8321, -4.5822, -4.4052, -5.0495, -5.2795, -4.9277, -4.7331, -5.3207, -5.2771, -5.43, -5.5005, -3.3964, -3.6403, -4.5125, -4.5552, -4.6004, -4.6109, -4.6338, -4.7334, -4.7678, -4.8142, -4.8257, -4.8352, -4.8435, -4.8683, -4.9135, -4.9154, -5.046, -5.082, -5.2055, -5.3447, -5.375, -5.4771, -5.5589, -5.597, -5.6287, -5.6427, -5.7036, -5.714, -5.7521, -5.7665, -4.051, -4.2956, -4.2109, -4.2591, -5.4441, -4.2166, -5.3861, -5.2137, -4.813, -5.1187, -4.8729, -4.826, -5.2377, -2.7101, -3.2485, -3.6942, -3.805, -3.9899, -4.077, -3.7495, -4.2284, -4.2589, -4.5206, -4.6733, -4.6816, -4.6818, -4.7301, -4.7369, -4.7415, -4.755, -4.7662, -4.7662, -4.7662, -4.7662, -4.7662, -4.7824, -4.7968, -4.9459, -5.1501, -5.1612, -5.2358, -5.2753, -5.3031, -3.8547, -3.3999, -4.75, -3.8415, -4.6413, -3.4113, -4.1088, -4.1303, -4.5855, -4.6293, -4.6442, -4.6747, -4.7099, -4.7409, -4.7612, -4.8335, -4.8391, -4.8424, -4.9427, -4.9762, -4.9929, -5.0106, -5.0162, -5.0943, -5.1047, -5.1221, -5.126, -5.1769, -5.1883, -5.1949, -5.2665, -5.3132, -5.329, -5.3383, -5.3393, -5.151], \"loglift\": [30.0, 29.0, 28.0, 27.0, 26.0, 25.0, 24.0, 23.0, 22.0, 21.0, 20.0, 19.0, 18.0, 17.0, 16.0, 15.0, 14.0, 13.0, 12.0, 11.0, 10.0, 9.0, 8.0, 7.0, 6.0, 5.0, 4.0, 3.0, 2.0, 1.0, 1.5814, 1.5812, 1.581, 1.5808, 1.5807, 1.5804, 1.5804, 1.5801, 1.579, 1.5789, 1.5787, 1.5786, 1.5785, 1.5784, 1.5781, 1.578, 1.5777, 1.5776, 1.5775, 1.5773, 1.5771, 1.5771, 1.577, 1.5769, 1.5763, 1.5762, 1.5761, 1.576, 1.576, 1.5756, 1.569, 1.5527, 1.5352, 1.5588, 1.5222, 1.5149, 1.5133, 1.4111, 1.4506, 1.5224, 1.5361, 1.4284, 1.4308, 1.2359, 1.1919, 1.0816, 1.229, 1.0776, 1.2892, 1.1304, 1.3491, 1.4423, 0.8914, 1.159, 0.854, 1.0596, 0.2749, 0.6212, 0.5161, 0.1363, 0.3473, -0.5423, 0.058, 1.6208, 1.6196, 1.6194, 1.6183, 1.6178, 1.6172, 1.6171, 1.617, 1.6167, 1.6167, 1.6166, 1.6159, 1.6158, 1.6155, 1.615, 1.615, 1.6149, 1.6148, 1.6144, 1.6142, 1.6142, 1.6142, 1.614, 1.6135, 1.6135, 1.6133, 1.6132, 1.6129, 1.6127, 1.6126, 1.5971, 1.5951, 1.6054, 1.5295, 1.5261, 1.443, 1.4699, 1.5304, 1.4707, 1.417, 1.5296, 1.3109, 1.4965, 1.4766, 1.4705, 1.2674, 1.2368, 1.3799, 1.2677, 1.4514, 1.3557, 0.5717, 0.9442, 0.8132, 0.5784, 0.8057, 1.314, 1.0009, -0.0291, 0.7647, 0.7942, 0.3726, -0.0211, 0.5401, -0.654, 0.2242, -0.028, -0.0364, 1.7027, 1.7024, 1.7018, 1.7016, 1.7016, 1.7014, 1.7014, 1.7011, 1.7008, 1.7007, 1.7003, 1.7003, 1.7003, 1.7, 1.6998, 1.6996, 1.6993, 1.6988, 1.6971, 1.697, 1.697, 1.6965, 1.6961, 1.696, 1.696, 1.6959, 1.6959, 1.6958, 1.6957, 1.6955, 1.6879, 1.6947, 1.687, 1.6597, 1.6526, 1.6207, 1.6728, 1.6682, 1.5825, 1.5685, 1.5649, 1.6048, 1.4574, 1.566, 1.2064, 1.5059, 1.1858, 1.4603, 0.9795, 0.3882, 1.0283, 1.454, 1.2985, 0.2905, 0.5756, 1.1762, 0.6644, 0.4746, 0.191, 0.017, -0.0865, 0.5875, 0.8185, 2.1192, 2.1183, 2.1176, 2.1176, 2.1173, 2.1172, 2.1164, 2.1156, 2.1156, 2.1152, 2.1152, 2.1148, 2.1144, 2.1144, 2.1143, 2.1142, 2.1132, 2.1129, 2.1127, 2.1126, 2.1123, 2.1119, 2.1117, 2.1117, 2.1116, 2.1113, 2.1109, 2.1109, 2.1105, 2.1105, 2.0958, 2.103, 2.0657, 2.003, 2.0162, 1.9345, 1.9558, 1.8273, 1.6285, 1.7454, 1.5566, 1.8155, 1.7754, 1.8721, 1.7436, 1.3677, 1.6517, 1.5041, 1.1919, 1.5991, 1.6853, -0.0856, 1.087, -0.0104, 0.904, 0.5346, 2.2008, 2.1984, 2.1983, 2.1973, 2.1969, 2.1966, 2.1962, 2.1959, 2.1954, 2.1954, 2.1949, 2.1944, 2.1943, 2.1943, 2.194, 2.1935, 2.1934, 2.1933, 2.1927, 2.1924, 2.1923, 2.1922, 2.1921, 2.1921, 2.1919, 2.1915, 2.1913, 2.1909, 2.1905, 2.1901, 2.1866, 2.1861, 2.1023, 2.1138, 2.0705, 2.1385, 2.0621, 2.0139, 1.7871, 1.6052, 2.0014, 1.436, 1.58, 1.3743, 1.6979, 0.7313, 1.6238, 1.1646, 0.8497, 0.2828, 1.3916, 1.1057, 0.9123, 0.7369, 0.7444, 0.0372, 0.8066, 0.7275, 0.9314, 0.6161, 2.6659, 2.6653, 2.6644, 2.6637, 2.6635, 2.6635, 2.6624, 2.6622, 2.6621, 2.6608, 2.6603, 2.6602, 2.6601, 2.66, 2.6595, 2.6588, 2.6588, 2.6579, 2.6567, 2.6567, 2.6565, 2.6564, 2.6559, 2.6557, 2.6554, 2.655, 2.6546, 2.6544, 2.654, 2.6535, 2.5584, 2.4842, 2.5012, 2.2607, 2.5428, 2.2639, 2.2301, 2.1991, 2.1053, 0.5897, 1.3058, 1.8704, 1.1682, 1.2154, 1.0293, 0.7406, 1.3012, 2.0117, 1.2696, 1.9736, 0.5377, 1.7493, 0.8164, -0.3766, 2.9378, 2.937, 2.9368, 2.936, 2.9356, 2.9332, 2.933, 2.9328, 2.9326, 2.9326, 2.9315, 2.9314, 2.9311, 2.9306, 2.9295, 2.9293, 2.9288, 2.9288, 2.9286, 2.9279, 2.9275, 2.9272, 2.9271, 2.927, 2.9268, 2.9265, 2.9264, 2.9262, 2.9261, 2.926, 2.8393, 2.883, 2.777, 2.8426, 2.7921, 2.052, 1.81, 1.6299, 1.9229, 2.0909, 0.7323, -0.1768, 1.5272, 1.1713, -0.6329, 0.908, 3.3787, 3.3782, 3.3749, 3.3746, 3.3743, 3.3743, 3.3741, 3.3735, 3.3732, 3.3728, 3.3728, 3.3727, 3.3726, 3.3724, 3.3721, 3.3721, 3.3709, 3.3705, 3.3692, 3.3675, 3.3671, 3.3657, 3.3644, 3.3638, 3.3632, 3.363, 3.3619, 3.3617, 3.361, 3.3607, 3.295, 2.9069, 2.7866, 2.7758, 3.2431, 2.4735, 3.1745, 2.9513, 2.4417, 2.6079, 1.4752, 1.1897, 1.5831, 3.9521, 3.9508, 3.949, 3.9486, 3.9475, 3.947, 3.9467, 3.9459, 3.9456, 3.9432, 3.9414, 3.9413, 3.9413, 3.9407, 3.9406, 3.9406, 3.9404, 3.9402, 3.9402, 3.9402, 3.9402, 3.9402, 3.9399, 3.9398, 3.9376, 3.934, 3.9337, 3.9322, 3.9314, 3.9307, 2.6936, 2.0792, 3.3079, 2.0982, 2.8435, 4.7265, 4.7188, 4.7185, 4.7096, 4.7085, 4.7082, 4.7074, 4.7064, 4.7056, 4.705, 4.7028, 4.7027, 4.7025, 4.6993, 4.6981, 4.6975, 4.6969, 4.6967, 4.6937, 4.6933, 4.6926, 4.6924, 4.6903, 4.6898, 4.6895, 4.6863, 4.6841, 4.6833, 4.6828, 4.6828, 2.1951]}, \"token.table\": {\"Topic\": [1, 2, 3, 4, 4, 4, 4, 1, 3, 4, 5, 6, 7, 9, 9, 1, 3, 4, 5, 6, 9, 1, 3, 4, 5, 6, 6, 1, 4, 6, 7, 1, 4, 5, 6, 7, 1, 3, 4, 6, 7, 10, 1, 4, 6, 1, 4, 6, 4, 6, 4, 9, 1, 2, 3, 4, 5, 6, 7, 9, 3, 7, 5, 9, 6, 7, 9, 9, 4, 7, 7, 4, 7, 8, 5, 10, 2, 1, 10, 7, 7, 9, 10, 1, 2, 3, 4, 5, 6, 7, 9, 4, 1, 4, 5, 10, 9, 1, 9, 4, 3, 4, 4, 1, 4, 1, 9, 9, 4, 4, 10, 1, 2, 3, 4, 5, 6, 7, 1, 2, 3, 4, 5, 7, 9, 9, 1, 2, 4, 5, 6, 7, 10, 2, 9, 7, 1, 2, 5, 3, 7, 8, 2, 2, 3, 1, 1, 1, 2, 5, 6, 1, 4, 10, 1, 1, 10, 9, 6, 1, 2, 3, 5, 6, 7, 7, 1, 2, 3, 6, 9, 1, 2, 3, 4, 5, 6, 7, 10, 1, 4, 8, 2, 5, 2, 2, 1, 2, 3, 4, 8, 1, 4, 3, 1, 3, 9, 2, 3, 4, 5, 6, 1, 2, 3, 6, 9, 1, 6, 8, 10, 4, 3, 3, 4, 7, 9, 3, 3, 7, 7, 5, 2, 1, 2, 3, 4, 6, 1, 3, 1, 5, 8, 4, 5, 2, 1, 2, 3, 4, 5, 8, 10, 1, 3, 2, 6, 2, 5, 6, 2, 3, 4, 7, 5, 8, 5, 10, 7, 3, 5, 5, 1, 2, 3, 4, 7, 8, 7, 5, 8, 8, 8, 1, 2, 2, 3, 5, 7, 6, 3, 1, 2, 3, 4, 5, 4, 8, 1, 1, 2, 4, 5, 8, 2, 5, 6, 7, 1, 5, 2, 3, 4, 7, 1, 5, 8, 9, 6, 4, 5, 6, 7, 1, 9, 2, 6, 9, 5, 1, 1, 2, 3, 4, 5, 6, 8, 3, 8, 8, 1, 3, 8, 4, 5, 6, 7, 1, 3, 5, 5, 1, 2, 1, 3, 4, 5, 8, 5, 8, 2, 7, 7, 8, 5, 1, 3, 4, 5, 7, 9, 1, 3, 4, 3, 5, 3, 5, 6, 8, 2, 4, 6, 8, 2, 8, 1, 3, 5, 7, 2, 7, 9, 7, 1, 1, 2, 3, 4, 5, 6, 6, 10, 1, 3, 4, 1, 2, 3, 5, 6, 1, 2, 3, 4, 5, 6, 8, 6, 3, 4, 6, 2, 6, 7, 8, 9, 2, 3, 1, 2, 6, 7, 1, 8, 1, 2, 3, 4, 5, 1, 3, 4, 1, 2, 4, 5, 9, 6, 2, 3, 5, 8, 8, 6, 10, 10, 4, 6, 3, 1, 2, 3, 6, 5, 10, 4, 1, 3, 8, 5, 7, 6, 9, 4, 5, 4, 10, 1, 5, 3, 2, 3, 8, 8, 1, 2, 3, 4, 5, 8, 1, 4, 6, 3, 6, 7, 1, 4, 6, 10, 1, 4, 6, 5, 10, 7, 1, 4, 9, 3, 5, 1, 2, 3, 4, 5, 1, 4, 5, 5, 3, 8, 2, 5, 6, 1, 10, 1, 2, 3, 4, 5, 6, 1, 2, 3, 4, 5, 6, 7, 6, 7, 2, 1, 3, 8, 2, 7, 7, 9, 8, 1, 3, 7, 2, 8, 8, 4, 5, 2, 6, 7, 3, 3, 5, 10, 2, 6, 3, 4, 4, 2, 8, 1, 1, 8, 1, 3, 5, 8, 3, 1, 3, 4, 1, 2, 5, 9, 1, 3, 1, 3, 2, 3, 5, 8, 9, 3, 1, 5, 1, 3, 6, 2, 6, 10, 1, 3, 1, 5, 3, 1, 3, 4, 5, 6, 8, 10, 7, 10, 5, 1, 2, 8, 6, 3, 1, 3, 8, 1, 2, 3, 6, 7, 4, 5, 2, 10, 7, 7, 3, 4, 6, 1, 3, 4, 5, 9, 6, 7, 4, 2, 6, 1, 2, 3, 4, 5, 7, 8, 1, 3, 5, 4, 1, 3, 4, 6, 3, 5, 8, 5, 6, 1, 2, 3, 5, 6, 7, 4, 1, 2, 4, 5, 6, 8, 8, 1, 2, 3, 5, 6, 8, 2, 8, 2, 1, 9, 10, 9, 3, 1, 4, 5, 1, 3, 4, 4, 5, 8, 2, 4, 5, 4, 10, 1, 3, 6, 6, 7, 3, 1, 2, 5, 6, 7, 1, 3, 4, 5, 6, 7, 8, 6, 7, 8, 1, 2, 3, 4, 6, 2, 6, 7, 3, 4, 9, 1, 2, 3, 4, 2, 6, 1, 2, 3, 5, 6, 7, 3, 2, 6, 8, 2, 4, 7, 10, 8, 7, 1, 1, 1, 3, 5, 6, 5, 6, 1, 3, 1, 2, 3, 4, 5, 6, 7, 2, 4, 8, 9, 7, 9, 9, 1, 2, 3, 5, 1, 5, 6, 1, 3, 5, 9, 1, 4, 2, 2, 3, 6, 8, 3, 2, 1, 6, 7, 5, 2, 1, 2, 3, 5, 6, 7, 9, 7, 2, 5, 1, 9, 10, 2, 4, 1, 2, 3, 5, 6, 7, 1, 2, 3, 5, 6, 7, 10, 1, 2, 3, 4, 1, 2, 3, 5, 9, 1, 2, 3, 4, 5, 6, 1, 2, 3, 4, 5, 6, 7, 5, 4, 5, 2, 1, 2, 4, 5, 7, 8, 5, 2, 6, 8, 7, 2, 8, 7, 1, 2, 3, 4, 5, 6, 7, 1, 2, 5, 6, 1, 4, 2, 4, 8, 4, 3, 1, 3, 4, 9], \"Freq\": [0.11097293299616774, 0.014953799481753101, 0.8736167065655759, 0.9995928820525978, 0.9964737078610861, 0.995058227584015, 0.9965663152034689, 0.1306999751665478, 0.005198294466851334, 0.6119135200979284, 0.010396588933702667, 0.19382212226402828, 0.014852269905289523, 0.03193238029637248, 0.9875333623775241, 0.1517258145352933, 0.007038826447513607, 0.5693628504211007, 0.0391045913750756, 0.2228961708379309, 0.009385101930018142, 0.023450820306192475, 0.02032404426536681, 0.6878907289816459, 0.02032404426536681, 0.2470153072252274, 0.981796455160208, 0.08771909361056346, 0.7377400693401235, 0.08546988608208747, 0.08771909361056346, 0.022814298681067165, 0.7471682818049497, 0.02471549023782276, 0.2034274965728489, 0.0019011915567555971, 0.07348047222229659, 0.0019859587087107185, 0.9016252537546663, 0.009929793543553594, 0.011915752252264312, 0.9674812242498352, 0.10511770293621867, 0.7818129155881263, 0.11168755936973233, 0.199157952034642, 0.6873378100707768, 0.11415150909302652, 0.8501633926435312, 0.1493530284373771, 0.982200288848116, 0.014587133002694793, 0.036469796791102585, 0.06838086898331734, 0.19488547660245442, 0.3555805187132502, 0.19716483890189834, 0.07863799933081494, 0.06724118783359538, 0.9844037555507922, 0.14851754309638251, 0.8517917912880762, 0.9840007721428107, 0.9844037555507922, 0.6261728703605255, 0.37076025218715325, 0.9911718915703874, 0.9747877750839652, 0.08325794600040444, 0.9075116114044084, 0.983634084360249, 0.049953694784411806, 0.9491202009038243, 0.9910783855333121, 0.9944545189821411, 0.9724106090627677, 0.9931103366503174, 0.9958915326053753, 0.9434846190888326, 0.9912824858908105, 0.9948456369353162, 0.9904313510708143, 0.9781399153861106, 0.2165599208118407, 0.44518623017331477, 0.04382004262761586, 0.0076208769787158015, 0.10605720462046157, 0.1454317356771599, 0.03429394640422111, 0.9834081065892963, 0.9941902166517206, 0.9969636144853383, 0.9917743244733863, 0.9933159864632388, 0.9758032468538125, 0.9837378436560498, 0.9935998566170141, 0.985618401797965, 0.9989579421228184, 0.9901682246678569, 0.9917523596252663, 0.9971040200023196, 0.9953531854666764, 0.9965993289647286, 0.9924720028624505, 0.98821074011472, 0.9844037555507922, 0.9966703603936056, 0.9958179199815484, 0.962052929756207, 0.11947488639780524, 0.10262870575544308, 0.26843058891974425, 0.11016515499018405, 0.22986170165959932, 0.12501639318805594, 0.044332054322005654, 0.16337342694347357, 0.442111422912821, 0.20636643403386137, 0.09243496524433373, 0.08025361323539053, 0.015047552481635725, 0.9844037555507922, 0.9844037555507922, 0.016522504737447277, 0.8365605030223306, 0.08087331266224194, 0.060872385874805764, 0.004348027562486126, 0.0008696055124972252, 0.9291876826824277, 0.9941405327228025, 0.9847990049534431, 0.9975413643519955, 0.49064967587409947, 0.227471008761038, 0.2803712433566283, 0.5907435174411009, 0.32247646128549506, 0.08617905430905472, 0.9948949481607114, 0.9943644383682821, 0.9888169060410804, 0.9975522122464554, 0.9958867272950317, 0.9993165301505925, 0.9901505612611089, 0.992726376699461, 0.9858392053151795, 0.7027492128917313, 0.2960708130624941, 0.9881827730736782, 0.9945469651785575, 0.9979450190538793, 0.965902772987001, 0.9970607011437537, 0.98426876818989, 0.26467706470406227, 0.4247903507596061, 0.1590240800279551, 0.07297680384844514, 0.05010347726908174, 0.028319356717307072, 0.9978188842709398, 0.6040247801054576, 0.019132006609675126, 0.35394212227898986, 0.014349004957256346, 0.008882717354492023, 0.10694323224946457, 0.10426965144322796, 0.07887063378398013, 0.12298471708688426, 0.43713046181968646, 0.03943531689199006, 0.11028520825726035, 0.9619169016093596, 0.8685614531918792, 0.12751733246307367, 0.9916166618847375, 0.9116056255185815, 0.08654483786568812, 0.993013812367908, 0.9905379162156576, 0.6767784999956301, 0.03859429327877321, 0.0957965493883835, 0.1633365626262366, 0.024810617107782776, 0.9542824676498913, 0.04533671051407363, 0.9975498319735233, 0.997621999498788, 0.9961721848602794, 0.9950298141539828, 0.7020703216202495, 0.16225625210779102, 0.040564063026947754, 0.06656666753140145, 0.02912291704498813, 0.19815299315782026, 0.19323271567534617, 0.6083252160149787, 0.994740376160875, 0.9770293391241295, 0.9763666132181328, 0.021697035849291838, 0.9165080241287424, 0.07938258476705642, 0.9942236093120422, 0.9895197898853223, 0.9967202431156887, 0.9469195720484388, 0.051184841732348045, 0.9907766357331649, 0.997981017821513, 0.9893394729609666, 0.9840404552642371, 0.9968630451606098, 0.9849891691636877, 0.9974738642829539, 0.35037967619242255, 0.43707155483797044, 0.09873241734631838, 0.11318106378724303, 0.9940594751662204, 0.9956405062604363, 0.0030125280068394444, 0.9960891645669713, 0.18232522826888173, 0.8143860196010051, 0.9950036679938669, 0.9958100479016551, 0.997288073155835, 0.05617054262541357, 0.001872351420847119, 0.029957622733553905, 0.19097984492640616, 0.3164273901231631, 0.4044279069029777, 0.9635584282471319, 0.994635037746229, 0.9924508734279307, 0.15128892992806514, 0.8465742249166198, 0.9137972271889707, 0.08273061316114139, 0.9846530952957301, 0.8147886052595138, 0.05223003879868678, 0.09531982080760339, 0.03656102715908075, 0.9969083522914542, 0.9932042977572381, 0.9959568034799394, 0.9955080633048035, 0.9921572710706185, 0.12163577423771961, 0.8764013477128003, 0.990221061531536, 0.2394132683143102, 0.33118835450146245, 0.26202452143288396, 0.014630810841430067, 0.0026601474257145576, 0.14896825584001525, 0.9957673158037827, 0.8697799232941211, 0.12750700446196542, 0.9896496874680649, 0.971597402544217, 0.9948221902120076, 0.9901734603184743, 0.9855251569680117, 0.013317907526594753, 0.9892297312526265, 0.9810896837663879, 0.9814119193778216, 0.9913046842781024, 0.04597314444426039, 0.5074727867501051, 0.14233992799088313, 0.07161201346125176, 0.23251801901616312, 0.9893447216616638, 0.9904424585278426, 0.997866385672407, 0.24355963464386468, 0.5370414304259128, 0.09833152951460376, 0.049922161138183443, 0.06958846704110419, 0.7016713219453261, 0.15576213277856074, 0.12906005287366462, 0.013351039952448065, 0.169290111875782, 0.828440973009146, 0.030696506159027845, 0.12936384738447448, 0.5941966549354676, 0.24337944168943507, 0.9421903451446652, 0.010366397440466977, 0.042617411699697565, 0.0046072877513186564, 0.9876102136860544, 0.020663134285685482, 0.5195302334686636, 0.3985033040810772, 0.05903752653052995, 0.005120656354574787, 0.9934073327875088, 0.9872061772588089, 0.6674071351272747, 0.327485488664936, 0.9979392878043011, 0.9981377470276537, 0.2906654275894373, 0.19060028038651627, 0.2927832084826208, 0.13606742238704078, 0.07729900260119826, 0.009530014019325813, 0.003176671339775271, 0.9988932828741548, 0.9907674799720774, 0.9901087668583423, 0.9412630739169117, 0.02345826975493861, 0.032255120913040586, 0.9968359013027251, 0.9979624276589174, 0.9973608998034001, 0.9839541072608694, 0.26117668721994375, 0.5093871559254222, 0.22876114093378053, 0.9910789052383606, 0.997794005672046, 0.998179566208746, 0.7457201118016334, 0.13613551736743815, 0.02420186975421123, 0.07714345984154829, 0.015126168596382017, 0.994571840493454, 0.9913718356789755, 0.13076503412998705, 0.8630492252579146, 0.9973162268056726, 0.9878486725223696, 0.9897396528321561, 0.13467630382806006, 0.22045738906886264, 0.08964123407663871, 0.5507145672459526, 0.00428905426204013, 0.00042890542620401293, 0.9338280499206176, 0.002346301632966376, 0.06335014409009215, 0.9681288632795196, 0.028237091845652658, 0.3941952792993442, 0.604593986655436, 0.9806772087040253, 0.9956052610733854, 0.28758212775714626, 0.08133635936565753, 0.4502548464884613, 0.1771970686180396, 0.9903215444221649, 0.9853222016360985, 0.8589735240015574, 0.0409035011429313, 0.09902952908288631, 0.996798375356775, 0.15440912819013428, 0.3161710720083702, 0.5220499095952159, 0.989714187393598, 0.9926705161687418, 0.17978360803945923, 0.20957024132410335, 0.11382749148060436, 0.47126709089633395, 0.018084741637105366, 0.0063828499895666, 0.9877394301282124, 0.9783749609607683, 0.015000318774975922, 0.9846983453895485, 0.989620121331347, 0.41385773848884777, 0.17212719578058894, 0.17494895308846745, 0.0056435146157570145, 0.2342058565539161, 0.6369473502206416, 0.01053597120665723, 0.048848593776319886, 0.20018345292648737, 0.008620340078174096, 0.048848593776319886, 0.04597514708359518, 0.9963979718051111, 0.9646902418104067, 0.03229088675516006, 0.9858725539069627, 0.35690392328647835, 0.15458259097758298, 0.4114624848079782, 0.07501802209206233, 0.9831969876416888, 0.858924826717817, 0.13982497179127254, 0.19062391055595446, 0.2830181529172589, 0.2557861656949797, 0.2694021593061193, 0.998684052266612, 0.9832150689583454, 0.09300416741295321, 0.223536332203063, 0.6673456924894362, 0.016316520598763724, 0.9908864895186144, 0.28850292841555686, 0.06294609347248513, 0.6478202119876595, 0.22613041451561666, 0.7330703191879212, 0.017608515884412774, 0.023169099847911545, 0.9978103527013118, 0.9893747143370991, 0.7849243821510562, 0.1439802121105488, 0.013933568913924076, 0.0557342756556963, 0.9901333597639891, 0.9917751130219609, 0.9842359199828045, 0.93425943417046, 0.1032543717428001, 0.8948712217709341, 0.997914284553732, 0.2698556547932266, 0.43208101952441486, 0.042116200459058485, 0.2542570620306123, 0.9951181206537206, 0.971525717949805, 0.9935739779197824, 0.04895660600281435, 0.9507057036675561, 0.9984850443650736, 0.9875372463321439, 0.9927387890757212, 0.879378337793064, 0.11178538192284712, 0.01419834069073986, 0.9853648439373462, 0.9972527605702519, 0.9673610553913621, 0.4371095498025357, 0.5607364931810306, 0.9972653027279799, 0.02500623777514658, 0.3500873288520521, 0.6220301646567712, 0.9927967108559617, 0.6063021900752988, 0.19213087795864403, 0.16272826338977503, 0.015208248914932245, 0.02027766521990966, 0.0035485914134841907, 0.45844129378594367, 0.540368064918793, 0.9845667657882607, 0.9910650238990694, 0.08996133770951598, 0.9060391869315537, 0.9561120223997096, 0.042810986077598936, 0.9840635265936185, 0.9891667312424605, 0.792558056469325, 0.19955143464548325, 0.005647682112608017, 0.9889150805659899, 0.9539904466854132, 0.985375812814072, 0.8576667402192619, 0.1337119639540052, 0.007640683654514583, 0.9932082936878766, 0.9874243787999493, 0.008511443882784605, 0.06383582912088454, 0.04894080232601148, 0.6255911253846684, 0.25321545551284197, 0.30013060509047423, 0.03827168789744302, 0.660690191071648, 0.9950245687014198, 0.9969514469773793, 0.9945454680469722, 0.8607480319377303, 0.014449007730369574, 0.12384863768888206, 0.9951390382996224, 0.9727281720590543, 0.003179170350816752, 0.3500266556249244, 0.1669064434178795, 0.003179170350816752, 0.46479470528940914, 0.011762930298021983, 0.2354941201645953, 0.352177200788318, 0.1851324257920463, 0.033692682854874326, 0.11490978152609771, 0.04752441581634905, 0.031210064118199377, 0.5693576135623332, 0.42886677385214705, 0.9930231318086442, 0.9991928551925051, 0.9570137446632072, 0.04253394420725365, 0.9970326094161557, 0.9859611439406157, 0.9930585277076355, 0.9859422188205882, 0.9863954425686787, 0.8761876467050462, 0.12138268354034876, 0.992147945554204, 0.6059940760014914, 0.39192008176183407, 0.9919906515485671, 0.006894357348975151, 0.9858931009034466, 0.7661214324461427, 0.1637914786608995, 0.06604495107294334, 0.9970609919244953, 0.9984393977035821, 0.997107738255793, 0.9531492121609265, 0.9883729064295051, 0.9984341715703408, 0.9987798093213235, 0.9993672105586324, 0.9966775939863551, 0.9957848073778409, 0.9765744825344747, 0.9968386854223682, 0.9949860182479608, 0.9868496994811905, 0.37558444843553174, 0.3136983745455862, 0.14297817071125354, 0.16645219873847428, 0.9963083063582928, 0.9962337789280987, 0.10910056780257528, 0.8901220928654555, 0.13093126657239892, 0.8604054660471929, 0.003117411108866641, 0.003117411108866641, 0.9877272105096441, 0.011098058545052181, 0.1283624073546324, 0.8706319803183762, 0.09780421141090834, 0.3409930614055993, 0.013216785325798423, 0.5471749124880547, 0.9817525855647657, 0.9915565336226966, 0.09364745189600762, 0.9049401729134614, 0.007110446908807853, 0.9911962990878147, 0.9891749776659603, 0.9877943055001139, 0.9879660065984897, 0.9677852411923492, 0.09266976681107186, 0.9058942510714985, 0.9981301343548221, 0.9947503489090718, 0.9971025640166461, 0.6543943730070023, 0.0597264705522264, 0.04154884907980967, 0.09738011503080392, 0.13113855490814927, 0.014282416871184575, 0.9406651205162226, 0.9900744622197409, 0.9797819220500052, 0.9921088060976696, 0.02391107067086831, 0.9729966449914873, 0.9962151254605017, 0.9926591883079136, 0.9930427900698021, 0.17760080490059849, 0.8209103870960996, 0.9782886186380754, 0.08881189865263886, 0.8659160118632289, 0.04440594932631943, 0.9947020803417822, 0.0050110936037369375, 0.9974765767356468, 0.9900130727421439, 0.9975232217393717, 0.9428424689787325, 0.983874348035243, 0.9838219585804874, 0.7835622055180302, 0.1986239079103844, 0.014577901498009865, 0.08235415148393005, 0.7801972245846004, 0.09535743856034005, 0.043344290254700026, 0.974048086048435, 0.990592842775831, 0.9931601356999762, 0.9943761601672129, 0.9922462461234438, 0.9908140116969796, 0.48311781676835763, 0.0408679724154502, 0.327673564545306, 0.005108496551931275, 0.11603585025101038, 0.003648926108522339, 0.0226233418728385, 0.5014840894442125, 0.4850536990493166, 0.013572931195783528, 0.9963901589519821, 0.7070245099135726, 0.12285177654526616, 0.1312090402558285, 0.03760768669753046, 0.9924328627707111, 0.1241600670124948, 0.8691204690874635, 0.9929250511266186, 0.9972408552101253, 0.1922754423020848, 0.3313053775051307, 0.2277724470347774, 0.2474930052196066, 0.6435630568423881, 0.35023839828157177, 0.9943124481856711, 0.04292351495613683, 0.6800992480827903, 0.02480025308576795, 0.13735524785963787, 0.0019077117758283038, 0.11160113888595577, 0.990954646054894, 0.21279024980786718, 0.24715389263398238, 0.15529723200263598, 0.25838816048098157, 0.11895107132116799, 0.007269232136293599, 0.9931381145562214, 0.99603455884918, 0.9900959541629629, 0.842540206144922, 0.15648438246343252, 0.9727343454036316, 0.9956037924529495, 0.9950929412032407, 0.4497611857758615, 0.012008186998870088, 0.537093454858553, 0.09048471712480231, 0.871943637748095, 0.03619388684992093, 0.0821007489013397, 0.9155477453240305, 0.9862474249753692, 0.995154024340307, 0.7090463141761993, 0.2900644012538997, 0.994576421987634, 0.9425935098062711, 0.21762774160861986, 0.7819561080447914, 0.9774424300181302, 0.8313679013799046, 0.16704158757517712, 0.9967987234016509, 0.9994727351927148, 0.734346276979632, 0.04682073578058056, 0.0788559760515041, 0.13799795809013218, 0.1985101302861486, 0.05440648015249999, 0.1308696414479054, 0.2955595273149324, 0.11910607817168917, 0.1705716675051351, 0.030879353600067563, 0.15548661928015511, 0.18822064439176672, 0.6546805022322321, 0.3152231667114043, 0.022515940479386026, 0.4127922421220771, 0.2157777629274494, 0.03377391071907904, 0.1290567771686203, 0.5202601329610006, 0.3508731129271864, 0.9988596555185765, 0.9957862538776834, 0.992475713926313, 0.38235569896446037, 0.02141191914200978, 0.595863121266215, 0.9877558670073883, 0.9971746989078343, 0.9973889208407908, 0.3645148956469901, 0.21051441647830046, 0.015541332760142988, 0.2514870210277684, 0.02543127178932489, 0.13139490424484526, 0.99886296705793, 0.9126655703139923, 0.016474107767400582, 0.06919125262308244, 0.1674508641743352, 0.8314299429873512, 0.9829537486193562, 0.9624923907442611, 0.9897025612362941, 0.9910101645015388, 0.9992424837603301, 0.9957335890235105, 0.13826149322825812, 0.3496040614485955, 0.3545419719210333, 0.15702555302352172, 0.33400414428175007, 0.6654586386071509, 0.07853387129904786, 0.9208096409813362, 0.2704663917617938, 0.19178013180189762, 0.24339154962505535, 0.11873446395382191, 0.14665539490733348, 0.0002820296055910259, 0.02820296055910259, 0.25868240589097474, 0.27452010421083034, 0.4592932512758123, 0.9875921562204154, 0.9932241496977797, 0.9906914382918213, 0.9929770012153518, 0.02366272054407403, 0.02730313908931619, 0.8855318111301551, 0.06279721990542723, 0.056079529646739165, 0.9408898862952905, 0.9886838209176073, 0.008843297055111629, 0.984553738802428, 0.00589553137007442, 0.9880251793605328, 0.934512040931342, 0.06427180474080757, 0.9988652602457846, 0.4205048036273548, 0.07787125993099163, 0.4983760635583464, 0.9989283033025188, 0.9896818915368142, 0.9953400891784046, 0.9947482025303472, 0.9917726785873292, 0.9811426787548643, 0.985897927595168, 0.9933784508205713, 0.14378535319597482, 0.11502828255677985, 0.05943127932100292, 0.4447760258862154, 0.20896804664481672, 0.024922794553968966, 0.0019171380426129974, 0.9942485312940746, 0.9885457559269641, 0.9989280590726235, 0.7149756613640565, 0.2843653198607043, 0.9567438480607998, 0.022661785125194855, 0.9760754593208927, 0.1607281272357295, 0.33867712524671567, 0.08993121404856293, 0.2755339324041077, 0.07653720344558547, 0.0574029025841891, 0.253286680004853, 0.11671052902184403, 0.11174412353155279, 0.084428893334951, 0.07201287960922291, 0.3625476007912602, 0.9591732202345945, 0.04995453851266681, 0.8425665495803135, 0.10323937959284474, 0.9931527055279588, 0.3441435155848576, 0.10207173963051693, 0.32350606003114657, 0.07641436245563289, 0.153386493980285, 0.06865219357157418, 0.28689390366226264, 0.31218681708336893, 0.15392544453416107, 0.13007784045140372, 0.049140517503863626, 0.09081057918150338, 0.14575479515686676, 0.21138260868299527, 0.20527769579684377, 0.2312235755629876, 0.0869950086276587, 0.02823522209845063, 0.9952251945270245, 0.17743707294103464, 0.8183832343810985, 0.9947473855001084, 0.04605027120729272, 0.8820398100473761, 0.01416931421762853, 0.0035423285544071326, 0.05313492831610699, 0.9793992885647069, 0.9973328247089429, 0.9981037006292041, 0.9947555901239881, 0.9887307046148418, 0.9929404638540229, 0.4456272910962837, 0.5525778409593918, 0.9951299344160275, 0.25045431347484554, 0.21692893293096854, 0.25045431347484554, 0.012818527855011778, 0.20509644568018845, 0.027609136918486907, 0.03746954296080366, 0.08178023997810527, 0.9092038444624644, 0.0024053011758266253, 0.0048106023516532505, 0.9705223890342588, 0.028205406286332488, 0.9756041093416553, 0.0030298264265268796, 0.021208784985688157, 0.9983813269384951, 0.9960663029564332, 0.5927084906030092, 0.009716532632836217, 0.3951389937353395, 0.001079614736981802], \"Term\": [\"'\", \"'\", \"'\", \"0\", \"001\", \"01\", \"05\", \"1\", \"1\", \"1\", \"1\", \"1\", \"1\", \"1\", \"1978\", \"2\", \"2\", \"2\", \"2\", \"2\", \"2\", \"3\", \"3\", \"3\", \"3\", \"3\", \"3D\", \"4\", \"4\", \"4\", \"4\", \"5\", \"5\", \"5\", \"5\", \"5\", \"6\", \"6\", \"6\", \"6\", \"6\", \"67\", \"7\", \"7\", \"7\", \"8\", \"8\", \"8\", \"9\", \"9\", \"95\", \"95\", \"A\", \"A\", \"A\", \"A\", \"A\", \"A\", \"A\", \"Ainsworth\", \"B\", \"B\", \"Big\", \"Blehar\", \"C\", \"C\", \"CI\", \"CoV\", \"D\", \"D\", \"DNA\", \"E\", \"E\", \"EEG\", \"Five\", \"From\", \"HIV\", \"HPA\", \"HRV\", \"I\", \"IL\", \"IPV\", \"IT\", \"In\", \"In\", \"In\", \"In\", \"In\", \"In\", \"In\", \"Infant\", \"Inventory\", \"M\", \"MS\", \"Model\", \"Molecular\", \"Mother\", \"Multilevel\", \"OR\", \"P\", \"PA\", \"QOL\", \"Questionnaire\", \"SNS\", \"Scale\", \"Session\", \"Situation\", \"Strange\", \"T1\", \"T2\", \"TBI\", \"The\", \"The\", \"The\", \"The\", \"The\", \"The\", \"The\", \"This\", \"This\", \"This\", \"This\", \"This\", \"This\", \"Wall\", \"Waters\", \"We\", \"We\", \"We\", \"We\", \"We\", \"We\", \"abiotic\", \"absolute\", \"abstinence\", \"acid\", \"across\", \"across\", \"across\", \"activity\", \"activity\", \"activity\", \"adaptation\", \"addressed\", \"adherence\", \"adjustment\", \"adolescence\", \"adolescent\", \"advancing\", \"affecting\", \"affinity\", \"age\", \"age\", \"agency\", \"aggression\", \"aggressiveness\", \"aging\", \"alcohol\", \"alignment\", \"also\", \"also\", \"also\", \"also\", \"also\", \"also\", \"amino\", \"among\", \"among\", \"among\", \"among\", \"among\", \"analysis\", \"analysis\", \"analysis\", \"analysis\", \"analysis\", \"analysis\", \"analysis\", \"anesthesia\", \"anxiety\", \"anxiety\", \"apathy\", \"approach\", \"approach\", \"article\", \"assist\", \"associated\", \"associated\", \"associated\", \"associated\", \"associated\", \"association\", \"association\", \"athlete\", \"attachment\", \"attitude\", \"attunement\", \"based\", \"based\", \"based\", \"based\", \"based\", \"behavior\", \"behavior\", \"behavior\", \"binding\", \"binge\", \"body\", \"body\", \"brain\", \"brain\", \"breast\", \"building\", \"bullying\", \"cancer\", \"cancer\", \"cardiovascular\", \"care\", \"career\", \"catalytic\", \"cell\", \"chain\", \"challenge\", \"change\", \"change\", \"change\", \"change\", \"channel\", \"child\", \"child\", \"childhood\", \"choice\", \"choice\", \"chronic\", \"clarify\", \"climate\", \"cognitive\", \"cognitive\", \"cognitive\", \"cognitive\", \"cognitive\", \"cognitive\", \"coherence\", \"collegiate\", \"communication\", \"competition\", \"competition\", \"component\", \"component\", \"concentration\", \"condition\", \"condition\", \"condition\", \"condition\", \"conflicting\", \"connectivity\", \"conscientiousness\", \"consciousness\", \"conserved\", \"construct\", \"construct\", \"continuity\", \"control\", \"control\", \"control\", \"control\", \"control\", \"control\", \"coordination\", \"correlated\", \"correlated\", \"cortex\", \"cortical\", \"cortisol\", \"cost\", \"critical\", \"critical\", \"cultural\", \"cycling\", \"cysteine\", \"daily\", \"data\", \"data\", \"data\", \"data\", \"data\", \"definition\", \"depended\", \"depressive\", \"difference\", \"difference\", \"difference\", \"difference\", \"difference\", \"different\", \"different\", \"different\", \"different\", \"dimension\", \"dimension\", \"disease\", \"disease\", \"disease\", \"disease\", \"disorder\", \"disorder\", \"disorder\", \"disorder\", \"docking\", \"domain\", \"domain\", \"domain\", \"domain\", \"drinking\", \"drinking\", \"driving\", \"drug\", \"drug\", \"dyad\", \"eating\", \"effect\", \"effect\", \"effect\", \"effect\", \"effect\", \"effect\", \"effect\", \"efficacy\", \"effortful\", \"elicit\", \"emotion\", \"emotion\", \"emotion\", \"empathy\", \"employee\", \"enzyme\", \"epitope\", \"equation\", \"equation\", \"equation\", \"error\", \"esteem\", \"ethical\", \"examined\", \"examined\", \"examined\", \"examined\", \"examined\", \"explicit\", \"exploration\", \"expressed\", \"expressed\", \"expression\", \"face\", \"facet\", \"factor\", \"factor\", \"factor\", \"factor\", \"factor\", \"factor\", \"female\", \"female\", \"female\", \"final\", \"final\", \"fit\", \"fit\", \"fold\", \"former\", \"functional\", \"functional\", \"functional\", \"functional\", \"game\", \"gamma\", \"gender\", \"gender\", \"gender\", \"gene\", \"genetic\", \"genetic\", \"genetic\", \"genome\", \"girl\", \"group\", \"group\", \"group\", \"group\", \"group\", \"group\", \"gyrus\", \"h\", \"health\", \"health\", \"heart\", \"high\", \"high\", \"high\", \"high\", \"high\", \"higher\", \"higher\", \"higher\", \"higher\", \"higher\", \"higher\", \"higher\", \"homology\", \"hospital\", \"hospital\", \"host\", \"human\", \"human\", \"human\", \"human\", \"ideation\", \"identification\", \"identification\", \"identity\", \"identity\", \"identity\", \"identity\", \"illness\", \"imaging\", \"impact\", \"impact\", \"impact\", \"impact\", \"increasingly\", \"index\", \"index\", \"index\", \"individual\", \"individual\", \"individual\", \"individual\", \"infant\", \"infection\", \"information\", \"information\", \"information\", \"information\", \"inhibition\", \"inhibitor\", \"injury\", \"instead\", \"intensity\", \"intensity\", \"intention\", \"interaction\", \"interaction\", \"interaction\", \"interaction\", \"internal\", \"interplay\", \"interval\", \"intervention\", \"intervention\", \"intrinsic\", \"invariance\", \"ion\", \"issue\", \"issue\", \"item\", \"item\", \"job\", \"lapse\", \"latent\", \"latent\", \"leadership\", \"learning\", \"learning\", \"learning\", \"left\", \"level\", \"level\", \"level\", \"level\", \"level\", \"level\", \"life\", \"life\", \"ligand\", \"literacy\", \"located\", \"located\", \"longitudinal\", \"longitudinal\", \"loop\", \"loss\", \"lower\", \"lower\", \"lower\", \"lowest\", \"lung\", \"mRNA\", \"male\", \"male\", \"male\", \"management\", \"marginal\", \"mean\", \"mean\", \"mean\", \"mean\", \"mean\", \"measure\", \"measure\", \"measure\", \"measurement\", \"medical\", \"memory\", \"method\", \"method\", \"method\", \"middle\", \"mild\", \"model\", \"model\", \"model\", \"model\", \"model\", \"model\", \"modeling\", \"modeling\", \"modeling\", \"modeling\", \"modeling\", \"modeling\", \"modeling\", \"molecular\", \"molecular\", \"moral\", \"mother\", \"motivation\", \"motivation\", \"motivational\", \"motor\", \"mouse\", \"multisystemic\", \"narcissism\", \"negative\", \"negative\", \"nervous\", \"network\", \"network\", \"neural\", \"neuroticism\", \"neuroticism\", \"new\", \"new\", \"new\", \"nurse\", \"nursing\", \"observation\", \"occurring\", \"often\", \"order\", \"organizational\", \"p\", \"pain\", \"paper\", \"paradigm\", \"parent\", \"parenting\", \"parietal\", \"participant\", \"participant\", \"participant\", \"participant\", \"participation\", \"partner\", \"patient\", \"patient\", \"pattern\", \"pattern\", \"pattern\", \"pattern\", \"peer\", \"peer\", \"perceived\", \"perceived\", \"performance\", \"performance\", \"performance\", \"performance\", \"perpetration\", \"personal\", \"personality\", \"personality\", \"physical\", \"physical\", \"picture\", \"planning\", \"plant\", \"political\", \"poor\", \"poor\", \"pornography\", \"practical\", \"practice\", \"predicted\", \"predicted\", \"predicted\", \"predicted\", \"predicted\", \"predicted\", \"prejudice\", \"primarily\", \"principle\", \"problematic\", \"process\", \"process\", \"processing\", \"product\", \"professional\", \"program\", \"program\", \"propofol\", \"proposed\", \"proposed\", \"proposed\", \"protein\", \"protein\", \"proved\", \"psychometric\", \"psychopathology\", \"psychotherapy\", \"purified\", \"putative\", \"quality\", \"quality\", \"quality\", \"questionnaire\", \"questionnaire\", \"questionnaire\", \"questionnaire\", \"quit\", \"rank\", \"rat\", \"receiving\", \"recent\", \"receptor\", \"related\", \"related\", \"related\", \"related\", \"related\", \"related\", \"related\", \"relationship\", \"relationship\", \"relationship\", \"reliability\", \"reported\", \"reported\", \"reported\", \"reported\", \"reporting\", \"representation\", \"representation\", \"representing\", \"requirement\", \"research\", \"research\", \"research\", \"research\", \"residue\", \"residue\", \"resilience\", \"response\", \"response\", \"response\", \"response\", \"response\", \"response\", \"responsiveness\", \"result\", \"result\", \"result\", \"result\", \"result\", \"result\", \"review\", \"reward\", \"rising\", \"risk\", \"risk\", \"romantic\", \"sAA\", \"safety\", \"sample\", \"sample\", \"sample\", \"satisfaction\", \"satisfaction\", \"satisfaction\", \"scale\", \"scale\", \"schizophrenia\", \"science\", \"score\", \"score\", \"screening\", \"seem\", \"self\", \"self\", \"sensory\", \"sequence\", \"sequence\", \"service\", \"sexual\", \"show\", \"show\", \"show\", \"show\", \"showed\", \"showed\", \"showed\", \"showed\", \"showed\", \"showed\", \"showed\", \"signal\", \"signal\", \"signal\", \"significant\", \"significant\", \"significant\", \"significant\", \"significant\", \"site\", \"site\", \"site\", \"skill\", \"sleep\", \"smoking\", \"social\", \"social\", \"social\", \"somewhat\", \"source\", \"specie\", \"specific\", \"specific\", \"specific\", \"specific\", \"specific\", \"specific\", \"sport\", \"state\", \"state\", \"state\", \"status\", \"status\", \"stem\", \"stimulation\", \"stimulus\", \"strain\", \"stress\", \"stressor\", \"structural\", \"structural\", \"structural\", \"structural\", \"structure\", \"structure\", \"student\", \"student\", \"study\", \"study\", \"study\", \"study\", \"study\", \"study\", \"study\", \"subject\", \"subject\", \"subject\", \"substance\", \"substrate\", \"suicidal\", \"suicide\", \"support\", \"support\", \"support\", \"support\", \"supported\", \"supported\", \"surface\", \"survey\", \"survey\", \"survey\", \"sympathetic\", \"symptom\", \"symptom\", \"system\", \"target\", \"target\", \"target\", \"task\", \"teacher\", \"technique\", \"temperament\", \"template\", \"terminal\", \"testing\", \"though\", \"three\", \"three\", \"three\", \"three\", \"three\", \"three\", \"three\", \"tissue\", \"tool\", \"trait\", \"trajectory\", \"trajectory\", \"transfer\", \"treatment\", \"treatment\", \"two\", \"two\", \"two\", \"two\", \"two\", \"two\", \"type\", \"type\", \"type\", \"type\", \"type\", \"type\", \"undergoing\", \"understanding\", \"understanding\", \"understanding\", \"univariate\", \"use\", \"use\", \"use\", \"use\", \"use\", \"used\", \"used\", \"used\", \"used\", \"used\", \"used\", \"using\", \"using\", \"using\", \"using\", \"using\", \"using\", \"using\", \"validity\", \"variance\", \"variance\", \"variation\", \"various\", \"various\", \"various\", \"various\", \"various\", \"verbal\", \"version\", \"violence\", \"virus\", \"visual\", \"vitro\", \"voice\", \"voice\", \"water\", \"well\", \"well\", \"well\", \"well\", \"well\", \"well\", \"well\", \"within\", \"within\", \"within\", \"within\", \"woman\", \"woman\", \"working\", \"working\", \"working\", \"workload\", \"workplace\", \"year\", \"year\", \"year\", \"year\"]}, \"R\": 30, \"lambda.step\": 0.01, \"plot.opts\": {\"xlab\": \"PC1\", \"ylab\": \"PC2\"}, \"topic.order\": [10, 3, 1, 9, 6, 8, 4, 2, 5, 7]};\n",
       "\n",
       "function LDAvis_load_lib(url, callback){\n",
       "  var s = document.createElement('script');\n",
       "  s.src = url;\n",
       "  s.async = true;\n",
       "  s.onreadystatechange = s.onload = callback;\n",
       "  s.onerror = function(){console.warn(\"failed to load library \" + url);};\n",
       "  document.getElementsByTagName(\"head\")[0].appendChild(s);\n",
       "}\n",
       "\n",
       "if(typeof(LDAvis) !== \"undefined\"){\n",
       "   // already loaded: just create the visualization\n",
       "   !function(LDAvis){\n",
       "       new LDAvis(\"#\" + \"ldavis_el124171404618155090722556803962\", ldavis_el124171404618155090722556803962_data);\n",
       "   }(LDAvis);\n",
       "}else if(typeof define === \"function\" && define.amd){\n",
       "   // require.js is available: use it to load d3/LDAvis\n",
       "   require.config({paths: {d3: \"https://d3js.org/d3.v5\"}});\n",
       "   require([\"d3\"], function(d3){\n",
       "      window.d3 = d3;\n",
       "      LDAvis_load_lib(\"https://cdn.jsdelivr.net/gh/bmabey/pyLDAvis@3.2.2/pyLDAvis/js/ldavis.v3.0.0.js\", function(){\n",
       "        new LDAvis(\"#\" + \"ldavis_el124171404618155090722556803962\", ldavis_el124171404618155090722556803962_data);\n",
       "      });\n",
       "    });\n",
       "}else{\n",
       "    // require.js not available: dynamically load d3 & LDAvis\n",
       "    LDAvis_load_lib(\"https://d3js.org/d3.v5.js\", function(){\n",
       "         LDAvis_load_lib(\"https://cdn.jsdelivr.net/gh/bmabey/pyLDAvis@3.2.2/pyLDAvis/js/ldavis.v3.0.0.js\", function(){\n",
       "                 new LDAvis(\"#\" + \"ldavis_el124171404618155090722556803962\", ldavis_el124171404618155090722556803962_data);\n",
       "            })\n",
       "         });\n",
       "}\n",
       "</script>"
      ],
      "text/plain": [
       "PreparedData(topic_coordinates=              x         y  topics  cluster       Freq\n",
       "topic                                                \n",
       "9      0.224570 -0.114100       1        1  20.555489\n",
       "2      0.142174  0.106176       2        1  19.754207\n",
       "0      0.216396 -0.103692       3        1  18.203351\n",
       "8      0.104093 -0.099733       4        1  12.007917\n",
       "5      0.137620  0.072983       5        1  11.059199\n",
       "7     -0.029653  0.203221       6        1   6.932400\n",
       "3     -0.117806  0.222998       7        1   5.287462\n",
       "1     -0.182451 -0.066868       8        1   3.402793\n",
       "4     -0.234543 -0.160265       9        1   1.918143\n",
       "6     -0.260401 -0.060720      10        1   0.879038, topic_info=            Term         Freq        Total Category  logprob  loglift\n",
       "1              0  2371.000000  2371.000000  Default  30.0000  30.0000\n",
       "776          use  1792.000000  1792.000000  Default  29.0000  29.0000\n",
       "94        health  2066.000000  2066.000000  Default  28.0000  28.0000\n",
       "357        model  3145.000000  3145.000000  Default  27.0000  27.0000\n",
       "160         risk  1131.000000  1131.000000  Default  26.0000  26.0000\n",
       "...          ...          ...          ...      ...      ...      ...\n",
       "3794   interplay    18.602288    19.556868  Topic10  -5.3132   4.6841\n",
       "3303     instead    18.312052    19.266597  Topic10  -5.3290   4.6833\n",
       "3225        seem    18.141729    19.096249  Topic10  -5.3383   4.6828\n",
       "15289        HRV    18.123717    19.078212  Topic10  -5.3393   4.6828\n",
       "221        brain    21.879779   277.138872  Topic10  -5.1510   2.1951\n",
       "\n",
       "[549 rows x 6 columns], token_table=      Topic      Freq       Term\n",
       "term                            \n",
       "202       1  0.110973          '\n",
       "202       2  0.014954          '\n",
       "202       3  0.873617          '\n",
       "1         4  0.999593          0\n",
       "2         4  0.996474        001\n",
       "...     ...       ...        ...\n",
       "8005      3  0.996066  workplace\n",
       "731       1  0.592708       year\n",
       "731       3  0.009717       year\n",
       "731       4  0.395139       year\n",
       "731       9  0.001080       year\n",
       "\n",
       "[899 rows x 3 columns], R=30, lambda_step=0.01, plot_opts={'xlab': 'PC1', 'ylab': 'PC2'}, topic_order=[10, 3, 1, 9, 6, 8, 4, 2, 5, 7])"
      ]
     },
     "execution_count": 20,
     "metadata": {},
     "output_type": "execute_result"
    }
   ],
   "source": [
    "# Visualizing topics using pyLDAvis\n",
    "\n",
    "pyLDAvis.enable_notebook()\n",
    "vis = pyLDAvis.gensim.prepare(lda_model, corpus, dictionary)\n",
    "vis"
   ]
  },
  {
   "cell_type": "code",
   "execution_count": 21,
   "metadata": {},
   "outputs": [],
   "source": [
    "copy = abstracts"
   ]
  },
  {
   "cell_type": "code",
   "execution_count": 22,
   "metadata": {},
   "outputs": [],
   "source": [
    "# inverse document frequencies for topics\n",
    "\n",
    "from sklearn.feature_extraction.text import CountVectorizer, TfidfTransformer\n",
    "\n",
    "abstracts = copy['abstract'].values\n",
    "\n",
    "count_vectorizer = CountVectorizer()\n",
    "counts = count_vectorizer.fit_transform(abstracts)\n",
    "tfidf_vectorizer = TfidfTransformer().fit(counts)\n",
    "tfidf_abstracts = tfidf_vectorizer.transform(counts)"
   ]
  },
  {
   "cell_type": "code",
   "execution_count": 23,
   "metadata": {},
   "outputs": [],
   "source": [
    "# Mapping Top Topics & Abstracts\n",
    "\n",
    "from sklearn.decomposition import LatentDirichletAllocation\n",
    "\n",
    "lda_model = LatentDirichletAllocation(n_components=9, max_iter=10, learning_method='online', learning_offset=50.,random_state=0).fit(tfidf_abstracts)\n",
    "lda_W = lda_model.transform(tfidf_abstracts)\n",
    "lda_H = lda_model.components_\n",
    "#Not sure how to find lda_W & lda_H using gensim lda model"
   ]
  },
  {
   "cell_type": "code",
   "execution_count": 24,
   "metadata": {},
   "outputs": [
    {
     "data": {
      "text/plain": [
       "(2805, 22726)"
      ]
     },
     "execution_count": 24,
     "metadata": {},
     "output_type": "execute_result"
    }
   ],
   "source": [
    "tfidf_abstracts.shape"
   ]
  },
  {
   "cell_type": "code",
   "execution_count": 25,
   "metadata": {},
   "outputs": [
    {
     "name": "stderr",
     "output_type": "stream",
     "text": [
      "/home/mrinalmanu/miniconda3/lib/python3.7/site-packages/sklearn/cluster/_affinity_propagation.py:154: FutureWarning: 'random_state' has been introduced in 0.23. It will be set to None starting from 1.0 (renaming of 0.25) which means that results will differ at every function call. Set 'random_state' to None to silence this warning, or to 0 to keep the behavior of versions <0.23.\n",
      "  FutureWarning\n"
     ]
    },
    {
     "data": {
      "text/plain": [
       "AffinityPropagation()"
      ]
     },
     "execution_count": 25,
     "metadata": {},
     "output_type": "execute_result"
    }
   ],
   "source": [
    "# Affinity propogation on abstracts\n",
    "#Testing affinity propogation on abstracts tfidf(experimental)\n",
    "\n",
    "from sklearn.cluster import AffinityPropagation\n",
    "\n",
    "X = tfidf_abstracts\n",
    "clustering = AffinityPropagation().fit(X)\n",
    "clustering "
   ]
  },
  {
   "cell_type": "code",
   "execution_count": 26,
   "metadata": {},
   "outputs": [
    {
     "data": {
      "text/plain": [
       "374"
      ]
     },
     "execution_count": 26,
     "metadata": {},
     "output_type": "execute_result"
    }
   ],
   "source": [
    "abstract_affinity_clusters = list(clustering.labels_)\n",
    "len(set(abstract_affinity_clusters))\n"
   ]
  },
  {
   "cell_type": "code",
   "execution_count": 27,
   "metadata": {},
   "outputs": [],
   "source": [
    "# Building LDA Model\n",
    "\n",
    "lda_model_17 = gensim.models.ldamodel.LdaModel(corpus=corpus,\n",
    "                                           id2word=dictionary,\n",
    "                                           num_topics=17, \n",
    "                                           random_state=100,\n",
    "                                           update_every=1,\n",
    "                                           chunksize=100,\n",
    "                                           passes=10,\n",
    "                                           alpha='auto',\n",
    "                                           per_word_topics=True)"
   ]
  },
  {
   "cell_type": "code",
   "execution_count": 28,
   "metadata": {},
   "outputs": [
    {
     "data": {
      "text/html": [
       "\n",
       "<link rel=\"stylesheet\" type=\"text/css\" href=\"https://cdn.jsdelivr.net/gh/bmabey/pyLDAvis@3.2.2/pyLDAvis/js/ldavis.v1.0.0.css\">\n",
       "\n",
       "\n",
       "<div id=\"ldavis_el124171404618125507366724286849\"></div>\n",
       "<script type=\"text/javascript\">\n",
       "\n",
       "var ldavis_el124171404618125507366724286849_data = {\"mdsDat\": {\"x\": [0.24759237714529736, 0.2832350575642014, 0.2813521974928806, 0.2151158003756805, 0.22090889330282576, 0.1309592074596934, 0.1054616787672535, -0.010434329312241596, -0.04902543080164589, -0.04233054313729786, -0.12086888006715857, -0.1926040519165997, -0.217420423563154, -0.21211857940779463, -0.2084355037909021, -0.19929522393055088, -0.2320922461804868], \"y\": [-0.12041019020726992, 0.03766454961682233, 0.15353478342895435, -0.06866839031650751, 0.0435546923398761, -0.21008023130398923, 0.17605986418314468, -0.08184929967912172, 0.22495514359475716, -0.17454405454016103, -0.03581238906544572, 0.00473206731876178, 0.00583635318175134, 0.006084829973761077, 0.01612776079080309, 0.01911297689288726, 0.003701533790975733], \"topics\": [1, 2, 3, 4, 5, 6, 7, 8, 9, 10, 11, 12, 13, 14, 15, 16, 17], \"cluster\": [1, 1, 1, 1, 1, 1, 1, 1, 1, 1, 1, 1, 1, 1, 1, 1, 1], \"Freq\": [21.06892088713836, 18.146922427077566, 12.994200047577495, 11.468039661913398, 8.702298728710426, 8.52426828903984, 5.777185345755812, 3.0535083875287463, 2.4026189157364786, 2.3535828376181187, 2.269306511574774, 0.7780002639951538, 0.7377014090909804, 0.629512581294853, 0.5009789208723539, 0.5003303682467591, 0.0926244168288762]}, \"tinfo\": {\"Term\": [\"self\", \"behavior\", \"use\", \"0\", \"sexual\", \"efficacy\", \"personality\", \"stress\", \"motivation\", \"protein\", \"1\", \"2\", \"model\", \"health\", \"identity\", \"patient\", \"child\", \"trajectory\", \"trait\", \"social\", \"support\", \"physical\", \"adolescent\", \"activity\", \"structure\", \"The\", \"across\", \"level\", \"eating\", \"measure\", \"system\", \"process\", \"intrinsic\", \"challenge\", \"proposed\", \"response\", \"requirement\", \"source\", \"contrast\", \"light\", \"recently\", \"along\", \"parameter\", \"variety\", \"First\", \"alternative\", \"mostly\", \"Second\", \"global\", \"critical\", \"played\", \"presence\", \"latter\", \"bias\", \"answer\", \"empirical\", \"often\", \"recent\", \"presented\", \"variability\", \"approach\", \"variation\", \"We\", \"evidence\", \"aspect\", \"method\", \"component\", \"different\", \"In\", \"rate\", \"individual\", \"information\", \"model\", \"employed\", \"account\", \"control\", \"result\", \"based\", \"two\", \"difference\", \"data\", \"show\", \"specific\", \"modeling\", \"within\", \"first\", \"also\", \"level\", \"interaction\", \"one\", \"This\", \"The\", \"effect\", \"study\", \"e\", \"organizational\", \"leadership\", \"nurse\", \"survey\", \"attitude\", \"practice\", \"medical\", \"employee\", \"good\", \"partial\", \"provided\", \"validity\", \"Chinese\", \"evaluation\", \"professional\", \"version\", \"engagement\", \"motivational\", \"China\", \"university\", \"concept\", \"teacher\", \"2005\", \"training\", \"conscientiousness\", \"cultural\", \"power\", \"relatively\", \"leader\", \"implementation\", \"directly\", \"need\", \"community\", \"working\", \"satisfaction\", \"indirect\", \"student\", \"fit\", \"factor\", \"structural\", \"SEM\", \"'\", \"work\", \"equation\", \"poor\", \"service\", \"questionnaire\", \"The\", \"improve\", \"model\", \"study\", \"support\", \"health\", \"quality\", \"research\", \"'s\", \"variable\", \"test\", \"relationship\", \"modeling\", \"used\", \"effect\", \"This\", \"analysis\", \"using\", \"data\", \"result\", \"stress\", \"symptom\", \"negative\", \"anxiety\", \"depression\", \"alcohol\", \"psychosocial\", \"emotion\", \"college\", \"depressive\", \"drinking\", \"childhood\", \"stressor\", \"cardiovascular\", \"temperament\", \"trauma\", \"affective\", \"add\", \"T1\", \"partially\", \"PE\", \"technology\", \"consumption\", \"T2\", \"driving\", \"discrimination\", \"protective\", \"medication\", \"experienced\", \"COVID\", \"woman\", \"mediating\", \"disorder\", \"coping\", \"partner\", \"mediated\", \"greater\", \"association\", \"problem\", \"psychological\", \"perceived\", \"Multilevel\", \"Structural\", \"associated\", \"social\", \"risk\", \"relationship\", \"emotional\", \"related\", \"among\", \"health\", \"may\", \"examined\", \"study\", \"higher\", \"self\", \"effect\", \"modeling\", \"level\", \"positive\", \"0\", \"intensity\", \"p\", \"score\", \"P\", \"001\", \"Scale\", \"proved\", \"pain\", \"resilience\", \"older\", \"job\", \"05\", \"neuroticism\", \"62\", \"indicator\", \"Inventory\", \"absolute\", \"univariate\", \"battery\", \"reliability\", \"definition\", \"R\", \"instrument\", \"Personality\", \"psychiatric\", \"50\", \"severe\", \"patient\", \"88\", \"index\", \"empathy\", \"regression\", \"Questionnaire\", \"2\", \"1\", \"n\", \"95\", \"5\", \"6\", \"mean\", \"3\", \"included\", \"life\", \"age\", \"4\", \"A\", \"The\", \"year\", \"study\", \"significant\", \"using\", \"factor\", \"analysis\", \"higher\", \"effect\", \"used\", \"adolescent\", \"eating\", \"school\", \"body\", \"parent\", \"dyad\", \"weight\", \"girl\", \"parental\", \"grade\", \"caregiver\", \"PA\", \"image\", \"reporting\", \"boy\", \"86\", \"conflict\", \"American\", \"clarify\", \"dissatisfaction\", \"African\", \"carried\", \"prevalence\", \"involvement\", \"65\", \"father\", \"31\", \"Children\", \"32\", \"peer\", \"middle\", \"child\", \"15\", \"wave\", \"family\", \"baseline\", \"year\", \"reported\", \"group\", \"level\", \"month\", \"male\", \"age\", \"program\", \"lower\", \"female\", \"'\", \"longitudinal\", \"'s\", \"high\", \"among\", \"study\", \"change\", \"time\", \"self\", \"higher\", \"associated\", \"modeling\", \"cell\", \"gene\", \"molecular\", \"C\", \"residue\", \"expression\", \"specie\", \"genetic\", \"located\", \"issue\", \"genome\", \"conserved\", \"nervous\", \"substrate\", \"blood\", \"specificity\", \"meaning\", \"shared\", \"temperature\", \"putative\", \"share\", \"channel\", \"loop\", \"product\", \"tissue\", \"mode\", \"DNA\", \"molecule\", \"vitro\", \"terminal\", \"identification\", \"identity\", \"human\", \"binding\", \"similarity\", \"region\", \"structure\", \"functional\", \"identified\", \"The\", \"condition\", \"drug\", \"type\", \"activity\", \"showed\", \"function\", \"analysis\", \"modeling\", \"disease\", \"In\", \"revealed\", \"use\", \"prevention\", \"violence\", \"sex\", \"pressure\", \"seeking\", \"user\", \"climate\", \"psychopathology\", \"HIV\", \"though\", \"physician\", \"science\", \"surface\", \"expectation\", \"sensation\", \"problematic\", \"effectiveness\", \"engage\", \"preference\", \"team\", \"oral\", \"take\", \"behavior\", \"risky\", \"subgroup\", \"race\", \"High\", \"effectively\", \"marijuana\", \"status\", \"resource\", \"randomized\", \"men\", \"skill\", \"treatment\", \"intervention\", \"effective\", \"addressed\", \"behavioral\", \"gender\", \"risk\", \"question\", \"among\", \"outcome\", \"characteristic\", \"strategy\", \"health\", \"program\", \"male\", \"drug\", \"social\", \"personality\", \"trajectory\", \"trait\", \"latent\", \"curve\", \"BPD\", \"symptomatology\", \"course\", \"impulsivity\", \"facet\", \"borderline\", \"Latent\", \"ESEM\", \"reactivity\", \"Emotional\", \"Students\", \"NA\", \"rumination\", \"67\", \"consecutive\", \"drinker\", \"mid\", \"fluctuation\", \"morphology\", \"cerebral\", \"fitting\", \"dependency\", \"artery\", \"persistence\", \"ICD\", \"class\", \"adolescence\", \"stable\", \"growth\", \"order\", \"mood\", \"stability\", \"daily\", \"across\", \"person\", \"initial\", \"measure\", \"day\", \"change\", \"developmental\", \"longitudinal\", \"period\", \"construct\", \"predicted\", \"sample\", \"pattern\", \"time\", \"efficacy\", \"cancer\", \"management\", \"breast\", \"recovery\", \"survivor\", \"PTSD\", \"avoidance\", \"RMSEA\", \"fatigue\", \"CFI\", \"exercise\", \"meet\", \"mediator\", \"discovered\", \"portion\", \"exploit\", \"Peer\", \"Lastly\", \"Maladaptive\", \"assault\", \"Sense\", \"700\", \"distinctive\", \"John\", \"tangible\", \"confidence\", \"Relationship\", \"forebrain\", \"obesity\", \"active\", \"self\", \"physical\", \"provider\", \"activity\", \"style\", \"socio\", \"care\", \"91\", \"support\", \"intervention\", \"mediate\", \"social\", \"health\", \"mediation\", \"Structural\", \"mediated\", \"Additionally\", \"acid\", \"amino\", \"CI\", \"alpha\", \"template\", \"building\", \"suicide\", \"suicidal\", \"November\", \"E\", \"root\", \"crystal\", \"reading\", \"X\", \"containing\", \"ray\", \"database\", \"resolution\", \"anti\", \"metal\", \"map\", \"Due\", \"availability\", \"Protein\", \"transcript\", \"apply\", \"refinement\", \"server\", \"PDB\", \"http\", \"protein\", \"sequence\", \"S\", \"site\", \"structure\", \"1\", \"2\", \"9\", \"10\", \"3\", \"5\", \"domain\", \"respectively\", \"4\", \"target\", \"predicted\", \"8\", \"The\", \"structural\", \"brain\", \"marker\", \"intelligence\", \"neural\", \"connectivity\", \"visual\", \"cortex\", \"left\", \"right\", \"gyrus\", \"representation\", \"involving\", \"EEG\", \"imaging\", \"stimulus\", \"matter\", \"parietal\", \"cortical\", \"volume\", \"gamma\", \"creativity\", \"stimulation\", \"thinking\", \"belonging\", \"resting\", \"empathic\", \"extracellular\", \"speed\", \"perceptual\", \"gray\", \"cognition\", \"network\", \"processing\", \"functional\", \"aging\", \"reward\", \"region\", \"area\", \"state\", \"cognitive\", \"effective\", \"activity\", \"task\", \"human\", \"sexual\", \"smoking\", \"B\", \"exposure\", \"victimization\", \"heart\", \"minority\", \"heterosexual\", \"speech\", \"verified\", \"medicine\", \"Low\", \"newly\", \"back\", \"tobacco\", \"gay\", \"LGB\", \"disparity\", \"bisexual\", \"incident\", \"regenerative\", \"hopelessness\", \"puberty\", \"lesbian\", \"029\", \"526\", \"profound\", \"plasmid\", \"fibroblast\", \"anticipation\", \"bipolar\", \"failure\", \"substance\", \"orientation\", \"attempt\", \"identity\", \"consciousness\", \"strain\", \"receptor\", \"concentration\", \"injury\", \"loss\", \"reaction\", \"length\", \"From\", \"conscious\", \"mild\", \"sensor\", \"G\", \"muscle\", \"gradient\", \"anesthesia\", \"interplay\", \"instead\", \"composition\", \"mL\", \"electron\", \"k\", \"rarely\", \"instance\", \"consists\", \"altered\", \"prolonged\", \"coverage\", \"volunteer\", \"additive\", \"maximum\", \"order\", \"45\", \"decision\", \"memory\", \"making\", \"EC\", \"observe\", \"intellectual\", \"band\", \"Hz\", \"motion\", \"raising\", \"contingency\", \"WM\", \"task\", \"performance\", \"virtue\", \"learning\", \"debated\", \"uncertainty\", \"accuracy\", \"trial\", \"ability\", \"working\", \"session\", \"safety\", \"methylphenidate\", \"comprehension\", \"facilitation\", \"placebo\", \"receiving\", \"metacognitive\", \"cognitive\", \"cortisol\", \"HPA\", \"sAA\", \"capacity\", \"SNS\", \"motivation\", \"attachment\", \"achievement\", \"moral\", \"Time\", \"agency\", \"postpartum\", \"psychology\", \"neglect\", \"filled\", \"sequential\", \"egocentric\", \"pregnancy\", \"develops\", \"disrupted\", \"bodily\", \"argued\", \"ownership\", \"morality\", \"ethic\", \"allocentric\", \"Agency\", \"academic\", \"psychologist\", \"educational\", \"System\", \"excellent\", \"represented\", \"action\", \"mediate\", \"infant\", \"mother\", \"parenting\", \"abuse\", \"externalizing\", \"maternal\", \"acceptance\", \"maltreatment\", \"intake\", \"68\", \"Some\", \"US\", \"teen\", \"liability\", \"AUD\", \"computerized\", \"Skills\", \"140\", \"pregnancy\", \"child\", \"antisocial\", \"session\", \"cortisol\", \"HPA\", \"sAA\", \"SNS\", \"attunement\", \"Session\", \"Infant\", \"Mother\", \"month\", \"disordered\", \"hope\", \"black\", \"go\", \"apparent\", \"reaching\", \"exert\", \"explicitly\", \"2003\", \"underpinnings\", \"exponential\", \"maximize\", \"window\", \"postulate\", \"knowing\", \"worry\", \"thinness\", \"Worry\", \"axiom\", \"PnCPI\", \"CPAP\", \"bulimia\", \"Young\", \"cynicism\", \"piperis\", \"solani\", \"f\", \"apathy\", \"cystatin\", \"nigrum\", \"treating\", \"sp\", \"impairment\", \"path\", \"F\", \"inhibitor\", \"01\"], \"Freq\": [2997.0, 2667.0, 2283.0, 2731.0, 1066.0, 1056.0, 1041.0, 1781.0, 628.0, 969.0, 1604.0, 1539.0, 3832.0, 2510.0, 1431.0, 1364.0, 786.0, 797.0, 792.0, 1965.0, 1345.0, 855.0, 1122.0, 953.0, 985.0, 5624.0, 911.0, 2509.0, 994.0, 1202.0, 1066.508978061301, 655.5334617398746, 499.46522328409435, 451.4312581988593, 396.34014651048324, 1310.859386376995, 294.9985653711221, 269.54488152436465, 244.46680021440554, 226.21063712203272, 223.59406378581494, 221.74633449100494, 217.20698721914573, 211.56736454773326, 189.8092235867383, 184.22262318893772, 183.5307625996381, 181.17278875447408, 177.91118133609723, 178.77622835009572, 170.7917398836729, 169.05957006316763, 168.14571558268062, 160.57992605589243, 152.35379216006953, 142.79941448440863, 142.64338232470183, 142.0911266843457, 139.795005133717, 136.15152565294588, 805.8473504743446, 223.45539663145638, 1253.5992927948664, 377.630954874456, 314.0904404199148, 500.5814728026451, 288.21173542283776, 662.7311300125085, 1348.5693500058435, 401.03657964383007, 916.7841086223207, 430.4213297984033, 2138.853778065607, 366.34551376515975, 300.9639504850991, 660.5180612362457, 1002.9468205721813, 663.7180692485146, 734.4746496087831, 514.2597020639444, 717.1239746047574, 379.72786356639904, 551.3039790557293, 1174.7966456361025, 360.7536027103837, 364.2667287438471, 541.7198026937062, 747.5041357576547, 449.9314612320827, 442.93989702778117, 531.9887403034342, 741.0806011093684, 550.9616945692412, 586.5505143651874, 429.5899590933205, 631.5405278921492, 615.6766304153299, 433.39765673245995, 436.1954297953298, 374.23300441611764, 341.54064790281166, 285.96405931073105, 279.6237279024118, 295.3986657216486, 233.7575006932937, 207.19827818138933, 192.71890953570963, 185.74990688879265, 184.376395913632, 179.259554756148, 177.94984569822915, 177.30578213365104, 170.08500241872227, 165.0090925054432, 163.3896854924802, 160.16016494639146, 156.43286238652178, 136.13912428272423, 120.52023342864474, 118.42289287885784, 118.15890904289577, 117.13920374935043, 116.41633619509795, 113.67857142195824, 110.07871841028584, 219.56194620920527, 446.00230178824245, 278.70220314097486, 594.6136481147328, 707.0541174669711, 379.657456125948, 1130.6680633008002, 445.0092063412623, 1934.4580123933695, 912.3124543376524, 239.7451881049773, 1117.7863563773706, 443.2599628804954, 930.7787439848263, 532.6062437452147, 287.7601694998958, 466.97151432938824, 2521.106748958395, 312.81653467468635, 1641.2140181903865, 1739.4330311137555, 770.8460151758574, 1180.464052980148, 483.87185262399095, 690.8354704394906, 712.155729660425, 529.7664685097993, 463.80911739353, 725.4735766884028, 991.4445474134686, 699.0357321055442, 772.3624497061709, 634.1207028372679, 653.7263876335469, 548.7902580392393, 480.8901703077799, 492.2275622613843, 1780.579344281316, 933.7505381989944, 865.5405255346853, 489.48671480902715, 556.0139859753265, 444.7869929050434, 436.4759125264688, 411.50669471336926, 318.0154237480856, 289.227661154297, 270.0280210123786, 233.26588750681364, 232.13802906896578, 212.3887048087029, 202.85641899195062, 174.32356051546483, 162.5630602252304, 121.4344394661407, 118.36189084681786, 114.58224714827683, 109.57957838192203, 99.81881206965338, 98.3315897760383, 93.34344555338562, 84.61886083869379, 84.55639555275877, 83.63175075319513, 75.61911562964339, 73.16297954689026, 65.49877100525757, 926.8387530105496, 310.67264628298557, 1011.2068688853943, 589.5158630672545, 323.1550976286811, 398.5080404346327, 391.47979894948, 880.954140276982, 387.74235766114106, 686.9823489248919, 940.0271166761999, 240.4340065215611, 412.811681098933, 1112.7959596359065, 1182.2436323892448, 922.8654097372499, 963.4457500922858, 375.64556381945374, 884.8765339204718, 781.9333787736407, 905.4481228185609, 620.0294923814274, 471.8058935296186, 747.5622386098579, 500.6989606899169, 626.8736393368289, 518.5950181605622, 543.3314273590825, 477.70466490495994, 422.27570480962396, 2730.67876014022, 857.1283000605825, 834.4061584139411, 544.7331731236645, 538.4633585587301, 447.33615295665516, 435.7290100240913, 263.41321868396705, 260.0447654316979, 238.66757785967667, 206.9498098207912, 202.16186508173215, 195.36097432279527, 176.34704025453104, 173.4314207080511, 171.83908685028996, 163.4015045584827, 161.4794304036722, 150.61479388688807, 147.5570049519148, 144.56228260544697, 141.3649396297758, 139.08787789503117, 137.47793632294557, 112.90080189828141, 111.02937142994809, 105.92566932788627, 96.87470768228651, 1350.1476965090922, 178.46439371139982, 461.5709862909054, 153.57729468968333, 266.34851069303096, 284.32540200629137, 1043.0180447003713, 991.0196998317564, 422.98928384622496, 207.86096028608108, 401.23605973284594, 369.6076723519514, 360.713906873845, 432.5711381526484, 284.6604188822262, 342.48695160470635, 440.9555761184197, 290.9300040306875, 382.7294916660702, 744.3832260643654, 367.3691181722473, 556.9378542025408, 357.3478624945453, 368.8033611382693, 388.7813146980915, 351.9057366819204, 332.82665980606754, 333.48155207070056, 321.1697564404486, 1121.1474662988724, 993.7642560737731, 562.3063636304345, 470.7843531275133, 385.4147598123485, 262.28034683814286, 205.54481980120607, 187.71186602624442, 182.37602707273547, 165.2644426810619, 144.7059549308543, 143.96566215736826, 143.5624999385089, 142.75829067273958, 139.2893825624022, 132.22542201295596, 126.94272349052278, 123.00019095173417, 120.66138526678557, 114.51562695368493, 74.31229257808647, 73.39619680927902, 174.8291109659087, 70.79611516210505, 70.14052501512161, 68.60863131565551, 68.3910863158748, 65.91370640279742, 64.17886064911958, 569.4383056322479, 194.28051075424338, 717.290426510716, 244.71829175211494, 183.2002477801171, 345.7460068576376, 330.3318871252512, 724.6781737522435, 880.7747300338244, 611.7343980981645, 1076.60991828415, 364.9753745221589, 378.71222382950805, 534.3223427891825, 331.73455078213476, 316.54747691447903, 277.24382178794866, 481.86339748405555, 219.70841157766588, 402.7830895201582, 389.7872293392003, 401.5076843566945, 431.033917977026, 273.7858028961659, 254.50095331392518, 326.4649349899075, 270.9800229530104, 280.68530229823364, 284.3502598646102, 635.994463901467, 458.981862148826, 393.13510506895307, 353.80900968767753, 333.19993072876065, 310.0973072696836, 254.67377628944004, 233.18131759133996, 220.5325468367525, 207.59672839863953, 179.81636852207555, 155.17523564368216, 153.74513008132365, 147.91461576007595, 145.56530278770396, 142.53184500815556, 140.39222025775655, 133.25369752938366, 120.13990031904024, 117.76688412798468, 113.13339087659456, 112.76293855811849, 110.88023794030646, 105.4177970893288, 105.13820995125228, 100.47399630528774, 99.11155575856692, 98.70258144656125, 96.75148254807311, 96.49140367055344, 697.3929624155255, 1235.70151684619, 495.6473650225858, 323.48457823400423, 115.90838125644024, 254.187587463622, 405.2674355517192, 246.0707186472539, 250.45975327171007, 846.8864683300565, 328.87752090674815, 201.3441774160972, 245.06080805725634, 321.5227361500696, 289.8688440237287, 213.2664871497218, 296.1689890230665, 317.1134941053688, 198.78939675889194, 247.63700687465337, 198.71153424341776, 2282.2635245747865, 243.6197152917459, 240.58369147676908, 235.76254631064367, 220.06119861387162, 214.7734671523392, 190.3067644974097, 181.44512670889858, 164.74681081171556, 161.77420121953915, 141.9769442431319, 127.64940957324308, 120.61714556145056, 116.10121384710868, 100.68654189237498, 88.34839009610135, 84.74218724176424, 84.14956994587634, 81.4589901111263, 80.5326131395954, 76.2523611297291, 71.56344738882166, 66.76470580769693, 2625.491115883815, 60.42029599774945, 59.52166780495807, 55.55375424566451, 52.10071286165043, 48.35387651539662, 47.52495253825405, 643.0982532462106, 182.86100785515367, 96.95681016608556, 306.722079264378, 417.4320555848184, 405.2690065568424, 452.8179546810431, 180.8920349537392, 143.10880779774854, 278.9164623349941, 277.5152703589922, 424.38198627726877, 191.63890234889317, 434.6311207886346, 237.50608494379773, 215.0273089583513, 190.35208018313966, 237.3383440963902, 169.71540242480427, 170.453027603593, 151.15168903439658, 161.57680465940956, 1040.8984496232279, 796.5844743728012, 791.9276476949399, 493.3183983590027, 160.8196834446443, 143.39527463739253, 124.79681225976253, 110.61440395057647, 92.38367934084626, 92.12668866571941, 78.70392111566495, 61.14924856029496, 57.52638923777806, 57.51525955200684, 53.1526548526618, 50.60601842957412, 44.973325387703646, 43.57665977640302, 40.706706592511246, 40.67819822615872, 40.30384189923967, 36.62572814607316, 32.87557991460964, 32.49828539951498, 30.754895257994598, 29.78456319437446, 29.06763917102672, 29.053946969788413, 26.310198436212968, 25.121091996371696, 436.15393770626576, 254.63269665118446, 102.03990955574665, 332.7393897877866, 255.70730385254205, 91.55501253933552, 229.45270497719062, 109.8371707133872, 468.2316712527119, 130.78690443442423, 178.8034475351403, 377.3268901410874, 139.3621746086684, 268.6425642884199, 86.11762960065177, 112.4292757512049, 104.9169577616051, 110.90274955274158, 145.95811996344065, 135.69902973309925, 96.83053857138916, 101.40282972708368, 1055.287066204675, 360.4046165015452, 251.1303212598645, 118.53144926422212, 106.89201053356766, 93.89338793963024, 84.54516216727986, 76.64509160931617, 60.62726363353029, 56.40120376177319, 55.26596469682518, 125.8654167102873, 35.854844081465295, 371.5011430213371, 21.87070191838683, 20.602738803448034, 11.601942768642786, 10.363987237723148, 9.17984961722044, 8.025228726691644, 7.799978388772489, 6.875224988350958, 6.570444879892264, 5.5180922581285525, 5.366217690766791, 5.07624851734274, 110.98135703971535, 4.478709418129418, 4.435632019054947, 28.0926115877312, 132.93316703167335, 1946.5740786760523, 557.3018164910519, 69.85708363447766, 524.849474119914, 125.19409660054902, 38.447697364580044, 324.95046312593684, 29.89885834613412, 252.4246667283341, 143.2150464637185, 38.27987214354983, 203.05618421297294, 184.742360906545, 46.965592751757754, 50.90189373028154, 44.84617991088942, 39.15883613123689, 331.59832566013034, 263.23372542595064, 192.54133752110425, 177.79881410618387, 158.29931722032765, 151.38602325386745, 143.72405175284405, 116.55691456265644, 114.02079366211184, 108.62857522247387, 90.72801045106559, 76.31694723887023, 59.14035079956628, 58.53480113191367, 57.26383094705303, 37.4589366995943, 37.17715150459451, 35.105465206630946, 31.956444969028578, 30.78605602226385, 28.86184335985979, 25.889335249845317, 25.84133404575461, 25.68215790967843, 24.557383054647964, 23.90616044140615, 22.992362531417626, 20.326836128780716, 18.653776406956222, 18.174151624414648, 781.5567444155558, 469.28836003934794, 183.9903903119527, 167.74574701980978, 320.9656469770537, 328.6433913112015, 305.5852984404305, 125.76709086347613, 109.56828766187046, 170.85014191044093, 132.36020102581818, 111.92415568380706, 97.91903811315136, 103.35596664931167, 84.10130180001424, 110.56331330829576, 86.34159968407829, 134.21874926518632, 86.4527440120592, 371.9204588569125, 329.446995906195, 261.2134114695045, 208.32793097876885, 184.52607903862125, 145.9373136197711, 122.16416175674792, 117.87434007388637, 111.0862588461804, 94.97051636158577, 93.43758177715601, 92.24078583723785, 87.90040989008371, 79.38831748095846, 138.2327002865909, 67.1822091817656, 63.26681409825074, 60.26687974751137, 59.84276596940367, 59.4978838341389, 53.4561952796911, 49.43089823997478, 48.51018505714662, 47.10516601734443, 46.89889953455003, 45.839075870335556, 45.36404919046409, 43.76180224008432, 43.510079592745946, 43.301030264763746, 110.47525862786676, 237.69592726600274, 143.22239164518274, 191.57231568957278, 55.67785907967027, 91.72053451827848, 107.66207906560341, 74.86640741737719, 84.98814651204715, 89.89003978592106, 69.46049684475857, 79.9709172433261, 70.64575736930608, 65.13667269785682, 1065.0656554605625, 185.8838716634299, 162.27296592218457, 93.07640068834252, 78.49936185351402, 71.77798667605401, 47.81887865097772, 34.40054475828714, 29.845274595642525, 27.092878775450504, 25.32674274195543, 23.966865014351626, 19.59147793887889, 18.718569181259515, 16.287993476919688, 16.0641816132036, 16.048704987731305, 12.967494687761855, 11.825998620105747, 10.97340526798616, 10.789815665974952, 10.298758868476146, 8.700647097958848, 7.691247857399329, 6.379747424517143, 5.77758467358877, 5.571535755017027, 5.3720349089028785, 5.368665349958035, 3.4677407331561625, 20.755778060881347, 41.03651834756172, 49.27593196834559, 19.35100193307392, 15.87589875253273, 20.528637104055324, 163.85606848140435, 126.55024739331891, 105.7131397480501, 90.1900644321886, 81.57039832246767, 79.82205837497207, 75.43429628529155, 63.245478609899145, 44.760654291056866, 43.998653958611236, 43.330343788355236, 40.880772394446275, 39.55717121738507, 37.23487535426845, 34.43969254266875, 32.88638916756678, 24.446798365326288, 24.076895921745727, 23.25780429965406, 21.568522831203715, 18.464187277162857, 18.150990949610026, 17.564890996805087, 17.4907782799043, 17.223656686209683, 16.737738768187892, 16.598508097618307, 14.775527110787621, 13.844807451676994, 13.170775756064078, 19.413652052364164, 32.95788093294993, 15.634216351753874, 145.62352370440186, 114.61465858506396, 98.35613370153803, 20.09018368332044, 15.864447531779337, 15.520693039033883, 13.863976619425733, 13.064301557720752, 12.328728952694362, 8.778572145920494, 6.134117869052645, 6.0358768432240835, 339.74573047644105, 255.4842689453188, 2.4697649448056938, 196.27478595577554, 0.6072264892025974, 7.825711455328385, 14.021231775811914, 21.685059404377274, 25.61431508229315, 33.498486562624585, 0.05450762510746172, 0.05422351319070008, 0.054084804789402745, 0.05398062468078569, 0.05397533647525338, 0.05397162243322836, 0.05401220633615076, 0.05394101971079439, 18.418798578485926, 0.05404858919021308, 0.054035125172964764, 0.0540348103402633, 0.2179947669182313, 0.0540348103402633, 627.0954631186477, 199.8901276434215, 66.86184497600648, 50.90210147312631, 46.04552323867574, 29.485781993904908, 25.3268239040344, 19.86395410491794, 18.617011513798595, 13.320476025539111, 11.131078572877955, 5.994230296819915, 22.02322238654539, 5.896796809033887, 4.34633661898134, 3.1796034373565, 2.491648018880411, 2.4043512939064917, 2.1730678388325146, 1.4475252447192637, 1.1246156812858357, 0.8685066406499014, 70.4303061902139, 1.8957753366303278, 10.040300958268409, 1.2064512873059234, 4.426548784528813, 2.2203399098703547, 10.928728161850067, 5.42314956375808, 404.42955233259613, 375.38169468179683, 130.44762971073334, 75.94748064042456, 71.13427106854199, 42.21841259225458, 33.557425081543556, 24.99603148848971, 21.742405975935437, 14.878133616665451, 14.360514287751553, 10.857922998223835, 9.020310923287528, 8.631570952181276, 6.028217032690093, 3.6930339793499454, 2.7236963197676998, 0.30440733198538644, 2.8515657657837, 67.7855116650338, 3.1161656579063397, 0.03523120277102518, 0.03445118603848965, 0.034440144820004404, 0.034439495796538204, 0.034439495796538204, 0.034056102777889785, 0.03405399540651459, 0.03369513625684454, 0.033679958491207244, 9.908497816479976, 8.730474869148933, 6.055636870614124, 4.071056466237464, 3.6369519928156526, 3.189115766092715, 3.0999099548441653, 2.933012674683727, 2.4471352592061657, 2.240982374693117, 1.7537921526071127, 1.5292120771272726, 1.0255417313774438, 0.9764293304208229, 0.7982080046614612, 0.5126277725478087, 0.014536820141272864, 0.0145019458205204, 0.014496135122604151, 0.014493713274668453, 0.014499234451014387, 0.014492934461644303, 0.014490327319903603, 0.01449060815582681, 0.014489758410017931, 0.014490405490727588, 0.014490405490727588, 0.014490405490727588, 0.014490563279983411, 0.01448893327354253, 0.01448893327354253, 0.014490327319903603, 0.014490405490727588, 0.014490773183121891, 0.014494544201575262, 0.014490641450807397, 0.014492598616622736, 0.014491288531517054], \"Total\": [2997.0, 2667.0, 2283.0, 2731.0, 1066.0, 1056.0, 1041.0, 1781.0, 628.0, 969.0, 1604.0, 1539.0, 3832.0, 2510.0, 1431.0, 1364.0, 786.0, 797.0, 792.0, 1965.0, 1345.0, 855.0, 1122.0, 953.0, 985.0, 5624.0, 911.0, 2509.0, 994.0, 1202.0, 1067.4969853969465, 656.5224816465687, 500.45323071219644, 452.4192663367317, 397.3281532557076, 1314.6739134498546, 295.9865748331556, 270.5328880363964, 245.45485033805133, 227.1986438287587, 224.58352541135142, 222.73434228893478, 218.19499356836604, 212.55537133056774, 190.79723217817337, 185.21062958240526, 184.51877072907055, 182.16079779451366, 178.90091305453572, 179.78768754205456, 171.77974718984092, 170.0475765304722, 169.1337243620248, 161.56793243762365, 153.3418033896247, 143.7874208205832, 143.63204404240702, 143.07936933098173, 140.78301161889885, 137.1395319608611, 831.8460794343009, 229.31499272619982, 1387.9519034524285, 425.3459081148889, 346.18327190185096, 588.2506501941003, 315.16250377629245, 837.9565894628714, 2055.035312855857, 477.21946134863015, 1293.978569780747, 520.9439651048963, 3832.4025132675265, 434.2387173473982, 341.89958928674486, 989.5749339419274, 1920.3185346593966, 1126.8929322212834, 1337.0824364033404, 805.2430215114035, 1354.0270452048387, 509.3792777354661, 925.5476369808355, 3471.7541005718667, 481.6423751457109, 496.1491680730369, 1137.6053007611827, 2509.5298963660803, 823.4001142826036, 826.9652439729458, 1664.6551449492842, 5624.699967953548, 2334.069341157976, 4296.21965630844, 783.8343304484358, 632.5454781390022, 616.6815805138003, 434.402606812535, 437.2794123610167, 375.23795452528844, 342.545598009384, 286.9690094545714, 280.6286779863524, 296.59145695009664, 234.76245124069644, 208.26685966039398, 193.72385963740405, 186.7548571095281, 185.38134614689156, 180.26450482113248, 178.9547959095679, 178.313309456135, 171.08995274643553, 166.01404282014352, 164.39463566028778, 161.16511509877188, 157.4378124755765, 137.1440758076593, 121.52518349346, 119.42784342051772, 119.16385923130484, 118.14415434259425, 117.42375167068226, 114.68352147037015, 111.08366855480163, 221.72658947661745, 455.11583261724036, 283.8827333430617, 629.0632665103669, 776.379019914347, 407.23661161654496, 1305.3440991166178, 486.1670744942552, 2739.045730675895, 1241.6407588194543, 258.1035654680227, 1600.5887944663243, 534.2823277406706, 1320.1687662635798, 680.7764669629764, 321.60052653887783, 592.750798699703, 5624.699967953548, 377.5399143571848, 3832.4025132675265, 4296.21965630844, 1345.5347710237254, 2510.4235691211315, 700.4708593979526, 1213.4483988722504, 1424.0601483688006, 867.0276062574411, 694.8585187055737, 1735.491817781667, 3471.7541005718667, 1669.2553802645912, 2334.069341157976, 1664.6551449492842, 1857.5952797460582, 1613.5528549122798, 1354.0270452048387, 1920.3185346593966, 1781.5943469945064, 934.7655417296721, 866.5555280442657, 490.50171704071045, 557.212164431515, 445.8019951405961, 437.49091487341224, 412.5217566501582, 319.0304261325134, 290.24266333936254, 271.04302327879213, 234.2808897730209, 233.15303214065142, 213.40370833280778, 203.87142139536897, 175.3385628458204, 163.5780625817051, 122.44944373868054, 119.37689317794444, 115.59724953510936, 110.59458068327639, 100.83381489275743, 99.34659213074971, 94.35844784505773, 85.63386324198416, 85.5713980377929, 84.64675304460327, 76.6341184017945, 74.17798205117535, 66.5137741522494, 951.8800182676059, 315.98917581773594, 1048.8289705289383, 610.142354287287, 336.05003605762937, 444.29730102512843, 442.36280283786374, 1104.4194162692302, 449.1810651796449, 859.4759454171515, 1253.5904346039738, 268.666544604436, 507.43877330938244, 1740.9131155119985, 1965.953480141919, 1483.3130211371783, 1735.491817781667, 479.939130540116, 1669.2950440281888, 1805.4862242459585, 2510.4235691211315, 1261.887306768613, 808.7741730775083, 4296.21965630844, 1322.549473953794, 2997.042755705557, 2334.069341157976, 3471.7541005718667, 2509.5298963660803, 820.4942445246174, 2731.675616848974, 858.1251580555396, 835.4030149476001, 545.7300297266103, 539.4602152564037, 448.33300946257236, 436.72586666919483, 264.4100789189139, 261.0416220341182, 239.66443446512665, 207.94666638370978, 203.15872174485864, 196.3578308771426, 177.34389680750837, 174.4282777681544, 172.83594361697476, 164.39836113943272, 162.47628927889224, 151.61165155453864, 148.5538645423705, 145.55913926184465, 142.36180047479746, 140.0847345447001, 138.47479295610535, 113.89765848056382, 112.02622806236047, 106.92252604333349, 97.87156443084345, 1364.071450090097, 180.31086741851792, 486.78949340228644, 157.28810239433682, 295.2011108751486, 320.5548333917006, 1539.5039499850927, 1604.1083739807377, 585.7578862861045, 235.22963195455344, 597.526921668161, 558.5492675085934, 551.8446009425103, 733.9936945968608, 461.1380403949629, 676.0364833859345, 1131.660444985904, 502.0675178154061, 1079.3324502953617, 5624.699967953548, 1128.315939915606, 4296.21965630844, 1333.3403138860388, 1613.5528549122798, 2739.045730675895, 1857.5952797460582, 1322.549473953794, 2334.069341157976, 1669.2553802645912, 1122.1592879111454, 994.7760777735166, 563.3181852658329, 471.7961747406134, 386.4265814082226, 263.2921704726628, 206.55664146158844, 188.72368755925862, 183.3878486188324, 166.27626442625447, 145.71777653807018, 144.9774837286581, 144.57432161041376, 143.77011266036118, 140.30120414110684, 133.2372459469327, 127.9545450934361, 124.01201259420573, 121.67320776598676, 115.52744852257557, 75.32411436929483, 74.40801949652639, 177.29037771140585, 71.80793694547592, 71.1523469058148, 69.62045286783396, 69.4029083295923, 66.92552795445675, 65.19068252852252, 578.4294731285631, 203.42418325921483, 786.0544734885166, 268.32570290757184, 197.50326253002902, 425.11508428181025, 404.3783604811013, 1128.315939915606, 1475.908030593084, 1028.4148856198383, 2509.5298963660803, 587.8260538435504, 668.5772838850899, 1131.660444985904, 622.0141443481347, 665.1523914525441, 527.1615861130834, 1600.5887944663243, 351.5987353488492, 1424.0601483688006, 1345.3762408313426, 1805.4862242459585, 4296.21965630844, 980.5277696517105, 784.7698911212394, 2997.042755705557, 1322.549473953794, 1740.9131155119985, 3471.7541005718667, 636.9792329208243, 459.96663116490765, 394.1198741137742, 354.79377891660084, 334.18469975605063, 311.08207647664955, 255.65854530453655, 234.16608660985204, 221.51731658965807, 208.5814981479538, 180.80113755478246, 156.16000466637416, 154.72993457745736, 148.89938481566202, 146.55007213864104, 143.5166142298092, 141.3769897391825, 134.2384667160645, 121.1246693477535, 118.75165325388159, 114.1181599730749, 113.74770777296423, 111.86500703980633, 106.40256628597898, 106.1229790167967, 101.4587655786067, 100.096324735551, 99.68735050634294, 97.73625155547522, 97.47617272048542, 756.464526092573, 1431.2717759595944, 593.2149435541257, 370.78711520953544, 120.755610461892, 362.7448423757147, 985.6585723252143, 463.7388905217653, 528.8377601773327, 5624.699967953548, 893.5969563815288, 353.41129277671934, 533.249870602562, 953.9685935454386, 857.7354550026943, 494.50112710517607, 1857.5952797460582, 3471.7541005718667, 543.3399416330873, 2055.035312855857, 722.6212363740843, 2283.271913113741, 244.62810377412836, 241.59208002714635, 236.7709351718082, 221.06958725417275, 215.78185555986744, 191.31515289007268, 182.45351519370806, 165.75519943612767, 162.78258952677962, 142.9853376683366, 128.65779805734078, 121.6255340765149, 117.10960264530775, 101.69493029554063, 89.35677852111034, 85.7505758268949, 85.15795839379003, 82.46737863246082, 81.54100186746322, 77.26074951569711, 72.57183644326807, 67.77309448709441, 2667.696988735626, 61.428684334809155, 60.53005634067338, 56.56214261707609, 53.10910135858085, 49.36226526986475, 48.53334081783348, 675.5875750619132, 189.87635446012413, 100.57847152778858, 355.60177114762257, 544.6349425829715, 642.9916927991611, 782.8506703810073, 251.27194635921705, 184.60417099737535, 476.8644851104465, 593.4142314315272, 1483.3130211371783, 376.8928723252276, 1805.4862242459585, 714.031043105967, 602.3757244135484, 585.953805684846, 2510.4235691211315, 622.0141443481347, 668.5772838850899, 353.41129277671934, 1965.953480141919, 1041.912162819245, 797.598187469865, 792.9413607413626, 494.33211163315474, 161.83339671612194, 144.40898759852314, 125.81052922124238, 111.62811707106863, 93.3973925203607, 93.1404017487335, 79.71763410187333, 62.16296162189372, 58.54010243258968, 58.52897267804088, 54.16636824650225, 51.619731868795306, 45.98703843418782, 44.590372898038176, 41.72042061720436, 41.69191148088565, 41.31755518522196, 37.639441327303736, 33.88929331956026, 33.51199906146482, 31.76861085037416, 30.79827648681718, 30.081352399541213, 30.067662129526724, 27.323911706104905, 26.1348057235323, 460.9270799321292, 270.32155851509384, 112.12050832039981, 395.33138416766207, 322.829646173021, 105.00972184190115, 298.0004237266436, 143.92137331214133, 911.9662380052216, 204.06251841433024, 336.9650385416842, 1202.4576495712931, 266.03049024161015, 980.5277696517105, 168.24668976997577, 351.5987353488492, 302.74194223567946, 357.5499004096927, 926.6924261734347, 1076.4762569633604, 366.41022348677353, 784.7698911212394, 1056.2928756860388, 361.4104260317705, 252.55612198759445, 119.53725877524481, 107.89782024362542, 94.89919739452151, 85.5509717603222, 77.65090122887125, 61.6330731993845, 57.40701330560793, 56.2717742590313, 129.13000128915255, 36.8606539728426, 388.548197612964, 22.87651223928481, 21.60854924878862, 12.607756276542773, 11.36979715557217, 10.185660139171159, 9.031038363686658, 8.805788089563972, 7.881034526060296, 7.576255267328837, 6.52390260102956, 6.372027314924373, 6.08205882722603, 135.0347246354147, 5.484519447133881, 5.4414415386046935, 35.1622845864403, 178.9422624985427, 2997.042755705557, 855.6748064717794, 103.78290728987308, 953.9685935454386, 202.1862619660345, 55.60921030859395, 694.4727414967631, 54.67764135531486, 1345.5347710237254, 782.8506703810073, 93.5749161892382, 1965.953480141919, 2510.4235691211315, 173.483635611351, 507.43877330938244, 444.29730102512843, 227.1302686388594, 332.6037096571672, 264.2391093699138, 193.54672157345254, 178.8042005352082, 159.30470117382995, 152.39140901351004, 144.72943578685266, 117.56229853938977, 115.02618992623819, 109.63395929572177, 91.73339477985989, 77.32233122929938, 60.14573493357598, 59.54018512692882, 58.26921503016131, 38.46432074300569, 38.18253548275876, 36.11084923231982, 32.961829033822156, 31.791440027425743, 29.867227853891926, 26.894720004628617, 26.846718258795907, 26.687541908469882, 25.562767108934228, 24.911545257798178, 23.997746711099236, 21.332220158541364, 19.65916041498141, 19.17953593007086, 969.027906816711, 636.7620547379448, 236.75861603299165, 306.9287295585795, 985.6585723252143, 1604.1083739807377, 1539.5039499850927, 380.4607780385971, 314.4386768605635, 733.9936945968608, 597.526921668161, 428.33017912470683, 366.04077416171225, 502.0675178154061, 327.3741506206998, 926.6924261734347, 462.0589873968275, 5624.699967953548, 1241.6407588194543, 372.91316376590714, 330.43513642916264, 262.20155767610385, 209.31606882771723, 185.51421684379415, 146.92545146643016, 123.15229955655, 118.86247806788022, 112.07439689666688, 95.95865439025658, 94.42571984332946, 93.2289243035292, 88.88854775386847, 80.37645537850145, 140.2127547550148, 68.1703471098765, 64.2549519029721, 61.25501757974706, 60.83090383618081, 60.48602190296437, 54.444333198896864, 50.41903623624549, 49.498323121918844, 48.093304452105485, 47.88703733577925, 46.827213872383616, 46.35218775610661, 44.74994010570509, 44.498217436934915, 44.289168095436004, 119.19492751842303, 374.80059525329096, 200.69912703697275, 463.7388905217653, 66.09962273039044, 168.11115882041753, 362.7448423757147, 204.43953576377905, 366.061892911018, 663.9228506220978, 251.27194635921705, 953.9685935454386, 411.3258075561067, 593.2149435541257, 1066.0976525489812, 186.91586866223676, 163.3049633339404, 94.10839782082121, 79.53135880928986, 72.80998383717714, 48.85087566889029, 35.432541733093416, 30.877271652350025, 28.12487645403822, 26.35873995823744, 24.99886237425936, 20.62347535749422, 19.750566323408275, 17.319990473747133, 17.09617854531397, 17.080701928828944, 13.999491796651863, 12.85799555664759, 12.00540308407396, 11.821812852781658, 11.330755960405622, 9.73264421855443, 8.723244783908706, 7.411744825907783, 6.809583624500738, 6.6035333860170695, 6.404033750721042, 6.400662494849287, 4.499737765145866, 32.29717053099554, 71.93285595912909, 149.40207266765088, 130.2528824028799, 107.27785281604393, 1431.2717759595944, 164.87174158654366, 127.56592049987576, 106.7288129118678, 91.20573755685943, 82.58607163264371, 80.83773148537728, 76.44996949213252, 64.26115192226678, 45.77632783775017, 45.014327004962915, 44.34601689517822, 41.89644599653573, 40.572844269973224, 38.25054862895997, 35.45536578808789, 33.90206212633928, 25.462471800876145, 25.09256916548242, 24.273477400476573, 22.584195904755425, 19.479860516203274, 19.166664064868513, 18.580564506963647, 18.506451580950475, 18.23933006413552, 17.75341195026823, 17.614181247881486, 15.791201559136578, 14.86048058765597, 14.186448824697536, 45.92683055657359, 322.829646173021, 54.255524735000265, 146.6474364212274, 115.63857125844864, 99.38004653766303, 21.114096425501554, 16.8883610334547, 16.544605772973046, 14.887889532288693, 14.088214390520466, 13.352641600676371, 9.802485107696768, 7.158030507108765, 7.059789536843852, 411.3258075561067, 352.69936363923995, 3.4936776699885814, 296.6524323723283, 1.6311390770939294, 39.73946444160004, 76.27256682787197, 165.6598160386242, 330.2018602369396, 629.0632665103669, 1.0851491874156818, 1.0804849352412347, 1.0781862086002292, 1.0781356806539764, 1.0780929264656367, 1.078086126972529, 1.0791306887555132, 1.0780524943807133, 663.9228506220978, 1.081750175060272, 1.0814353964966708, 1.0814175327531261, 115.42665717978008, 1.0816012352867859, 628.1370555552978, 200.93171379424132, 67.90343079605468, 51.94368724820412, 47.08710918614416, 30.52736785431275, 26.368409670629035, 20.90554006279721, 19.65859746698479, 14.362062093208367, 12.172664530521713, 7.035816165344365, 25.883087787069176, 6.938383119041729, 5.387923911777731, 4.221189720980655, 3.533233910776102, 3.445937100705763, 3.2146537336791012, 2.489110953257138, 2.166201419221506, 1.9100924742963965, 171.33051110294696, 11.231316392687624, 82.63418184363903, 12.625043765722735, 48.54611417985549, 27.38164894014934, 137.7771864293633, 93.5749161892382, 405.4739973980562, 376.42613960363957, 131.49207454207692, 76.99192552059502, 72.17871595438804, 43.262857412393316, 34.60187001442756, 26.04047633736495, 22.786850925112446, 15.922578959452514, 15.404960001550036, 11.902368187539532, 10.064756016976414, 9.676015800015453, 7.072662051435332, 4.737479269833895, 3.7681420134541375, 1.3488521561895472, 25.883087787069176, 786.0544734885166, 74.79968647033644, 1.0851491874156818, 1.081750175060272, 1.0814353964966708, 1.0814175327531261, 1.0816012352867859, 1.0801904033935146, 1.0801915636306831, 1.0790561724200007, 1.0789922589048062, 587.8260538435504, 9.793721434317423, 7.11888375520571, 5.134303196958223, 4.700198807864196, 4.25236258161846, 4.163157012261662, 3.996259493784263, 3.510382093403199, 3.3042292672229854, 2.8170391894643507, 2.592458835326349, 2.0887887261519045, 2.0396763774894504, 1.8614559148539693, 1.5758745201528424, 1.0780623562024167, 1.0779203398335213, 1.0777827115926566, 1.0777675309374322, 1.0782677241442182, 1.077954432804206, 1.0778036549425178, 1.0778404518324223, 1.0778187072387282, 1.077945687197882, 1.077945687197882, 1.078000372494878, 1.0780124416970722, 1.0778920340136862, 1.0778920340136862, 1.0780789130714403, 1.078124137999203, 1.078240378614014, 1.0800149465695714, 1.078223306028836, 1.0794410964046852, 1.0793383807965475], \"Category\": [\"Default\", \"Default\", \"Default\", \"Default\", \"Default\", \"Default\", \"Default\", \"Default\", \"Default\", \"Default\", \"Default\", \"Default\", \"Default\", \"Default\", \"Default\", \"Default\", \"Default\", \"Default\", \"Default\", \"Default\", \"Default\", \"Default\", \"Default\", \"Default\", \"Default\", \"Default\", \"Default\", \"Default\", \"Default\", \"Default\", \"Topic1\", \"Topic1\", \"Topic1\", \"Topic1\", \"Topic1\", \"Topic1\", \"Topic1\", \"Topic1\", \"Topic1\", \"Topic1\", \"Topic1\", \"Topic1\", \"Topic1\", \"Topic1\", \"Topic1\", \"Topic1\", \"Topic1\", \"Topic1\", \"Topic1\", \"Topic1\", \"Topic1\", \"Topic1\", \"Topic1\", \"Topic1\", \"Topic1\", \"Topic1\", \"Topic1\", \"Topic1\", \"Topic1\", \"Topic1\", \"Topic1\", \"Topic1\", \"Topic1\", \"Topic1\", \"Topic1\", \"Topic1\", \"Topic1\", \"Topic1\", \"Topic1\", \"Topic1\", \"Topic1\", \"Topic1\", \"Topic1\", \"Topic1\", \"Topic1\", \"Topic1\", \"Topic1\", \"Topic1\", \"Topic1\", \"Topic1\", \"Topic1\", \"Topic1\", \"Topic1\", \"Topic1\", \"Topic1\", \"Topic1\", \"Topic1\", \"Topic1\", \"Topic1\", \"Topic1\", \"Topic1\", \"Topic1\", \"Topic1\", \"Topic1\", \"Topic1\", \"Topic2\", \"Topic2\", \"Topic2\", \"Topic2\", \"Topic2\", \"Topic2\", \"Topic2\", \"Topic2\", \"Topic2\", \"Topic2\", \"Topic2\", \"Topic2\", \"Topic2\", \"Topic2\", \"Topic2\", \"Topic2\", \"Topic2\", \"Topic2\", \"Topic2\", \"Topic2\", \"Topic2\", \"Topic2\", \"Topic2\", \"Topic2\", \"Topic2\", \"Topic2\", \"Topic2\", \"Topic2\", \"Topic2\", \"Topic2\", \"Topic2\", \"Topic2\", \"Topic2\", \"Topic2\", \"Topic2\", \"Topic2\", \"Topic2\", \"Topic2\", \"Topic2\", \"Topic2\", \"Topic2\", \"Topic2\", \"Topic2\", \"Topic2\", \"Topic2\", \"Topic2\", \"Topic2\", \"Topic2\", \"Topic2\", \"Topic2\", \"Topic2\", \"Topic2\", \"Topic2\", \"Topic2\", \"Topic2\", \"Topic2\", \"Topic2\", \"Topic2\", \"Topic2\", \"Topic2\", \"Topic2\", \"Topic2\", \"Topic2\", \"Topic2\", \"Topic2\", \"Topic2\", \"Topic2\", \"Topic3\", \"Topic3\", \"Topic3\", \"Topic3\", \"Topic3\", \"Topic3\", \"Topic3\", \"Topic3\", \"Topic3\", \"Topic3\", \"Topic3\", \"Topic3\", \"Topic3\", \"Topic3\", \"Topic3\", \"Topic3\", \"Topic3\", \"Topic3\", \"Topic3\", \"Topic3\", \"Topic3\", \"Topic3\", \"Topic3\", \"Topic3\", \"Topic3\", \"Topic3\", \"Topic3\", \"Topic3\", \"Topic3\", \"Topic3\", \"Topic3\", \"Topic3\", \"Topic3\", \"Topic3\", \"Topic3\", \"Topic3\", \"Topic3\", \"Topic3\", \"Topic3\", \"Topic3\", \"Topic3\", \"Topic3\", \"Topic3\", \"Topic3\", \"Topic3\", \"Topic3\", \"Topic3\", \"Topic3\", \"Topic3\", \"Topic3\", \"Topic3\", \"Topic3\", \"Topic3\", \"Topic3\", \"Topic3\", \"Topic3\", \"Topic3\", \"Topic3\", \"Topic3\", \"Topic3\", \"Topic4\", \"Topic4\", \"Topic4\", \"Topic4\", \"Topic4\", \"Topic4\", \"Topic4\", \"Topic4\", \"Topic4\", \"Topic4\", \"Topic4\", \"Topic4\", \"Topic4\", \"Topic4\", \"Topic4\", \"Topic4\", \"Topic4\", \"Topic4\", \"Topic4\", \"Topic4\", \"Topic4\", \"Topic4\", \"Topic4\", \"Topic4\", \"Topic4\", \"Topic4\", \"Topic4\", \"Topic4\", \"Topic4\", \"Topic4\", \"Topic4\", \"Topic4\", \"Topic4\", \"Topic4\", \"Topic4\", \"Topic4\", \"Topic4\", \"Topic4\", \"Topic4\", \"Topic4\", \"Topic4\", \"Topic4\", \"Topic4\", \"Topic4\", \"Topic4\", \"Topic4\", \"Topic4\", \"Topic4\", \"Topic4\", \"Topic4\", \"Topic4\", \"Topic4\", \"Topic4\", \"Topic4\", \"Topic4\", \"Topic4\", \"Topic4\", \"Topic5\", \"Topic5\", \"Topic5\", \"Topic5\", \"Topic5\", \"Topic5\", \"Topic5\", \"Topic5\", \"Topic5\", \"Topic5\", \"Topic5\", \"Topic5\", \"Topic5\", \"Topic5\", \"Topic5\", \"Topic5\", \"Topic5\", \"Topic5\", \"Topic5\", \"Topic5\", \"Topic5\", \"Topic5\", \"Topic5\", \"Topic5\", \"Topic5\", \"Topic5\", \"Topic5\", \"Topic5\", \"Topic5\", \"Topic5\", \"Topic5\", \"Topic5\", \"Topic5\", \"Topic5\", \"Topic5\", \"Topic5\", \"Topic5\", \"Topic5\", \"Topic5\", \"Topic5\", \"Topic5\", \"Topic5\", \"Topic5\", \"Topic5\", \"Topic5\", \"Topic5\", \"Topic5\", \"Topic5\", \"Topic5\", \"Topic5\", \"Topic5\", \"Topic5\", \"Topic5\", \"Topic5\", \"Topic5\", \"Topic5\", \"Topic5\", \"Topic5\", \"Topic6\", \"Topic6\", \"Topic6\", \"Topic6\", \"Topic6\", \"Topic6\", \"Topic6\", \"Topic6\", \"Topic6\", \"Topic6\", \"Topic6\", \"Topic6\", \"Topic6\", \"Topic6\", \"Topic6\", \"Topic6\", \"Topic6\", \"Topic6\", \"Topic6\", \"Topic6\", \"Topic6\", \"Topic6\", \"Topic6\", \"Topic6\", \"Topic6\", \"Topic6\", \"Topic6\", \"Topic6\", \"Topic6\", \"Topic6\", \"Topic6\", \"Topic6\", \"Topic6\", \"Topic6\", \"Topic6\", \"Topic6\", \"Topic6\", \"Topic6\", \"Topic6\", \"Topic6\", \"Topic6\", \"Topic6\", \"Topic6\", \"Topic6\", \"Topic6\", \"Topic6\", \"Topic6\", \"Topic6\", \"Topic6\", \"Topic6\", \"Topic6\", \"Topic7\", \"Topic7\", \"Topic7\", \"Topic7\", \"Topic7\", \"Topic7\", \"Topic7\", \"Topic7\", \"Topic7\", \"Topic7\", \"Topic7\", \"Topic7\", \"Topic7\", \"Topic7\", \"Topic7\", \"Topic7\", \"Topic7\", \"Topic7\", \"Topic7\", \"Topic7\", \"Topic7\", \"Topic7\", \"Topic7\", \"Topic7\", \"Topic7\", \"Topic7\", \"Topic7\", \"Topic7\", \"Topic7\", \"Topic7\", \"Topic7\", \"Topic7\", \"Topic7\", \"Topic7\", \"Topic7\", \"Topic7\", \"Topic7\", \"Topic7\", \"Topic7\", \"Topic7\", \"Topic7\", \"Topic7\", \"Topic7\", \"Topic7\", \"Topic7\", \"Topic7\", \"Topic7\", \"Topic7\", \"Topic7\", \"Topic7\", \"Topic7\", \"Topic7\", \"Topic8\", \"Topic8\", \"Topic8\", \"Topic8\", \"Topic8\", \"Topic8\", \"Topic8\", \"Topic8\", \"Topic8\", \"Topic8\", \"Topic8\", \"Topic8\", \"Topic8\", \"Topic8\", \"Topic8\", \"Topic8\", \"Topic8\", \"Topic8\", \"Topic8\", \"Topic8\", \"Topic8\", \"Topic8\", \"Topic8\", \"Topic8\", \"Topic8\", \"Topic8\", \"Topic8\", \"Topic8\", \"Topic8\", \"Topic8\", \"Topic8\", \"Topic8\", \"Topic8\", \"Topic8\", \"Topic8\", \"Topic8\", \"Topic8\", \"Topic8\", \"Topic8\", \"Topic8\", \"Topic8\", \"Topic8\", \"Topic8\", \"Topic8\", \"Topic8\", \"Topic8\", \"Topic8\", \"Topic8\", \"Topic8\", \"Topic8\", \"Topic8\", \"Topic8\", \"Topic9\", \"Topic9\", \"Topic9\", \"Topic9\", \"Topic9\", \"Topic9\", \"Topic9\", \"Topic9\", \"Topic9\", \"Topic9\", \"Topic9\", \"Topic9\", \"Topic9\", \"Topic9\", \"Topic9\", \"Topic9\", \"Topic9\", \"Topic9\", \"Topic9\", \"Topic9\", \"Topic9\", \"Topic9\", \"Topic9\", \"Topic9\", \"Topic9\", \"Topic9\", \"Topic9\", \"Topic9\", \"Topic9\", \"Topic9\", \"Topic9\", \"Topic9\", \"Topic9\", \"Topic9\", \"Topic9\", \"Topic9\", \"Topic9\", \"Topic9\", \"Topic9\", \"Topic9\", \"Topic9\", \"Topic9\", \"Topic9\", \"Topic9\", \"Topic9\", \"Topic9\", \"Topic9\", \"Topic9\", \"Topic10\", \"Topic10\", \"Topic10\", \"Topic10\", \"Topic10\", \"Topic10\", \"Topic10\", \"Topic10\", \"Topic10\", \"Topic10\", \"Topic10\", \"Topic10\", \"Topic10\", \"Topic10\", \"Topic10\", \"Topic10\", \"Topic10\", \"Topic10\", \"Topic10\", \"Topic10\", \"Topic10\", \"Topic10\", \"Topic10\", \"Topic10\", \"Topic10\", \"Topic10\", \"Topic10\", \"Topic10\", \"Topic10\", \"Topic10\", \"Topic10\", \"Topic10\", \"Topic10\", \"Topic10\", \"Topic10\", \"Topic10\", \"Topic10\", \"Topic10\", \"Topic10\", \"Topic10\", \"Topic10\", \"Topic10\", \"Topic10\", \"Topic10\", \"Topic10\", \"Topic10\", \"Topic10\", \"Topic10\", \"Topic10\", \"Topic11\", \"Topic11\", \"Topic11\", \"Topic11\", \"Topic11\", \"Topic11\", \"Topic11\", \"Topic11\", \"Topic11\", \"Topic11\", \"Topic11\", \"Topic11\", \"Topic11\", \"Topic11\", \"Topic11\", \"Topic11\", \"Topic11\", \"Topic11\", \"Topic11\", \"Topic11\", \"Topic11\", \"Topic11\", \"Topic11\", \"Topic11\", \"Topic11\", \"Topic11\", \"Topic11\", \"Topic11\", \"Topic11\", \"Topic11\", \"Topic11\", \"Topic11\", \"Topic11\", \"Topic11\", \"Topic11\", \"Topic11\", \"Topic11\", \"Topic11\", \"Topic11\", \"Topic11\", \"Topic11\", \"Topic11\", \"Topic11\", \"Topic11\", \"Topic12\", \"Topic12\", \"Topic12\", \"Topic12\", \"Topic12\", \"Topic12\", \"Topic12\", \"Topic12\", \"Topic12\", \"Topic12\", \"Topic12\", \"Topic12\", \"Topic12\", \"Topic12\", \"Topic12\", \"Topic12\", \"Topic12\", \"Topic12\", \"Topic12\", \"Topic12\", \"Topic12\", \"Topic12\", \"Topic12\", \"Topic12\", \"Topic12\", \"Topic12\", \"Topic12\", \"Topic12\", \"Topic12\", \"Topic12\", \"Topic12\", \"Topic12\", \"Topic12\", \"Topic12\", \"Topic12\", \"Topic12\", \"Topic13\", \"Topic13\", \"Topic13\", \"Topic13\", \"Topic13\", \"Topic13\", \"Topic13\", \"Topic13\", \"Topic13\", \"Topic13\", \"Topic13\", \"Topic13\", \"Topic13\", \"Topic13\", \"Topic13\", \"Topic13\", \"Topic13\", \"Topic13\", \"Topic13\", \"Topic13\", \"Topic13\", \"Topic13\", \"Topic13\", \"Topic13\", \"Topic13\", \"Topic13\", \"Topic13\", \"Topic13\", \"Topic13\", \"Topic13\", \"Topic13\", \"Topic13\", \"Topic13\", \"Topic14\", \"Topic14\", \"Topic14\", \"Topic14\", \"Topic14\", \"Topic14\", \"Topic14\", \"Topic14\", \"Topic14\", \"Topic14\", \"Topic14\", \"Topic14\", \"Topic14\", \"Topic14\", \"Topic14\", \"Topic14\", \"Topic14\", \"Topic14\", \"Topic14\", \"Topic14\", \"Topic14\", \"Topic14\", \"Topic14\", \"Topic14\", \"Topic14\", \"Topic14\", \"Topic14\", \"Topic14\", \"Topic14\", \"Topic14\", \"Topic14\", \"Topic14\", \"Topic14\", \"Topic14\", \"Topic14\", \"Topic14\", \"Topic15\", \"Topic15\", \"Topic15\", \"Topic15\", \"Topic15\", \"Topic15\", \"Topic15\", \"Topic15\", \"Topic15\", \"Topic15\", \"Topic15\", \"Topic15\", \"Topic15\", \"Topic15\", \"Topic15\", \"Topic15\", \"Topic15\", \"Topic15\", \"Topic15\", \"Topic15\", \"Topic15\", \"Topic15\", \"Topic15\", \"Topic15\", \"Topic15\", \"Topic15\", \"Topic15\", \"Topic15\", \"Topic15\", \"Topic15\", \"Topic16\", \"Topic16\", \"Topic16\", \"Topic16\", \"Topic16\", \"Topic16\", \"Topic16\", \"Topic16\", \"Topic16\", \"Topic16\", \"Topic16\", \"Topic16\", \"Topic16\", \"Topic16\", \"Topic16\", \"Topic16\", \"Topic16\", \"Topic16\", \"Topic16\", \"Topic16\", \"Topic16\", \"Topic16\", \"Topic16\", \"Topic16\", \"Topic16\", \"Topic16\", \"Topic16\", \"Topic16\", \"Topic16\", \"Topic16\", \"Topic16\", \"Topic17\", \"Topic17\", \"Topic17\", \"Topic17\", \"Topic17\", \"Topic17\", \"Topic17\", \"Topic17\", \"Topic17\", \"Topic17\", \"Topic17\", \"Topic17\", \"Topic17\", \"Topic17\", \"Topic17\", \"Topic17\", \"Topic17\", \"Topic17\", \"Topic17\", \"Topic17\", \"Topic17\", \"Topic17\", \"Topic17\", \"Topic17\", \"Topic17\", \"Topic17\", \"Topic17\", \"Topic17\", \"Topic17\", \"Topic17\", \"Topic17\", \"Topic17\", \"Topic17\", \"Topic17\", \"Topic17\", \"Topic17\", \"Topic17\"], \"logprob\": [30.0, 29.0, 28.0, 27.0, 26.0, 25.0, 24.0, 23.0, 22.0, 21.0, 20.0, 19.0, 18.0, 17.0, 16.0, 15.0, 14.0, 13.0, 12.0, 11.0, 10.0, 9.0, 8.0, 7.0, 6.0, 5.0, 4.0, 3.0, 2.0, 1.0, -4.4411, -4.9278, -5.1997, -5.3008, -5.431, -4.2348, -5.7263, -5.8165, -5.9142, -5.9918, -6.0034, -6.0117, -6.0324, -6.0587, -6.1672, -6.1971, -6.2009, -6.2138, -6.232, -6.2271, -6.2728, -6.283, -6.2884, -6.3344, -6.387, -6.4518, -6.4529, -6.4568, -6.4731, -6.4995, -4.7213, -6.004, -4.2795, -5.4793, -5.6636, -5.1975, -5.7495, -4.9169, -4.2064, -5.4192, -4.5924, -5.3485, -3.7452, -5.5097, -5.7063, -4.9202, -4.5025, -4.9154, -4.8141, -5.1705, -4.838, -5.4738, -5.101, -4.3444, -5.525, -5.5154, -5.1185, -4.7965, -5.3041, -5.3198, -5.1366, -4.8051, -5.1016, -5.039, -5.3504, -4.8158, -4.8412, -5.1923, -5.1859, -5.3391, -5.4305, -5.6081, -5.6305, -5.5756, -5.8097, -5.9303, -6.0027, -6.0395, -6.047, -6.0751, -6.0824, -6.0861, -6.1276, -6.1579, -6.1678, -6.1878, -6.2113, -6.3503, -6.4721, -6.4897, -6.4919, -6.5006, -6.5068, -6.5306, -6.5627, -5.8723, -5.1636, -5.6338, -4.876, -4.7028, -5.3247, -4.2334, -5.1658, -3.6964, -4.448, -5.7844, -4.2448, -5.1698, -4.4279, -4.9862, -5.6018, -5.1177, -3.4315, -5.5183, -3.8608, -3.8026, -4.6165, -4.1903, -5.0821, -4.726, -4.6956, -4.9915, -5.1245, -4.6771, -4.3648, -4.7142, -4.6145, -4.8117, -4.7813, -4.9562, -5.0883, -5.065, -3.4453, -4.0907, -4.1666, -4.7366, -4.6092, -4.8323, -4.8512, -4.9101, -5.1678, -5.2627, -5.3314, -5.4778, -5.4826, -5.5715, -5.6174, -5.769, -5.8389, -6.1306, -6.1562, -6.1887, -6.2333, -6.3266, -6.3416, -6.3937, -6.4918, -6.4925, -6.5035, -6.6042, -6.6373, -6.7479, -4.0982, -5.1912, -4.011, -4.5506, -5.1518, -4.9422, -4.96, -4.1489, -4.9696, -4.3976, -4.084, -5.4475, -4.907, -3.9153, -3.8548, -4.1025, -4.0594, -5.0013, -4.1445, -4.2682, -4.1215, -4.5002, -4.7734, -4.3131, -4.7139, -4.4892, -4.6788, -4.6322, -4.761, -4.8843, -2.8927, -4.0514, -4.0783, -4.5047, -4.5163, -4.7017, -4.728, -5.2313, -5.2442, -5.3299, -5.4725, -5.4959, -5.5302, -5.6326, -5.6492, -5.6584, -5.7088, -5.7206, -5.7903, -5.8108, -5.8313, -5.8537, -5.8699, -5.8815, -6.0785, -6.0952, -6.1423, -6.2316, -3.597, -5.6206, -4.6704, -5.7708, -5.2202, -5.1549, -3.8551, -3.9063, -4.7577, -5.4681, -4.8105, -4.8926, -4.9169, -4.7353, -5.1537, -4.9688, -4.7161, -5.1319, -4.8577, -4.1924, -4.8986, -4.4826, -4.9263, -4.8947, -4.842, -4.9416, -4.9974, -4.9954, -5.033, -3.5069, -3.6275, -4.197, -4.3746, -4.5747, -4.9596, -5.2034, -5.2941, -5.323, -5.4215, -5.5543, -5.5595, -5.5623, -5.5679, -5.5925, -5.6445, -5.6853, -5.7168, -5.736, -5.7883, -6.2208, -6.2332, -5.3652, -6.2692, -6.2785, -6.3006, -6.3038, -6.3407, -6.3674, -4.1844, -5.2597, -3.9535, -5.0289, -5.3184, -4.6833, -4.7289, -3.9433, -3.7482, -4.1127, -3.5475, -4.6292, -4.5923, -4.248, -4.7247, -4.7716, -4.9041, -4.3514, -5.1367, -4.5306, -4.5634, -4.5338, -4.4628, -4.9167, -4.9897, -4.7407, -4.927, -4.8918, -4.8788, -4.0532, -4.3793, -4.5342, -4.6396, -4.6996, -4.7715, -4.9684, -5.0565, -5.1123, -5.1728, -5.3164, -5.4638, -5.4731, -5.5117, -5.5277, -5.5488, -5.5639, -5.6161, -5.7197, -5.7397, -5.7798, -5.7831, -5.7999, -5.8504, -5.8531, -5.8985, -5.9121, -5.9162, -5.9362, -5.9389, -3.961, -3.389, -4.3025, -4.7292, -5.7556, -4.9703, -4.5038, -5.0027, -4.9851, -3.7668, -4.7127, -5.2033, -5.0069, -4.7353, -4.8389, -5.1458, -4.8174, -4.7491, -5.2161, -4.9964, -5.2165, -2.3864, -4.6238, -4.6363, -4.6565, -4.7255, -4.7498, -4.8707, -4.9184, -5.0149, -5.0332, -5.1637, -5.2701, -5.3267, -5.3649, -5.5073, -5.6381, -5.6797, -5.6868, -5.7193, -5.7307, -5.7853, -5.8488, -5.9182, -2.2463, -6.018, -6.033, -6.102, -6.1662, -6.2408, -6.2581, -3.6531, -4.9106, -5.5451, -4.3934, -4.0852, -4.1148, -4.0039, -4.9215, -5.1558, -4.4884, -4.4935, -4.0687, -4.8637, -4.0449, -4.6492, -4.7486, -4.8705, -4.6499, -4.9852, -4.9809, -5.1011, -5.0344, -2.5339, -2.8014, -2.8073, -3.2806, -4.4014, -4.5161, -4.655, -4.7757, -4.9558, -4.9586, -5.116, -5.3684, -5.4295, -5.4297, -5.5086, -5.5577, -5.6757, -5.7072, -5.7753, -5.776, -5.7853, -5.881, -5.989, -6.0005, -6.0557, -6.0877, -6.1121, -6.1126, -6.2118, -6.258, -3.4037, -3.9419, -4.8564, -3.6744, -3.9377, -4.9648, -4.046, -4.7827, -3.3328, -4.6082, -4.2954, -3.5486, -4.5447, -3.8884, -5.026, -4.7594, -4.8286, -4.7731, -4.4984, -4.5713, -4.9088, -4.8626, -2.2804, -3.3548, -3.716, -4.4668, -4.5702, -4.6998, -4.8047, -4.9028, -5.1373, -5.2095, -5.2298, -4.4068, -5.6625, -3.3244, -6.1569, -6.2166, -6.7908, -6.9037, -7.025, -7.1594, -7.1879, -7.3141, -7.3594, -7.534, -7.5619, -7.6174, -4.5326, -7.7427, -7.7523, -5.9065, -4.3522, -1.6682, -2.9189, -4.9955, -2.9789, -4.4121, -5.5927, -3.4583, -5.8442, -3.7109, -4.2777, -5.5971, -3.9285, -4.023, -5.3926, -5.3121, -5.4388, -5.5744, -3.4175, -3.6483, -3.9611, -4.0407, -4.1569, -4.2015, -4.2535, -4.463, -4.485, -4.5334, -4.7135, -4.8865, -5.1415, -5.1518, -5.1737, -5.5981, -5.6057, -5.663, -5.757, -5.7943, -5.8589, -5.9675, -5.9694, -5.9756, -6.0204, -6.0472, -6.0862, -6.2094, -6.2953, -6.3214, -2.5601, -3.0702, -4.0065, -4.0989, -3.45, -3.4264, -3.4992, -4.3869, -4.5248, -4.0806, -4.3359, -4.5036, -4.6372, -4.5832, -4.7894, -4.5158, -4.7631, -4.3219, -4.7618, -3.2662, -3.3875, -3.6196, -3.8458, -3.9671, -4.2017, -4.3796, -4.4153, -4.4746, -4.6313, -4.6476, -4.6605, -4.7087, -4.8106, -4.256, -4.9775, -5.0376, -5.0861, -5.0932, -5.099, -5.2061, -5.2843, -5.3031, -5.3325, -5.3369, -5.3598, -5.3702, -5.4062, -5.4119, -5.4167, -4.4801, -3.7139, -4.2205, -3.9297, -5.1653, -4.6662, -4.5059, -4.8692, -4.7424, -4.6863, -4.9442, -4.8033, -4.9272, -5.0084, -1.1436, -2.8893, -3.0251, -3.581, -3.7513, -3.8408, -4.247, -4.5763, -4.7184, -4.8151, -4.8826, -4.9377, -5.1393, -5.1849, -5.324, -5.3378, -5.3388, -5.552, -5.6441, -5.7189, -5.7358, -5.7824, -5.951, -6.0743, -6.2613, -6.3604, -6.3967, -6.4332, -6.4338, -6.8709, -5.0816, -4.4, -4.217, -5.1517, -5.3496, -5.0926, -2.9622, -3.2206, -3.4005, -3.5593, -3.6598, -3.6814, -3.738, -3.9142, -4.2599, -4.2771, -4.2924, -4.3506, -4.3835, -4.444, -4.522, -4.5682, -4.8647, -4.88, -4.9146, -4.99, -5.1454, -5.1625, -5.1953, -5.1996, -5.2149, -5.2436, -5.2519, -5.3683, -5.4333, -5.4832, -5.0952, -4.566, -5.3118, -2.9216, -3.1611, -3.314, -4.9024, -5.1386, -5.1605, -5.2733, -5.3327, -5.3907, -5.7303, -6.0888, -6.1049, -2.0744, -2.3595, -6.9985, -2.6231, -8.4015, -5.8452, -5.2621, -4.826, -4.6595, -4.3911, -10.812, -10.8173, -10.8198, -10.8218, -10.8219, -10.8219, -10.8212, -10.8225, -4.9893, -10.8205, -10.8208, -10.8208, -9.4259, -10.8208, -1.2332, -2.3765, -3.4716, -3.7443, -3.8446, -4.2903, -4.4424, -4.6853, -4.7502, -5.0849, -5.2645, -5.8835, -4.5822, -5.8998, -6.2049, -6.5175, -6.7613, -6.797, -6.8981, -7.3044, -7.5568, -7.8152, -3.4196, -7.0346, -5.3676, -7.4866, -6.1866, -6.8766, -5.2829, -5.9836, -1.6705, -1.745, -2.802, -3.3429, -3.4084, -3.9301, -4.1597, -4.4542, -4.5937, -4.9731, -5.0085, -5.2881, -5.4735, -5.5175, -5.8765, -6.3665, -6.671, -8.8623, -6.6251, -3.4566, -6.5364, -11.0188, -11.0412, -11.0415, -11.0415, -11.0415, -11.0527, -11.0528, -11.0634, -11.0638, -5.3796, -3.8194, -4.1852, -4.5823, -4.6951, -4.8265, -4.8549, -4.9102, -5.0913, -5.1793, -5.4245, -5.5615, -5.961, -6.0101, -6.2116, -6.6544, -10.2173, -10.2197, -10.2201, -10.2203, -10.2199, -10.2203, -10.2205, -10.2205, -10.2206, -10.2205, -10.2205, -10.2205, -10.2205, -10.2206, -10.2206, -10.2205, -10.2205, -10.2205, -10.2202, -10.2205, -10.2204, -10.2204], \"loglift\": [30.0, 29.0, 28.0, 27.0, 26.0, 25.0, 24.0, 23.0, 22.0, 21.0, 20.0, 19.0, 18.0, 17.0, 16.0, 15.0, 14.0, 13.0, 12.0, 11.0, 10.0, 9.0, 8.0, 7.0, 6.0, 5.0, 4.0, 3.0, 2.0, 1.0, 1.5564, 1.5559, 1.5554, 1.5552, 1.5549, 1.5545, 1.554, 1.5537, 1.5533, 1.553, 1.553, 1.5529, 1.5528, 1.5527, 1.5522, 1.552, 1.552, 1.5519, 1.5518, 1.5517, 1.5516, 1.5515, 1.5515, 1.5512, 1.5509, 1.5505, 1.5505, 1.5504, 1.5503, 1.5501, 1.5256, 1.5315, 1.4556, 1.4384, 1.4601, 1.396, 1.468, 1.3228, 1.1361, 1.3834, 1.2128, 1.3665, 0.9741, 1.3874, 1.4298, 1.1531, 0.9078, 1.028, 0.9583, 1.109, 0.9218, 1.2636, 1.0393, 0.4738, 1.2684, 1.2484, 0.8154, 0.3463, 0.953, 0.933, 0.4166, -0.4694, 0.1137, -0.4339, 0.956, 1.7051, 1.705, 1.7044, 1.7042, 1.704, 1.7037, 1.7032, 1.7031, 1.7026, 1.7024, 1.7015, 1.7015, 1.7013, 1.7012, 1.7011, 1.701, 1.701, 1.7008, 1.7006, 1.7005, 1.7004, 1.7003, 1.6993, 1.6984, 1.6982, 1.6982, 1.6981, 1.6981, 1.6979, 1.6976, 1.6969, 1.6864, 1.6883, 1.6503, 1.6131, 1.6365, 1.563, 1.6182, 1.3589, 1.3985, 1.6329, 1.3476, 1.5199, 1.3572, 1.4612, 1.5955, 1.4682, 0.9042, 1.5186, 0.8586, 0.8025, 1.1496, 0.9521, 1.3367, 1.1433, 1.0137, 1.214, 1.3024, 0.8344, 0.4534, 0.8362, 0.6008, 0.7415, 0.6623, 0.6282, 0.6715, 0.3454, 2.0401, 2.0396, 2.0395, 2.0386, 2.0385, 2.0384, 2.0383, 2.0382, 2.0375, 2.0372, 2.0369, 2.0363, 2.0363, 2.0359, 2.0357, 2.0349, 2.0344, 2.0323, 2.0321, 2.0318, 2.0314, 2.0305, 2.0304, 2.0299, 2.0287, 2.0287, 2.0286, 2.0273, 2.0269, 2.0253, 2.014, 2.0237, 2.0041, 2.0063, 2.0015, 1.9319, 1.9185, 1.8146, 1.8936, 1.8167, 1.7528, 1.9296, 1.8343, 1.5931, 1.5321, 1.5661, 1.4521, 1.7957, 1.406, 1.2039, 1.0209, 1.3301, 1.5017, 0.292, 1.0694, 0.476, 0.5364, 0.186, 0.3818, 1.3764, 2.1652, 2.1644, 2.1644, 2.1638, 2.1638, 2.1634, 2.1633, 2.1618, 2.1618, 2.1614, 2.1608, 2.1607, 2.1605, 2.16, 2.1599, 2.1598, 2.1595, 2.1595, 2.159, 2.1589, 2.1587, 2.1586, 2.1585, 2.1584, 2.1568, 2.1567, 2.1562, 2.1554, 2.1553, 2.1553, 2.1124, 2.1417, 2.0628, 2.0457, 1.7763, 1.684, 1.84, 2.0419, 1.7674, 1.7527, 1.7404, 1.6369, 1.6832, 1.4856, 1.2231, 1.62, 1.1288, 0.1432, 1.0435, 0.1226, 0.8489, 0.6897, 0.2133, 0.5019, 0.7859, 0.2198, 0.5174, 2.4407, 2.4406, 2.4398, 2.4394, 2.439, 2.4377, 2.4367, 2.4362, 2.4361, 2.4355, 2.4346, 2.4346, 2.4346, 2.4345, 2.4343, 2.434, 2.4336, 2.4334, 2.4332, 2.4328, 2.4281, 2.4279, 2.4276, 2.4274, 2.4273, 2.4269, 2.4269, 2.4263, 2.4259, 2.4259, 2.3956, 2.35, 2.3495, 2.3664, 2.2349, 2.2393, 1.9988, 1.9254, 1.9221, 1.5953, 1.965, 1.8732, 1.6911, 1.813, 1.699, 1.799, 1.2411, 1.9714, 1.1787, 1.2028, 0.9382, 0.1423, 1.1658, 1.3155, 0.2245, 0.8563, 0.6167, -0.0606, 2.4607, 2.4601, 2.4598, 2.4595, 2.4593, 2.4591, 2.4584, 2.458, 2.4578, 2.4575, 2.4568, 2.4559, 2.4559, 2.4556, 2.4555, 2.4554, 2.4553, 2.4549, 2.4541, 2.4539, 2.4536, 2.4536, 2.4534, 2.453, 2.4529, 2.4525, 2.4524, 2.4523, 2.4521, 2.4521, 2.3809, 2.3153, 2.2826, 2.3258, 2.4213, 2.1066, 1.5735, 1.8286, 1.7149, 0.5689, 1.4627, 1.8996, 1.6848, 1.3747, 1.3774, 1.6212, 0.6261, 0.0691, 1.4568, 0.3462, 1.1712, 2.8508, 2.8471, 2.8471, 2.847, 2.8467, 2.8466, 2.846, 2.8457, 2.8452, 2.845, 2.8442, 2.8434, 2.8429, 2.8426, 2.8413, 2.8399, 2.8394, 2.8393, 2.839, 2.8388, 2.8381, 2.8373, 2.8363, 2.8353, 2.8347, 2.8345, 2.8333, 2.8321, 2.8306, 2.8303, 2.802, 2.8136, 2.8146, 2.7034, 2.5853, 2.3897, 2.3038, 2.5226, 2.5966, 2.3149, 2.0912, 1.5999, 2.1749, 1.4272, 1.7505, 1.8211, 1.7269, 0.4925, 1.5524, 1.4846, 2.0019, 0.3525, 3.4879, 3.4876, 3.4876, 3.4868, 3.4826, 3.4818, 3.4808, 3.4798, 3.478, 3.4779, 3.4761, 3.4724, 3.4714, 3.4714, 3.47, 3.469, 3.4666, 3.4659, 3.4643, 3.4643, 3.464, 3.4616, 3.4585, 3.4582, 3.4564, 3.4554, 3.4546, 3.4546, 3.4511, 3.4493, 3.4336, 3.4291, 3.3947, 3.3165, 3.2558, 3.3518, 3.2275, 3.2186, 2.8222, 3.044, 2.8552, 2.3299, 2.8423, 2.1942, 2.8192, 2.3487, 2.4292, 2.3183, 1.6406, 1.4179, 2.1581, 1.4426, 3.7277, 3.7258, 3.7229, 3.7202, 3.7192, 3.718, 3.7168, 3.7156, 3.7122, 3.7109, 3.7106, 3.703, 3.7009, 3.6837, 3.6836, 3.6809, 3.6455, 3.636, 3.6246, 3.6105, 3.6073, 3.5921, 3.5862, 3.5612, 3.5568, 3.5478, 3.5324, 3.526, 3.5242, 3.5041, 3.4314, 3.2971, 3.2998, 3.3328, 3.1311, 3.2493, 3.3596, 2.9691, 3.125, 2.0552, 2.03, 2.8348, 1.4584, 1.1194, 2.4219, 1.4291, 1.4354, 1.9707, 3.7462, 3.7454, 3.744, 3.7436, 3.7429, 3.7426, 3.7423, 3.7406, 3.7405, 3.74, 3.7382, 3.7361, 3.7324, 3.7322, 3.7318, 3.7227, 3.7225, 3.721, 3.7183, 3.7171, 3.715, 3.7111, 3.7111, 3.7108, 3.7091, 3.708, 3.7064, 3.701, 3.6967, 3.6954, 3.5342, 3.4441, 3.4971, 3.1451, 2.6273, 2.1639, 2.1322, 2.6423, 2.695, 2.2915, 2.242, 2.4072, 2.4306, 2.1687, 2.3901, 1.6232, 2.0719, 0.0138, 1.0846, 3.783, 3.7827, 3.7819, 3.781, 3.7804, 3.7789, 3.7776, 3.7773, 3.7768, 3.7753, 3.7752, 3.775, 3.7745, 3.7733, 3.7715, 3.7711, 3.7702, 3.7694, 3.7693, 3.7692, 3.7674, 3.7659, 3.7655, 3.7649, 3.7648, 3.7644, 3.7641, 3.7634, 3.7632, 3.7631, 3.7097, 3.3303, 3.4483, 2.9016, 3.6141, 3.1798, 2.571, 2.7811, 2.3254, 1.7861, 2.4999, 1.3067, 2.024, 1.5766, 4.8552, 4.8507, 4.8499, 4.8452, 4.8431, 4.8419, 4.8348, 4.8266, 4.8222, 4.8188, 4.8163, 4.814, 4.8049, 4.8025, 4.7948, 4.7939, 4.7939, 4.7796, 4.7725, 4.7663, 4.7649, 4.7607, 4.7441, 4.7303, 4.7063, 4.6919, 4.6863, 4.6805, 4.6804, 4.5957, 4.414, 4.2949, 3.747, 2.9495, 2.9456, 0.6117, 4.9032, 4.9014, 4.8998, 4.8982, 4.897, 4.8967, 4.896, 4.8935, 4.8869, 4.8866, 4.8862, 4.8848, 4.884, 4.8825, 4.8803, 4.879, 4.8687, 4.8681, 4.8666, 4.8634, 4.8558, 4.8549, 4.8532, 4.8529, 4.8521, 4.8505, 4.85, 4.8429, 4.8386, 4.8351, 4.0483, 2.6275, 3.6651, 5.061, 5.0591, 5.0576, 5.0183, 5.0054, 5.0041, 4.9967, 4.9925, 4.9882, 4.9577, 4.9136, 4.9113, 4.8768, 4.7455, 4.7211, 4.6549, 4.0798, 3.443, 3.3742, 3.0347, 2.5114, 2.1352, 2.0768, 2.0759, 2.0755, 2.0736, 2.0736, 2.0735, 2.0733, 2.073, 1.4832, 2.0715, 2.0716, 2.0716, -1.2039, 2.0714, 5.2947, 5.2912, 5.2809, 5.2761, 5.274, 5.2616, 5.2561, 5.2453, 5.2419, 5.2211, 5.2069, 5.1361, 5.1349, 5.1337, 5.0815, 5.013, 4.9471, 4.9364, 4.9048, 4.7543, 4.6408, 4.5082, 4.4074, 3.5173, 3.1885, 2.9484, 2.9015, 2.7841, 2.7621, 2.4483, 5.2951, 5.2949, 5.2897, 5.284, 5.2831, 5.2732, 5.267, 5.2567, 5.2507, 5.2298, 5.2274, 5.2058, 5.1881, 5.1834, 5.1379, 5.0486, 4.9731, 3.809, 3.0919, 2.847, 2.1194, 1.8701, 1.8509, 1.8508, 1.8508, 1.8507, 1.8408, 1.8407, 1.8312, 1.8308, 1.2146, 6.8695, 6.8226, 6.7523, 6.7279, 6.6966, 6.6895, 6.675, 6.6236, 6.5961, 6.5105, 6.4565, 6.273, 6.2477, 6.1376, 5.8614, 2.6781, 2.6759, 2.6756, 2.6754, 2.6754, 2.6752, 2.6752, 2.6752, 2.6751, 2.675, 2.675, 2.675, 2.675, 2.675, 2.675, 2.6749, 2.6749, 2.6748, 2.6734, 2.6748, 2.6738, 2.6738]}, \"token.table\": {\"Topic\": [2, 5, 1, 2, 3, 4, 5, 4, 4, 12, 4, 1, 4, 5, 10, 4, 5, 10, 5, 10, 1, 4, 5, 10, 17, 2, 4, 5, 6, 10, 5, 5, 4, 5, 6, 10, 8, 13, 4, 5, 8, 10, 4, 12, 4, 5, 10, 4, 5, 8, 16, 9, 4, 5, 10, 5, 4, 5, 4, 5, 10, 6, 9, 4, 10, 1, 2, 3, 4, 6, 16, 4, 9, 5, 15, 5, 12, 8, 6, 9, 10, 3, 5, 2, 2, 6, 10, 10, 14, 11, 8, 8, 1, 13, 13, 7, 7, 14, 8, 1, 2, 3, 4, 5, 6, 7, 4, 9, 12, 9, 8, 12, 9, 3, 8, 8, 10, 4, 5, 10, 3, 9, 9, 4, 10, 2, 4, 4, 9, 9, 2, 10, 2, 4, 4, 1, 9, 16, 16, 3, 4, 9, 8, 4, 15, 3, 3, 1, 2, 3, 4, 5, 6, 7, 10, 1, 2, 3, 4, 5, 6, 7, 15, 16, 14, 1, 2, 3, 4, 6, 7, 10, 1, 2, 4, 6, 11, 14, 4, 16, 2, 15, 16, 1, 7, 6, 10, 14, 15, 10, 1, 2, 3, 5, 8, 7, 11, 15, 9, 11, 1, 6, 9, 11, 3, 13, 7, 11, 7, 8, 5, 3, 3, 4, 5, 8, 15, 8, 11, 3, 15, 1, 10, 1, 2, 3, 5, 6, 7, 13, 1, 10, 2, 3, 5, 7, 1, 2, 3, 4, 5, 6, 7, 13, 1, 10, 12, 7, 16, 3, 17, 10, 1, 2, 1, 2, 11, 15, 8, 1, 4, 9, 1, 3, 4, 5, 7, 11, 3, 4, 5, 15, 1, 10, 12, 2, 10, 9, 12, 14, 1, 2, 4, 5, 6, 7, 4, 5, 4, 2, 5, 7, 1, 2, 7, 11, 11, 1, 6, 10, 6, 12, 12, 17, 6, 15, 5, 8, 5, 11, 9, 10, 9, 1, 3, 2, 4, 9, 5, 5, 6, 8, 1, 1, 5, 7, 8, 9, 6, 1, 2, 4, 5, 6, 7, 8, 5, 16, 3, 5, 8, 10, 7, 5, 11, 1, 2, 3, 4, 11, 14, 3, 2, 5, 1, 2, 13, 16, 13, 2, 1, 4, 6, 7, 5, 9, 5, 11, 2, 13, 13, 8, 6, 13, 3, 4, 8, 9, 3, 10, 14, 1, 1, 2, 3, 4, 5, 9, 11, 3, 9, 11, 11, 8, 13, 11, 1, 10, 2, 8, 5, 8, 1, 2, 4, 7, 10, 4, 5, 8, 14, 14, 4, 8, 3, 3, 1, 5, 6, 8, 15, 1, 4, 5, 7, 8, 11, 1, 2, 4, 6, 1, 2, 9, 3, 3, 4, 6, 3, 8, 17, 12, 15, 5, 9, 1, 2, 4, 6, 8, 10, 8, 3, 3, 6, 7, 5, 1, 2, 3, 5, 5, 2, 15, 1, 2, 3, 4, 5, 9, 7, 11, 7, 7, 9, 15, 13, 3, 3, 4, 11, 11, 4, 11, 1, 1, 4, 2, 7, 2, 2, 3, 15, 2, 1, 2, 3, 2, 3, 5, 6, 15, 2, 9, 17, 7, 3, 17, 9, 17, 12, 6, 16, 11, 8, 2, 3, 4, 6, 1, 12, 5, 10, 5, 9, 3, 4, 5, 12, 15, 1, 2, 3, 8, 10, 2, 4, 9, 8, 8, 9, 1, 6, 9, 4, 6, 11, 11, 12, 2, 3, 5, 7, 6, 6, 6, 5, 1, 17, 2, 5, 13, 11, 3, 5, 7, 1, 2, 4, 5, 7, 6, 8, 11, 2, 3, 4, 7, 9, 12, 12, 1, 2, 3, 5, 6, 7, 8, 10, 1, 3, 4, 5, 17, 12, 10, 1, 6, 11, 3, 6, 7, 2, 4, 5, 6, 7, 8, 10, 2, 6, 12, 5, 11, 2, 2, 4, 10, 8, 12, 2, 3, 4, 5, 7, 4, 5, 4, 2, 4, 1, 2, 3, 7, 8, 11, 16, 1, 2, 7, 1, 5, 8, 13, 13, 13, 4, 16, 14, 11, 4, 1, 3, 5, 6, 13, 2, 5, 7, 9, 1, 5, 11, 6, 4, 13, 17, 8, 1, 2, 2, 2, 11, 14, 11, 13, 12, 1, 2, 3, 4, 5, 8, 9, 16, 3, 4, 1, 6, 3, 5, 8, 6, 13, 1, 3, 4, 5, 13, 14, 3, 4, 5, 7, 16, 9, 10, 7, 11, 16, 11, 17, 2, 13, 1, 2, 3, 4, 5, 6, 7, 1, 4, 5, 6, 1, 2, 3, 4, 8, 4, 9, 15, 3, 9, 3, 4, 4, 9, 5, 9, 2, 3, 12, 9, 14, 3, 7, 10, 1, 2, 6, 10, 8, 5, 11, 13, 12, 6, 1, 2, 4, 1, 2, 3, 4, 5, 6, 7, 6, 6, 4, 5, 8, 16, 4, 8, 15, 15, 8, 1, 16, 14, 15, 2, 13, 4, 5, 2, 4, 3, 15, 6, 1, 11, 11, 4, 12, 2, 4, 9, 14, 1, 4, 1, 2, 3, 5, 6, 7, 8, 11, 13, 2, 1, 2, 12, 2, 3, 4, 5, 7, 15, 4, 4, 1, 5, 5, 16, 11, 2, 3, 3, 7, 2, 4, 1, 7, 8, 11, 5, 7, 2, 3, 9, 11, 1, 2, 11, 14, 4, 5, 8, 8, 2, 3, 8, 8, 3, 5, 9, 7, 12, 1, 2, 7, 9, 2, 3, 15, 17, 2, 2, 2, 3, 4, 5, 6, 8, 10, 11, 7, 15, 16, 1, 1, 7, 3, 5, 7, 1, 3, 7, 1, 1, 11, 6, 2, 12, 2, 5, 7, 13, 1, 3, 6, 10, 4, 2, 7, 9, 4, 2, 3, 4, 5, 15, 15, 7, 3, 12, 6, 2, 4, 1, 7, 2, 4, 5, 9, 7, 14, 5, 7, 13, 1, 4, 5, 7, 8, 12, 10, 17, 13, 8, 10, 1, 1, 13, 9, 10, 12, 6, 11, 4, 7, 1, 2, 3, 4, 5, 7, 2, 3, 5, 9, 2, 4, 3, 4, 5, 6, 7, 5, 11, 10, 15, 1, 1, 2, 3, 5, 7, 6, 4, 10, 6, 7, 1, 2, 4, 6, 10, 1, 8, 11, 1, 2, 3, 6, 1, 2, 3, 5, 6, 8, 11, 1, 11, 11, 3, 4, 7, 7, 10, 8, 2, 3, 4, 5, 8, 2, 3, 4, 5, 7, 4, 7, 2, 3, 5, 9, 7, 13, 6, 10, 15, 10, 2, 7, 4, 7, 12, 6, 6, 1, 6, 2, 3, 4, 5, 6, 8, 10, 11, 1, 2, 3, 4, 5, 6, 7, 5, 6, 6, 10, 2, 7, 12, 2, 3, 5, 7, 9, 8, 9, 1, 6, 1, 3, 6, 6, 12, 11, 1, 8, 8, 11, 1, 6, 11, 4, 7, 11, 1, 11, 13, 1, 2, 3, 7, 3, 3, 2, 3, 6, 10, 2, 6, 10, 2, 3, 5, 1, 2, 3, 4, 5, 6, 7, 2, 9, 7, 5, 12, 6, 10, 10, 1, 2, 3, 7, 9, 7, 2, 9, 3, 8, 1, 7, 9, 1, 5, 6, 10, 11, 14, 2, 7, 3, 16, 3, 6, 10, 6, 1, 2, 3, 4, 9, 11, 7, 1, 3, 4, 5, 8, 6, 12, 2, 8, 8, 10, 3, 4, 7, 4, 7, 14, 1, 2, 3, 5, 6, 7, 1, 2, 3, 4, 6, 9, 2, 14, 17, 4, 2, 7, 1, 2, 3, 4, 5, 6, 7, 7, 1, 2, 3, 4, 5, 6, 7, 2, 1, 2, 3, 4, 9, 1, 6, 1, 12, 2, 12, 7, 14, 11, 6, 11, 13, 3, 5, 5, 17, 1, 5, 6, 8, 11, 3, 4, 1, 2, 6, 2, 14, 3, 4, 5], \"Freq\": [0.6984929570075922, 0.3011391818225934, 0.13482576576553154, 0.4999788813805128, 0.07232840559296744, 0.009128827890374532, 0.28299366460161046, 0.9997526731048126, 0.9970267425453007, 0.8095259808496074, 0.9930849160887698, 0.020572176129289545, 0.6177886831553315, 0.15647321843792958, 0.2050983620162503, 0.39753379338709893, 0.2512413574206465, 0.34982973818064705, 0.9130694426407348, 0.08571672318668122, 0.016238996983568687, 0.6774909541544857, 0.10717738009155334, 0.19876532307888073, 0.605284875307967, 0.9916578546982675, 0.5899233238479266, 0.1294289047703303, 0.04768433333643748, 0.23297202858659455, 0.97978602967285, 0.9817353879060622, 0.5796033196216275, 0.2051516904502668, 0.007967055939816186, 0.2051516904502668, 0.7003895029234909, 0.2949008433362067, 0.6710994692598922, 0.09874032091355021, 0.006694259044986456, 0.22091054848455305, 0.9913720141351728, 0.8811111414231153, 0.662430373690012, 0.2649721494760048, 0.07161409445297427, 0.991811661581313, 0.9838045130494406, 0.9827321823091285, 0.9420584465743962, 0.9239393015420391, 0.3982175545088496, 0.4133671353869037, 0.18612342221609274, 0.9907139633655782, 0.9871839814671061, 0.005545977423972506, 0.5125364065260298, 0.15244672604363965, 0.3311773703706654, 0.4389362709345749, 0.5486703386682186, 0.8842423391632299, 0.11053029239540374, 0.08431137225152237, 0.37893792583376534, 0.010191484557876329, 0.3548489623333304, 0.17140224029155646, 0.8483368717981308, 0.8233160693228997, 0.1717076294309791, 0.9824211093567853, 0.5235348620324578, 0.9918393986756973, 0.9920090405870157, 0.9902430754348869, 0.9977627033962525, 0.9773994284740865, 0.9971752475629247, 0.9772411929477287, 0.9861707784347016, 0.9938918250352947, 0.9959580322503452, 0.9890473028011026, 0.9667325034625891, 0.9942174915528522, 0.947234472977212, 0.9900037994058712, 0.9907738044494948, 0.9784669291248345, 0.9958215736723639, 0.9830408450301694, 0.9858810916444137, 0.9951924248836767, 0.9791165481959025, 0.9227571102798738, 0.9565787580157714, 0.6564364084456105, 0.05109401251800526, 0.04768774501680491, 0.02579031108051694, 0.09342905146149533, 0.12067919147109814, 0.004866096430286215, 0.9914940688596846, 0.7846796243778097, 0.9367296535393006, 0.8835951599630302, 0.9812917275568781, 0.9600436868164104, 0.885833907224621, 0.8933006539885998, 0.10049632357371747, 0.9785365949233636, 0.9910786410738611, 0.9972931919442667, 0.9932576859280606, 0.9664705714248564, 0.9946237810243237, 0.9935597252844095, 0.8795231667874697, 0.992118727526633, 0.9742373459935748, 0.10918568792014408, 0.8859638676948833, 0.9922565827873703, 0.9897283525464243, 0.7293255204137045, 0.21963297839498244, 0.7771628466283994, 0.9298592972352193, 0.06586503355416137, 0.9983379352481894, 0.993627620165437, 0.888208264645083, 0.796148337639216, 0.9087982051619303, 0.8138912943260572, 0.08473928730271298, 0.10050473610321772, 0.9879942834579127, 0.7920764621149445, 0.07920764621149445, 0.9884659992290801, 0.9856033256578322, 0.13174036023642346, 0.44820168442108443, 0.07075932978960396, 0.13227372201875717, 0.03680196298102518, 0.15058580987888082, 0.005689192344892781, 0.023823492944238522, 0.31958571216034537, 0.38085966449184017, 0.12435007973156297, 0.11053340420583374, 0.021626100822880516, 0.02883480109717402, 0.013816675525729218, 0.9769128068183881, 0.9241858281208095, 0.8498836925218536, 0.9034895206964788, 0.002161458183484399, 0.009366318795099061, 0.06700520368801637, 0.01585069334555226, 0.002161458183484399, 0.9909273858356799, 0.04845520854582419, 0.5602633488110922, 0.07268281281873629, 0.08176816442107833, 0.15747942777392862, 0.07873971388696431, 0.9909138171148273, 0.9871164993746041, 0.5836672018092168, 0.40856704126645177, 0.9826058529733622, 0.8803754360393714, 0.116993413427159, 0.4851023315302828, 0.31466097180342667, 0.1835522335519989, 0.986695358607607, 0.9981848980043263, 0.35417977830682656, 0.020834104606283915, 0.05044046378363474, 0.05921271835470165, 0.5131768924074143, 0.5733895577879459, 0.33387240073728497, 0.07983905235022032, 0.7432565015270395, 0.2514777636745622, 0.028302818544218625, 0.337537317453274, 0.550332582804251, 0.08386020309398111, 0.9881629210029422, 0.9163674546492553, 0.7746303847166764, 0.22209682359009605, 0.055489469957174915, 0.9433209892719735, 0.9989669132326986, 0.9964661362741329, 0.1343159078091603, 0.3896928641042085, 0.4718729919084974, 0.0035346291528726395, 0.949967260144999, 0.13615811449801354, 0.8472060457654177, 0.9982010059413414, 0.46163758878866495, 0.996703057636338, 0.99550233980633, 0.4764394114877476, 0.15471095280782948, 0.25404241682649276, 0.03252446166982779, 0.07559739739473487, 0.006153276532129582, 0.9575624137839686, 0.9934634983686689, 0.9953106511262905, 0.10357320786432392, 0.43312432379626364, 0.2226547035372097, 0.24093232845444332, 0.22502210495342265, 0.3520680780850201, 0.004306643157003304, 0.1894922989081454, 0.0662146385389258, 0.15934579680912225, 0.0032299823677524784, 0.9733921162973019, 0.9912495916966927, 0.9708199131536293, 0.6667055185387565, 0.9492018396114095, 0.04010711998358068, 0.9969384061491761, 0.7054901698571039, 0.9634087228084403, 0.9689292525705265, 0.030053636866331467, 0.38642232142065247, 0.24457108950674206, 0.3668566342601131, 0.5660536637272012, 0.9644913487145291, 0.9070340062214922, 0.08954794328938298, 0.9084933589852182, 0.029869382645616362, 0.6393196708571348, 0.13728427792889059, 0.16140954852727302, 0.01723233614170175, 0.014934691322808181, 0.7977041937347051, 0.007243624914730581, 0.19467241958338435, 0.9953630326609596, 0.7457270806601715, 0.09321588508252143, 0.1491454161320343, 0.9967008813731154, 0.9684610144661353, 0.9916175959509761, 0.9619977315527045, 0.9403616254430792, 0.5892307787317038, 0.1490824861851299, 0.007099166008815709, 0.05679332807052567, 0.06744207708374923, 0.1295597796608867, 0.18052400210819805, 0.8160674067904843, 0.9962716248138229, 0.0022491310015099364, 0.01349478600905962, 0.9839948131605972, 0.2621289777347306, 0.1258219093126707, 0.5850718783039187, 0.025164381862534137, 0.9772670132659678, 0.9964848690637116, 0.8711198063542999, 0.12406040585850711, 0.34058711085676435, 0.6502117570901865, 0.9332714377705625, 0.7790735853639824, 0.996246524272464, 0.7107001102293617, 0.9983124603732721, 0.9909977997972663, 0.9907256381078657, 0.9975512696932298, 0.9955055119989411, 0.9908695048984901, 0.9960974395585187, 0.9876401412408745, 0.9934222870643903, 0.5025395226424832, 0.028798826512463224, 0.4679809308275274, 0.9950742005874441, 0.981077046452068, 0.9984626925491211, 0.9758059660211706, 0.9968629401037149, 0.4212017372508482, 0.2794413462632746, 0.002039717855936311, 0.27434205162343384, 0.023456755343267577, 0.9934266123897931, 0.05644317760829621, 0.1726497197430237, 0.07470420565803909, 0.22577271043318484, 0.1029257944621872, 0.35692009369952016, 0.009960560754405212, 0.91215052414618, 0.08650799950061401, 0.9945326749686589, 0.9944670829482729, 0.9459196887807076, 0.05206897369435088, 0.9920335040288761, 0.06711695007963743, 0.9228580635950147, 0.5919362462547535, 0.02861778289781251, 0.1114587333914803, 0.10242153879217109, 0.1355579189896382, 0.02711158379792764, 0.9967701320999226, 0.982800174968158, 0.014090325089149218, 0.913814291196351, 0.08249712351078169, 0.947536260278407, 0.8443308713708096, 0.986780025148004, 0.9927706743605288, 0.2842444775422361, 0.1958377305901233, 0.3681749335094318, 0.15219389348718154, 0.17032655905433627, 0.822010785001362, 0.9925399672771369, 0.9972281539790175, 0.9880443003940871, 0.9774665740342828, 0.9947126076418252, 0.9834041794604963, 0.9925716916514414, 0.9320517771333912, 0.10627887172240384, 0.5174102965432819, 0.3104461779259691, 0.06432668551619179, 0.986445512605229, 0.9782180860081204, 0.8382193948518794, 0.99407283931832, 0.6679635642820257, 0.0010105348930136548, 0.06063209358081928, 0.0646742331528739, 0.15966451309615745, 0.03738979104150522, 0.009094814037122893, 0.966987451132096, 0.03277923563159647, 0.9906432964654397, 0.9795115954686786, 0.9943731284953169, 0.9498960509006485, 0.973471376835117, 0.9956187904031509, 0.9828984562638443, 0.990233119010977, 0.99485027977517, 0.22929186430446666, 0.7643062143482222, 0.5295315204664405, 0.3552366267006386, 0.07533084391572793, 0.03914249732876059, 0.9690294144218702, 0.39845056821768926, 0.07517935249390363, 0.5224964998326302, 0.6130685077949456, 0.9955850819010043, 0.9904342283515967, 0.9640524007970565, 0.9978245908670144, 0.9957185366029061, 0.11887306684811265, 0.2377461336962253, 0.12481672019051827, 0.5111541874468843, 0.8647547846606471, 0.6383166153184985, 0.028562805743823864, 0.22601872371199752, 0.012418611192966897, 0.05588375036835104, 0.03849769469819738, 0.7912104377924658, 0.05370206591351578, 0.009547033940180583, 0.14559226758775387, 0.004510058998158435, 0.9922129795948558, 0.9616850580142363, 0.9933225581105903, 0.20245152541037015, 0.43066960860024195, 0.3662532141514878, 0.9639321838050864, 0.03527743897209515, 0.9189560945100802, 0.9286051371599858, 0.7424009814348345, 0.9954344311302564, 0.9196949076237158, 0.49727992651665526, 0.016342532796322005, 0.023346475423317147, 0.11439772957425402, 0.08404731152394174, 0.2614805247411521, 0.9681114920929975, 0.996151816541246, 0.9925979838116962, 0.5687424372344242, 0.4272642190169057, 0.9950922563692528, 0.5485853110745924, 0.07654678759180358, 0.26791375657131256, 0.10716550262852502, 0.9992198467666678, 0.8713101333324617, 0.12101529629617523, 0.23606839363505733, 0.3307528128607337, 0.22235843248020828, 0.14266928326764808, 0.06340857034117693, 0.004284362860890333, 0.7203350896213593, 0.274602879468916, 0.97240269946249, 0.9864022292733304, 0.9987760253658825, 0.8527795296235305, 0.9240312570527734, 0.9987352021032901, 0.783432681508706, 0.12918304854664833, 0.08542749984536423, 0.9823347621184982, 0.9790950342442735, 0.019073279887875456, 0.9945237155233089, 0.8428543687577124, 0.15429301286001837, 0.9977597514592469, 0.9822065566191862, 0.9926348209220015, 0.7052128665602139, 0.29390181764270995, 0.40174986924204614, 0.9925486238200201, 0.8886884598826317, 0.054073636447884994, 0.05642466411953217, 0.22997767014770243, 0.5835992489769654, 0.18546586302234067, 0.8857557546355196, 0.08239588415214136, 0.01548826748263967, 0.9757608514062992, 0.7507020013755779, 0.9931665197712309, 0.984119518776304, 0.5697385489056738, 0.9517950487610927, 0.7714683730930801, 0.98822211570394, 0.9965215724129617, 0.9836694801396453, 0.9708279625716595, 0.987756100174337, 0.7060853268494939, 0.13727408629545484, 0.1420202648109892, 0.01423853554660303, 0.41705559441495615, 0.5699759790337734, 0.8138972546329017, 0.18347972792302408, 0.9910880661892301, 0.9754905677095993, 0.457165329091908, 0.015175612583963752, 0.5254555857197449, 0.7811691374171935, 0.9051624979498961, 0.7336503282142286, 0.062481209270991996, 0.10279166686518039, 0.05441911775215432, 0.044341503353607224, 0.9153231951442207, 0.008227624226015466, 0.0740486180341392, 0.97408048183609, 0.9737588709456217, 0.7350993246222928, 0.564204982976023, 0.4307371375408347, 0.004044480164702673, 0.053909647241083915, 0.5304709288522657, 0.41402609081152447, 0.9754319782288156, 0.9358816625359573, 0.0808878477420517, 0.20558994634438138, 0.24434870672078116, 0.46847545150604936, 0.9978984754557965, 0.9950202583698856, 0.9955689573328059, 0.9961653591628163, 0.9949641785547451, 0.8510278316966827, 0.9946341780492874, 0.9923244340937157, 0.9589521711103921, 0.9708920227930663, 0.8838898693372069, 0.0859023402424907, 0.027127054813418115, 0.18669508063788792, 0.04472902973616065, 0.06514880418092964, 0.5950905695332678, 0.10696072328212329, 0.15683045283777794, 0.8423313031448396, 0.9900097141175218, 0.47004020138844677, 0.36049693411571554, 0.0007966783074380454, 0.09440637943140838, 0.0736927434380192, 0.9888753740285331, 0.9595698851105721, 0.23562182115251087, 0.04311061711938685, 0.20143064205782477, 0.28988173580277365, 0.12412884584375179, 0.0609494931687883, 0.0014865730041167878, 0.042367330617328454, 0.1640770377770997, 0.3788138061121058, 0.2517864220266092, 0.2049072683760093, 0.8428287644973101, 0.8825536473421688, 0.9385002883087745, 0.05394334776578378, 0.8361218903696486, 0.10957242514924831, 0.011897451485912265, 0.9213915206312054, 0.06609695269951259, 0.2552767789401632, 0.11534728529888855, 0.020800330135865148, 0.472734775815117, 0.05294629489129311, 0.05294629489129311, 0.026473147445646553, 0.12157020275435944, 0.8635676471516567, 0.01467226584966407, 0.9960274991850808, 0.9828748932505226, 0.9902445735822362, 0.8290514144257485, 0.15362614069231123, 0.01589235938196323, 0.9850382062855121, 0.9162541168311374, 0.16697820013731637, 0.01517983637611967, 0.6180361953134438, 0.14746126765373394, 0.052045153289553156, 0.94907553729431, 0.049302625313990135, 0.995163369380924, 0.9331184602768696, 0.06630052217756706, 0.7086670686944818, 0.05409672280110549, 0.15533487547174576, 0.01391058586314141, 0.052551102149645326, 0.01468339618887149, 0.9963647548116158, 0.8254246690686128, 0.16508493381372258, 0.005758776760943811, 0.1572863470625118, 0.3116050271993158, 0.5312123797016908, 0.9929035051424815, 0.9185985722675689, 0.9564584575506374, 0.9893497370559504, 0.9654690800541776, 0.9670825778234798, 0.9954174273915332, 0.9986888182394172, 0.5465143764184044, 0.2598979478967523, 0.007286858352245392, 0.1846004115902166, 0.9425636359143332, 0.07281082096060357, 0.1647823842792607, 0.5786544192132178, 0.18266574381344405, 0.9970961707847737, 0.9887486400550766, 0.9868182078393596, 0.9972121297760489, 0.9942964705875939, 0.9391305622658171, 0.6345682903122332, 0.9973052294160017, 0.9932968757928011, 0.9940399330121132, 0.9988947610317265, 0.2899015501482943, 0.047193275605536274, 0.6607058584775078, 0.9927438996569828, 0.9803745827060131, 0.9170899359326892, 0.29806379317621995, 0.03108151853976625, 0.1904739213077983, 0.018330126318323686, 0.4291640444529263, 0.020322531352924087, 0.012751392221442564, 0.9301349011837731, 0.49257696616041585, 0.5058898571377244, 0.9947242474314146, 0.9976646674958765, 0.05403887468806901, 0.6257132858618517, 0.31854494552966994, 0.9922674028036442, 0.9896368753800469, 0.031571712392314634, 0.29015907103412975, 0.20145759336048386, 0.4765825156363685, 0.9741325346618865, 0.9861134444413847, 0.06730710283560018, 0.10918707793330697, 0.5668753772153882, 0.254271277378934, 0.9600438823051792, 0.993838510128569, 0.9709638986874063, 0.9890108364920654, 0.9956568286149245, 0.9708096624234637, 0.9828320206732973, 0.47874636026127054, 0.566117881092898, 0.41370152849096387, 0.27102261681019596, 0.10698261189876157, 0.49132755094246056, 0.0182266672123816, 0.02377391375528035, 0.04200058096766195, 0.04596289992687534, 0.22107673028173674, 0.6541696691123522, 0.12503519991344128, 0.9902601566087746, 0.2553104469911712, 0.12973429879681667, 0.08399464216973386, 0.21705546144852017, 0.31352455542564023, 0.5236446047240527, 0.40609173427579603, 0.05343312293102579, 0.8980473189447384, 0.1012835322118126, 0.9842109280964304, 0.012658661454616468, 0.726293287294677, 0.2709189246257922, 0.04117893249356346, 0.9574101804753505, 0.9966232958171576, 0.99172537748174, 0.9484520140040755, 0.9766511474951939, 0.9944778696978066, 0.13498245479793616, 0.8633252838118, 0.9751052476156165, 0.8516777666708725, 0.033999112441950995, 0.09009764797117015, 0.023799378709365698, 0.9830114022749885, 0.9536722571120957, 0.03932669101493178, 0.969647400388634, 0.982582181849564, 0.9856220842990988, 0.5581355279344803, 0.42819093096796734, 0.013568512133049545, 0.3384456289131924, 0.28544648361955205, 0.15640508638286252, 0.03744504830528937, 0.0818030286054014, 0.09130831009828254, 0.008929203826645927, 0.9971585444243523, 0.9931049375587607, 0.29940830088970893, 0.6209319876405895, 0.06294379052795018, 0.01701183527782437, 0.12379806147446358, 0.876109358126973, 0.9818324940296427, 0.622150989093013, 0.9548818601154875, 0.9971885205661148, 0.9962113693668, 0.8986985765717059, 0.9981897970431108, 0.9936293585395345, 0.9673063871294865, 0.7221413657474721, 0.27656477837137233, 0.9799703021430438, 0.01757794263933711, 0.9993589238931757, 0.9664982474924338, 0.9952825251335452, 0.3628596158127522, 0.6350043276723164, 0.9937125284499756, 0.9924220859488214, 0.9697686569946777, 0.9967711823305418, 0.1706373766826798, 0.7963077578525058, 0.947398031597328, 0.9955995610407076, 0.9954475520085377, 0.5356936137626755, 0.2636144645604137, 0.07376368045039099, 0.020557091273059786, 0.10520393769154125, 0.9921204082562374, 0.7929878901604857, 0.10222109521600009, 0.10222109521600009, 0.9991376459751052, 0.046064239725932855, 0.7984468219161694, 0.14587009246545404, 0.3165128493810599, 0.22688089203421105, 0.11624144468419455, 0.005601997334178051, 0.333318841383594, 0.5803936466485066, 0.9983205531671583, 0.9960097473115531, 0.9945232768689002, 0.9963082730928503, 0.9924321669658875, 0.9886527416403377, 0.9804691799494749, 0.9967522436545242, 0.9948333586005612, 0.9611663899497651, 0.03570896804766929, 0.009530292565789973, 0.9896842279858818, 0.704128824640487, 0.019104270435982205, 0.26473060461289627, 0.008187544472563802, 0.9836981454669629, 0.013830553890572413, 0.24808740671210458, 0.7498461810590943, 0.0015954174065087113, 0.9888036540420745, 0.2324926224813778, 0.031188034723111657, 0.008505827651757725, 0.7229953503994065, 0.14864144580590774, 0.502077772499955, 0.3468300402137847, 0.9515475046053121, 0.3479325872860248, 0.004900458975859504, 0.6419601258375951, 0.999124530021056, 0.2933357370131688, 0.05375874064783173, 0.6509482291487451, 0.9948872274570748, 0.7807579089409141, 0.9954607734462481, 0.7829295310071094, 0.21592990817644478, 0.9718375703161685, 0.4838547042216196, 0.5143241440340641, 0.9481042016669946, 0.5372139044606112, 0.9903156076662377, 0.9984072251619797, 0.10467334928001884, 0.36581716913326173, 0.008632853548867532, 0.23308704581942338, 0.004316426774433766, 0.15754957726683247, 0.11978084299053703, 0.00647464016165065, 0.9933652781413875, 0.8499758676780013, 0.11590580013790926, 0.9938395092017999, 0.9944381668647743, 0.9951617621064132, 0.011280928078655288, 0.9870812068823377, 0.9974324136743163, 0.13580269679356083, 0.8637942025557639, 0.9912469879104941, 0.9992041679284792, 0.28400721438862797, 0.7125093273258561, 0.986818303966379, 0.9929852811434665, 0.9086044772189618, 0.19292165795644237, 0.5337499203461572, 0.27330568210496003, 0.9651314336307653, 0.9966572888308449, 0.9923593874384943, 0.1929768984820068, 0.8069943027429376, 0.9946670757609573, 0.9939171327475732, 0.3179714353908842, 0.6744848629503604, 0.9908393946657812, 0.19779494808023923, 0.7993242901830844, 0.002326999389179285, 0.7122940642299563, 0.17807351605748908, 0.9566842061923729, 0.9954438868964791, 0.9965921238070884, 0.924723004139234, 0.993670376510257, 0.6909637902938502, 0.3083640055856852, 0.48820238723226134, 0.5094285779814901, 0.7878521648970223, 0.15014741472341536, 0.013496396829071045, 0.04723738890174865, 0.990061504195805, 0.9181345241660538, 0.029827456655782816, 0.9644210985369778, 0.9687542051402118, 0.8402842559412127, 0.07962793447821966, 0.012572831759718893, 0.02095471959953149, 0.03771849527915668, 0.004190943919906298, 0.9619304146097013, 0.7206069795504135, 0.9810337466219429, 0.9909622080512043, 0.9809506869466087, 0.9924561497857538, 0.9974017443608892, 0.9931713574621164, 0.9916789770025177, 0.9584233168592547, 0.9304833477728176, 0.7002167097304123, 0.29772993957041155, 0.9010806199591207, 0.09485059157464429, 0.10064128603329336, 0.2737682602215183, 0.5301639174968132, 0.0023962210960307945, 0.0850658489090932, 0.007188663288092384, 0.4177490164872725, 0.5548859350030944, 0.011524110799648895, 0.014981344039543563, 0.987875096388717, 0.9961586798006629, 0.2093626388602482, 0.08672627111363032, 0.5969206628992837, 0.0128734308684295, 0.09282421205130745, 0.9946434439946467, 0.9849011493299177, 0.8764994413761958, 0.07304162011468299, 0.9966668257379183, 0.2595907665235319, 0.5694514910087637, 0.10053991592339967, 0.00412048835751638, 0.0651037160487588, 0.9964549551283604, 0.9972276467861846, 0.9692377981704846, 0.03159951125594239, 0.963785093306243, 0.013659680431642465, 0.07376227433086932, 0.5764385142153121, 0.06829840215821233, 0.2677297364601923, 0.9972054564920865, 0.0022819346830482527, 0.9814764624180146, 0.5223091804287043, 0.2562074942880584, 0.18851039213877466, 0.03228631025581224, 0.03598012166160641, 0.132849679981316, 0.41515524994161246, 0.10655651415168053, 0.27538631579460293, 0.0166062099976645, 0.0166062099976645, 0.44613338297261834, 0.5472569497797451, 0.9904135384493081, 0.6222557119416267, 0.09101248224498332, 0.2858466109027624, 0.9767423907856744, 0.9920051494701588, 0.986760081612501, 0.35207464869603705, 0.2573210493108239, 0.1346987442240775, 0.12912500308377084, 0.1263381325136175, 0.9106376935301508, 0.07728184103509059, 0.010304245471345412, 0.9976599632315957, 0.9948568852645583, 0.9986622877854532, 0.9963766390003513, 0.032031575064200214, 0.20920622463805763, 0.10877389032217988, 0.6496403817708105, 0.9848161656724251, 0.978603292589308, 0.2622643713729577, 0.7365388633168694, 0.9036641051282259, 0.9375489213668204, 0.8955209218700831, 0.10261177229761369, 0.9910948145570995, 0.996743961959483, 0.9989704014952507, 0.9902017349969653, 0.9907741294551282, 0.7460060049740459, 0.25324940695171555, 0.27281138798123367, 0.10259573565106223, 0.1725473735949683, 0.06295647414951545, 0.33809958339554597, 0.017487909485976515, 0.011658606323984345, 0.022151352015570253, 0.0044999764407579615, 0.34574818986490335, 0.1867490222914554, 0.2677485982250987, 0.1282493285616019, 0.03074983901184607, 0.035249815452604034, 0.03312475490538237, 0.9606178922560887, 0.44961577952793674, 0.5473583402948795, 0.23134762415800147, 0.7656504704276715, 0.9951001021540243, 0.15514100566508957, 0.601234979331593, 0.05747847095132826, 0.08240276366473609, 0.10325778409840387, 0.2877221221306811, 0.6833400400603676, 0.9980302282644293, 0.9974241216785769, 0.5953232205285282, 0.30144315522224924, 0.10264193457388415, 0.9964003176037727, 0.9715884336470105, 0.9832415394538263, 0.22818759500280625, 0.7684552831712151, 0.9097354402686165, 0.08027077414134852, 0.7266530746609537, 0.04097667714253499, 0.23220117047436492, 0.04736617602398536, 0.9517640994819557, 0.9718551495193919, 0.007132018779227604, 0.9842185915334093, 0.9955637015148077, 0.07338462449227177, 0.33449735815082016, 0.266232591181265, 0.3242576431053869, 0.9996663960033837, 0.9950546122859091, 0.7345119701668983, 0.1022840133894694, 0.09261938220306283, 0.069263190169247, 0.2627684750805819, 0.4108927892186705, 0.32567058108442776, 0.8664382064203577, 0.006894733738093032, 0.12640345186503893, 0.13663174766636219, 0.40477446199625866, 0.17410655409614806, 0.1296488644806878, 0.10032075510085536, 0.044224926842604456, 0.010241562005655768, 0.3758910188109978, 0.6182418072549306, 0.9912430885956864, 0.6626414094015167, 0.3279740309159022, 0.9939597815210892, 0.9952170164553106, 0.9949600039350189, 0.004459193570623976, 0.5730063738251809, 0.23410766245775874, 0.0007431989284373293, 0.187286129966207, 0.9905250925607832, 0.9970741536764589, 0.990524710227176, 0.9991810334297779, 0.9935575406425878, 0.9995344385944456, 0.9885928996905752, 0.8220900425391731, 0.5956487390048387, 0.003054608917973532, 0.14356661914475602, 0.2565871491097767, 0.17261255845298565, 0.8265953503382412, 0.9908674259825635, 0.9836818886226185, 0.9917308008861487, 0.8942094557304251, 0.99572563241378, 0.9907147787993169, 0.9918100271729816, 0.9848560660591551, 0.14391418872763667, 0.6677618356962343, 0.04749168228012011, 0.12088791853121482, 0.018708844534592768, 0.9899325251748139, 0.9931088202160829, 0.5211718806077557, 0.0012742588767915787, 0.022936659782248417, 0.32493601358185253, 0.12870014655594944, 0.989418135193708, 0.9237880369652677, 0.9956783978566198, 0.9988128242667498, 0.9992500140054699, 0.9779848908165525, 0.9923658388428936, 0.36858952091318403, 0.629868168649112, 0.2293857430768857, 0.6338290269229736, 0.13280227230767067, 0.5489564293241406, 0.19370533405306867, 0.0403864403045008, 0.07628549835294597, 0.1278903942975859, 0.011966352682815054, 0.16127523838462757, 0.037505869391773854, 0.2287858032898205, 0.06188468449642686, 0.4594469000492297, 0.048757630209306006, 0.7800809707830033, 0.2013112182665815, 0.7099652739940379, 0.9959656692063762, 0.9915165379047421, 0.9994429427759192, 0.19709386825391015, 0.4187495863510127, 0.04972276919475545, 0.19230131218694577, 0.0005990695083705475, 0.059307881328684205, 0.08207252264676501, 0.9931257254315431, 0.2107151302573748, 0.3402429603273493, 0.1010193124469179, 0.22868789136756262, 0.0012395007662198516, 0.1152735712584462, 0.002479001532439703, 0.9962634461301829, 0.991690711317388, 0.6112838808994397, 0.051901461585801494, 0.3298626225230939, 0.005766829065089054, 0.972461492154855, 0.021804069330826344, 0.9973871686841354, 0.96000421705402, 0.9946645972536529, 0.980745220096617, 0.9975492572973426, 0.5724626565239308, 0.9937012174732598, 0.9924669552621698, 0.9863407612943176, 0.9420960457785775, 0.065821697492331, 0.9265669723920439, 0.9973051388827313, 0.4902738547331988, 0.7495187687561481, 0.02491475131599384, 0.05398196118465332, 0.15986965427762714, 0.0103811463816641, 0.9738622328548436, 0.025213261692034784, 0.16283525672259924, 0.8291496405530053, 0.005615008852503422, 0.9458508097296354, 0.05245895247239995, 0.03101968053612526, 0.325263507335942, 0.6425505253911661], \"Term\": [\"'\", \"'\", \"'s\", \"'s\", \"'s\", \"'s\", \"'s\", \"0\", \"001\", \"029\", \"05\", \"1\", \"1\", \"1\", \"1\", \"10\", \"10\", \"10\", \"15\", \"15\", \"2\", \"2\", \"2\", \"2\", \"2003\", \"2005\", \"3\", \"3\", \"3\", \"3\", \"31\", \"32\", \"4\", \"4\", \"4\", \"4\", \"45\", \"45\", \"5\", \"5\", \"5\", \"5\", \"50\", \"526\", \"6\", \"6\", \"6\", \"62\", \"65\", \"67\", \"68\", \"700\", \"8\", \"8\", \"8\", \"86\", \"88\", \"88\", \"9\", \"9\", \"9\", \"91\", \"91\", \"95\", \"95\", \"A\", \"A\", \"A\", \"A\", \"A\", \"AUD\", \"Additionally\", \"Additionally\", \"African\", \"Agency\", \"American\", \"B\", \"BPD\", \"C\", \"CFI\", \"CI\", \"COVID\", \"Children\", \"China\", \"Chinese\", \"DNA\", \"Due\", \"E\", \"EC\", \"EEG\", \"ESEM\", \"Emotional\", \"First\", \"From\", \"G\", \"HIV\", \"High\", \"Hz\", \"ICD\", \"In\", \"In\", \"In\", \"In\", \"In\", \"In\", \"In\", \"Inventory\", \"John\", \"LGB\", \"Lastly\", \"Latent\", \"Low\", \"Maladaptive\", \"Multilevel\", \"Multilevel\", \"NA\", \"November\", \"P\", \"PA\", \"PDB\", \"PE\", \"PTSD\", \"Peer\", \"Personality\", \"Protein\", \"Questionnaire\", \"Questionnaire\", \"R\", \"RMSEA\", \"Relationship\", \"S\", \"S\", \"SEM\", \"SEM\", \"Scale\", \"Second\", \"Sense\", \"Skills\", \"Some\", \"Structural\", \"Structural\", \"Structural\", \"Students\", \"System\", \"System\", \"T1\", \"T2\", \"The\", \"The\", \"The\", \"The\", \"The\", \"The\", \"The\", \"The\", \"This\", \"This\", \"This\", \"This\", \"This\", \"This\", \"This\", \"Time\", \"US\", \"WM\", \"We\", \"We\", \"We\", \"We\", \"We\", \"We\", \"X\", \"ability\", \"ability\", \"ability\", \"ability\", \"ability\", \"ability\", \"absolute\", \"abuse\", \"academic\", \"academic\", \"acceptance\", \"account\", \"account\", \"accuracy\", \"accuracy\", \"accuracy\", \"achievement\", \"acid\", \"across\", \"across\", \"across\", \"across\", \"across\", \"action\", \"action\", \"action\", \"active\", \"active\", \"activity\", \"activity\", \"activity\", \"activity\", \"add\", \"additive\", \"addressed\", \"addressed\", \"adolescence\", \"adolescence\", \"adolescent\", \"affective\", \"age\", \"age\", \"age\", \"age\", \"agency\", \"aging\", \"aging\", \"alcohol\", \"allocentric\", \"along\", \"alpha\", \"also\", \"also\", \"also\", \"also\", \"also\", \"also\", \"altered\", \"alternative\", \"amino\", \"among\", \"among\", \"among\", \"among\", \"analysis\", \"analysis\", \"analysis\", \"analysis\", \"analysis\", \"analysis\", \"analysis\", \"anesthesia\", \"answer\", \"anti\", \"anticipation\", \"antisocial\", \"antisocial\", \"anxiety\", \"apparent\", \"apply\", \"approach\", \"approach\", \"area\", \"area\", \"area\", \"argued\", \"artery\", \"aspect\", \"aspect\", \"assault\", \"associated\", \"associated\", \"associated\", \"associated\", \"associated\", \"associated\", \"association\", \"association\", \"association\", \"attachment\", \"attempt\", \"attempt\", \"attempt\", \"attitude\", \"availability\", \"avoidance\", \"back\", \"band\", \"based\", \"based\", \"based\", \"based\", \"based\", \"based\", \"baseline\", \"baseline\", \"battery\", \"behavior\", \"behavior\", \"behavior\", \"behavioral\", \"behavioral\", \"behavioral\", \"behavioral\", \"belonging\", \"bias\", \"binding\", \"binding\", \"bipolar\", \"bipolar\", \"bisexual\", \"black\", \"blood\", \"bodily\", \"body\", \"borderline\", \"boy\", \"brain\", \"breast\", \"building\", \"cancer\", \"capacity\", \"cardiovascular\", \"care\", \"care\", \"care\", \"caregiver\", \"carried\", \"cell\", \"cerebral\", \"challenge\", \"change\", \"change\", \"change\", \"change\", \"change\", \"channel\", \"characteristic\", \"characteristic\", \"characteristic\", \"characteristic\", \"characteristic\", \"characteristic\", \"characteristic\", \"child\", \"child\", \"childhood\", \"clarify\", \"class\", \"class\", \"climate\", \"cognition\", \"cognition\", \"cognitive\", \"cognitive\", \"cognitive\", \"cognitive\", \"cognitive\", \"cognitive\", \"college\", \"community\", \"community\", \"component\", \"component\", \"composition\", \"computerized\", \"concentration\", \"concept\", \"condition\", \"condition\", \"condition\", \"condition\", \"confidence\", \"confidence\", \"conflict\", \"connectivity\", \"conscientiousness\", \"conscious\", \"consciousness\", \"consecutive\", \"conserved\", \"consists\", \"construct\", \"construct\", \"construct\", \"construct\", \"consumption\", \"containing\", \"contingency\", \"contrast\", \"control\", \"control\", \"control\", \"control\", \"control\", \"control\", \"control\", \"coping\", \"coping\", \"cortex\", \"cortical\", \"course\", \"coverage\", \"creativity\", \"critical\", \"crystal\", \"cultural\", \"curve\", \"daily\", \"daily\", \"data\", \"data\", \"data\", \"data\", \"database\", \"day\", \"day\", \"day\", \"debated\", \"decision\", \"definition\", \"dependency\", \"depression\", \"depressive\", \"developmental\", \"developmental\", \"developmental\", \"developmental\", \"develops\", \"difference\", \"difference\", \"difference\", \"difference\", \"difference\", \"difference\", \"different\", \"different\", \"different\", \"different\", \"directly\", \"directly\", \"discovered\", \"discrimination\", \"disease\", \"disease\", \"disease\", \"disorder\", \"disorder\", \"disordered\", \"disparity\", \"disrupted\", \"dissatisfaction\", \"distinctive\", \"domain\", \"domain\", \"domain\", \"domain\", \"domain\", \"domain\", \"drinker\", \"drinking\", \"driving\", \"drug\", \"drug\", \"dyad\", \"e\", \"e\", \"e\", \"e\", \"eating\", \"educational\", \"educational\", \"effect\", \"effect\", \"effect\", \"effect\", \"effect\", \"effect\", \"effective\", \"effective\", \"effectively\", \"effectiveness\", \"efficacy\", \"egocentric\", \"electron\", \"emotion\", \"emotional\", \"emotional\", \"emotional\", \"empathic\", \"empathy\", \"empathy\", \"empirical\", \"employed\", \"employed\", \"employee\", \"engage\", \"engagement\", \"equation\", \"equation\", \"ethic\", \"evaluation\", \"evidence\", \"evidence\", \"evidence\", \"examined\", \"examined\", \"examined\", \"excellent\", \"excellent\", \"exercise\", \"exercise\", \"exert\", \"expectation\", \"experienced\", \"explicitly\", \"exploit\", \"exponential\", \"exposure\", \"expression\", \"externalizing\", \"extracellular\", \"facet\", \"factor\", \"factor\", \"factor\", \"factor\", \"failure\", \"failure\", \"family\", \"family\", \"father\", \"fatigue\", \"female\", \"female\", \"female\", \"fibroblast\", \"filled\", \"first\", \"first\", \"first\", \"first\", \"first\", \"fit\", \"fit\", \"fit\", \"fitting\", \"fluctuation\", \"forebrain\", \"function\", \"function\", \"function\", \"functional\", \"functional\", \"functional\", \"gamma\", \"gay\", \"gender\", \"gender\", \"gender\", \"gender\", \"gene\", \"genetic\", \"genome\", \"girl\", \"global\", \"go\", \"good\", \"grade\", \"gradient\", \"gray\", \"greater\", \"greater\", \"greater\", \"group\", \"group\", \"group\", \"group\", \"group\", \"growth\", \"growth\", \"gyrus\", \"health\", \"health\", \"health\", \"health\", \"health\", \"heart\", \"heterosexual\", \"high\", \"high\", \"high\", \"high\", \"high\", \"high\", \"high\", \"high\", \"higher\", \"higher\", \"higher\", \"higher\", \"hope\", \"hopelessness\", \"http\", \"human\", \"human\", \"human\", \"identification\", \"identification\", \"identification\", \"identified\", \"identified\", \"identified\", \"identified\", \"identified\", \"identified\", \"identified\", \"identity\", \"identity\", \"identity\", \"image\", \"imaging\", \"implementation\", \"improve\", \"improve\", \"improve\", \"impulsivity\", \"incident\", \"included\", \"included\", \"included\", \"included\", \"included\", \"index\", \"index\", \"indicator\", \"indirect\", \"indirect\", \"individual\", \"individual\", \"individual\", \"individual\", \"individual\", \"individual\", \"infant\", \"information\", \"information\", \"information\", \"initial\", \"initial\", \"initial\", \"injury\", \"instance\", \"instead\", \"instrument\", \"intake\", \"intellectual\", \"intelligence\", \"intensity\", \"interaction\", \"interaction\", \"interaction\", \"interaction\", \"interplay\", \"intervention\", \"intervention\", \"intervention\", \"intervention\", \"intrinsic\", \"involvement\", \"involving\", \"issue\", \"job\", \"k\", \"knowing\", \"latent\", \"latter\", \"leader\", \"leadership\", \"learning\", \"learning\", \"learning\", \"left\", \"length\", \"lesbian\", \"level\", \"level\", \"level\", \"level\", \"level\", \"level\", \"level\", \"liability\", \"life\", \"life\", \"light\", \"located\", \"longitudinal\", \"longitudinal\", \"longitudinal\", \"loop\", \"loss\", \"lower\", \"lower\", \"lower\", \"lower\", \"mL\", \"making\", \"male\", \"male\", \"male\", \"male\", \"maltreatment\", \"management\", \"map\", \"marijuana\", \"marker\", \"maternal\", \"matter\", \"maximize\", \"maximum\", \"maximum\", \"may\", \"may\", \"may\", \"may\", \"may\", \"may\", \"may\", \"mean\", \"mean\", \"mean\", \"meaning\", \"measure\", \"measure\", \"measure\", \"measure\", \"measure\", \"mediate\", \"mediate\", \"mediate\", \"mediated\", \"mediated\", \"mediating\", \"mediating\", \"mediation\", \"mediation\", \"mediator\", \"mediator\", \"medical\", \"medication\", \"medicine\", \"meet\", \"memory\", \"men\", \"men\", \"metal\", \"method\", \"method\", \"method\", \"method\", \"mid\", \"middle\", \"middle\", \"mild\", \"minority\", \"mode\", \"model\", \"model\", \"model\", \"modeling\", \"modeling\", \"modeling\", \"modeling\", \"modeling\", \"modeling\", \"modeling\", \"molecular\", \"molecule\", \"month\", \"month\", \"month\", \"month\", \"mood\", \"mood\", \"moral\", \"morality\", \"morphology\", \"mostly\", \"mother\", \"motion\", \"motivation\", \"motivational\", \"muscle\", \"n\", \"n\", \"need\", \"need\", \"negative\", \"neglect\", \"nervous\", \"network\", \"network\", \"neural\", \"neuroticism\", \"newly\", \"nurse\", \"obesity\", \"obesity\", \"observe\", \"often\", \"older\", \"one\", \"one\", \"one\", \"one\", \"one\", \"oral\", \"order\", \"order\", \"order\", \"organizational\", \"orientation\", \"orientation\", \"orientation\", \"outcome\", \"outcome\", \"outcome\", \"outcome\", \"outcome\", \"ownership\", \"p\", \"pain\", \"parameter\", \"parent\", \"parental\", \"parenting\", \"parietal\", \"partial\", \"partially\", \"partner\", \"partner\", \"patient\", \"patient\", \"pattern\", \"pattern\", \"pattern\", \"pattern\", \"peer\", \"peer\", \"perceived\", \"perceived\", \"perceived\", \"perceptual\", \"performance\", \"performance\", \"performance\", \"performance\", \"period\", \"period\", \"period\", \"persistence\", \"person\", \"person\", \"person\", \"personality\", \"physical\", \"physical\", \"physical\", \"physician\", \"plasmid\", \"played\", \"poor\", \"poor\", \"portion\", \"positive\", \"positive\", \"postpartum\", \"postulate\", \"power\", \"practice\", \"predicted\", \"predicted\", \"predicted\", \"predicted\", \"predicted\", \"predicted\", \"predicted\", \"predicted\", \"preference\", \"pregnancy\", \"pregnancy\", \"presence\", \"presented\", \"pressure\", \"prevalence\", \"prevalence\", \"prevention\", \"problem\", \"problem\", \"problematic\", \"process\", \"processing\", \"processing\", \"product\", \"professional\", \"profound\", \"program\", \"program\", \"program\", \"prolonged\", \"proposed\", \"protective\", \"protein\", \"protein\", \"proved\", \"provided\", \"provider\", \"provider\", \"psychiatric\", \"psychological\", \"psychological\", \"psychological\", \"psychologist\", \"psychologist\", \"psychology\", \"psychopathology\", \"psychosocial\", \"puberty\", \"putative\", \"quality\", \"quality\", \"question\", \"question\", \"questionnaire\", \"questionnaire\", \"questionnaire\", \"questionnaire\", \"race\", \"raising\", \"randomized\", \"randomized\", \"rarely\", \"rate\", \"rate\", \"rate\", \"rate\", \"rate\", \"rate\", \"ray\", \"reaching\", \"reaction\", \"reactivity\", \"reading\", \"recent\", \"recently\", \"receptor\", \"recovery\", \"refinement\", \"regenerative\", \"region\", \"region\", \"regression\", \"regression\", \"related\", \"related\", \"related\", \"related\", \"related\", \"related\", \"relationship\", \"relationship\", \"relationship\", \"relationship\", \"relatively\", \"reliability\", \"reported\", \"reported\", \"reported\", \"reported\", \"reported\", \"reporting\", \"representation\", \"represented\", \"represented\", \"requirement\", \"research\", \"research\", \"research\", \"research\", \"research\", \"residue\", \"resilience\", \"resolution\", \"resource\", \"resource\", \"respectively\", \"respectively\", \"respectively\", \"respectively\", \"respectively\", \"response\", \"response\", \"resting\", \"result\", \"result\", \"result\", \"result\", \"revealed\", \"revealed\", \"revealed\", \"revealed\", \"revealed\", \"revealed\", \"revealed\", \"reward\", \"reward\", \"right\", \"risk\", \"risk\", \"risk\", \"risky\", \"root\", \"rumination\", \"sample\", \"sample\", \"sample\", \"sample\", \"sample\", \"satisfaction\", \"satisfaction\", \"satisfaction\", \"school\", \"science\", \"score\", \"seeking\", \"self\", \"self\", \"self\", \"self\", \"sensation\", \"sensor\", \"sequence\", \"sequence\", \"sequential\", \"server\", \"service\", \"service\", \"severe\", \"sex\", \"sexual\", \"share\", \"shared\", \"show\", \"show\", \"showed\", \"showed\", \"showed\", \"showed\", \"showed\", \"showed\", \"showed\", \"showed\", \"significant\", \"significant\", \"significant\", \"significant\", \"significant\", \"significant\", \"significant\", \"similarity\", \"similarity\", \"site\", \"site\", \"skill\", \"skill\", \"smoking\", \"social\", \"social\", \"social\", \"social\", \"social\", \"socio\", \"socio\", \"source\", \"specie\", \"specific\", \"specific\", \"specific\", \"specificity\", \"speech\", \"speed\", \"stability\", \"stability\", \"stable\", \"stable\", \"state\", \"state\", \"state\", \"status\", \"status\", \"stimulation\", \"stimulus\", \"stimulus\", \"strain\", \"strategy\", \"strategy\", \"strategy\", \"strategy\", \"stress\", \"stressor\", \"structural\", \"structural\", \"structural\", \"structural\", \"structure\", \"structure\", \"structure\", \"student\", \"student\", \"student\", \"study\", \"study\", \"study\", \"study\", \"study\", \"study\", \"study\", \"style\", \"style\", \"subgroup\", \"substance\", \"substance\", \"substrate\", \"suicidal\", \"suicide\", \"support\", \"support\", \"support\", \"support\", \"support\", \"surface\", \"survey\", \"survivor\", \"symptom\", \"symptomatology\", \"system\", \"take\", \"tangible\", \"target\", \"target\", \"target\", \"target\", \"task\", \"task\", \"teacher\", \"team\", \"technology\", \"teen\", \"temperament\", \"temperature\", \"template\", \"terminal\", \"test\", \"test\", \"test\", \"test\", \"test\", \"thinking\", \"though\", \"time\", \"time\", \"time\", \"time\", \"time\", \"tissue\", \"tobacco\", \"training\", \"trait\", \"trajectory\", \"transcript\", \"trauma\", \"treatment\", \"treatment\", \"trial\", \"trial\", \"trial\", \"two\", \"two\", \"two\", \"two\", \"two\", \"two\", \"type\", \"type\", \"type\", \"type\", \"type\", \"type\", \"uncertainty\", \"uncertainty\", \"underpinnings\", \"univariate\", \"university\", \"use\", \"used\", \"used\", \"used\", \"used\", \"used\", \"used\", \"used\", \"user\", \"using\", \"using\", \"using\", \"using\", \"using\", \"using\", \"using\", \"validity\", \"variability\", \"variable\", \"variable\", \"variable\", \"variable\", \"variation\", \"variation\", \"variety\", \"verified\", \"version\", \"victimization\", \"violence\", \"virtue\", \"visual\", \"vitro\", \"volume\", \"volunteer\", \"wave\", \"wave\", \"weight\", \"window\", \"within\", \"within\", \"within\", \"within\", \"within\", \"woman\", \"woman\", \"work\", \"work\", \"work\", \"working\", \"working\", \"year\", \"year\", \"year\"]}, \"R\": 30, \"lambda.step\": 0.01, \"plot.opts\": {\"xlab\": \"PC1\", \"ylab\": \"PC2\"}, \"topic.order\": [11, 6, 10, 9, 1, 16, 3, 8, 4, 12, 15, 14, 7, 2, 17, 5, 13]};\n",
       "\n",
       "function LDAvis_load_lib(url, callback){\n",
       "  var s = document.createElement('script');\n",
       "  s.src = url;\n",
       "  s.async = true;\n",
       "  s.onreadystatechange = s.onload = callback;\n",
       "  s.onerror = function(){console.warn(\"failed to load library \" + url);};\n",
       "  document.getElementsByTagName(\"head\")[0].appendChild(s);\n",
       "}\n",
       "\n",
       "if(typeof(LDAvis) !== \"undefined\"){\n",
       "   // already loaded: just create the visualization\n",
       "   !function(LDAvis){\n",
       "       new LDAvis(\"#\" + \"ldavis_el124171404618125507366724286849\", ldavis_el124171404618125507366724286849_data);\n",
       "   }(LDAvis);\n",
       "}else if(typeof define === \"function\" && define.amd){\n",
       "   // require.js is available: use it to load d3/LDAvis\n",
       "   require.config({paths: {d3: \"https://d3js.org/d3.v5\"}});\n",
       "   require([\"d3\"], function(d3){\n",
       "      window.d3 = d3;\n",
       "      LDAvis_load_lib(\"https://cdn.jsdelivr.net/gh/bmabey/pyLDAvis@3.2.2/pyLDAvis/js/ldavis.v3.0.0.js\", function(){\n",
       "        new LDAvis(\"#\" + \"ldavis_el124171404618125507366724286849\", ldavis_el124171404618125507366724286849_data);\n",
       "      });\n",
       "    });\n",
       "}else{\n",
       "    // require.js not available: dynamically load d3 & LDAvis\n",
       "    LDAvis_load_lib(\"https://d3js.org/d3.v5.js\", function(){\n",
       "         LDAvis_load_lib(\"https://cdn.jsdelivr.net/gh/bmabey/pyLDAvis@3.2.2/pyLDAvis/js/ldavis.v3.0.0.js\", function(){\n",
       "                 new LDAvis(\"#\" + \"ldavis_el124171404618125507366724286849\", ldavis_el124171404618125507366724286849_data);\n",
       "            })\n",
       "         });\n",
       "}\n",
       "</script>"
      ],
      "text/plain": [
       "PreparedData(topic_coordinates=              x         y  topics  cluster       Freq\n",
       "topic                                                \n",
       "10     0.247592 -0.120410       1        1  21.068921\n",
       "5      0.283235  0.037665       2        1  18.146922\n",
       "9      0.281352  0.153535       3        1  12.994200\n",
       "8      0.215116 -0.068668       4        1  11.468040\n",
       "0      0.220909  0.043555       5        1   8.702299\n",
       "15     0.130959 -0.210080       6        1   8.524268\n",
       "2      0.105462  0.176060       7        1   5.777185\n",
       "7     -0.010434 -0.081849       8        1   3.053508\n",
       "3     -0.049025  0.224955       9        1   2.402619\n",
       "11    -0.042331 -0.174544      10        1   2.353583\n",
       "14    -0.120869 -0.035812      11        1   2.269307\n",
       "13    -0.192604  0.004732      12        1   0.778000\n",
       "6     -0.217420  0.005836      13        1   0.737701\n",
       "1     -0.212119  0.006085      14        1   0.629513\n",
       "16    -0.208436  0.016128      15        1   0.500979\n",
       "4     -0.199295  0.019113      16        1   0.500330\n",
       "12    -0.232092  0.003702      17        1   0.092624, topic_info=            Term         Freq        Total Category  logprob  loglift\n",
       "162         self  2997.000000  2997.000000  Default  30.0000  30.0000\n",
       "523     behavior  2667.000000  2667.000000  Default  29.0000  29.0000\n",
       "776          use  2283.000000  2283.000000  Default  28.0000  28.0000\n",
       "1              0  2731.000000  2731.000000  Default  27.0000  27.0000\n",
       "1227      sexual  1066.000000  1066.000000  Default  26.0000  26.0000\n",
       "...          ...          ...          ...      ...      ...      ...\n",
       "4311  impairment     0.014491     1.078240  Topic17 -10.2205   2.6748\n",
       "4194        path     0.014495     1.080015  Topic17 -10.2202   2.6734\n",
       "9281           F     0.014491     1.078223  Topic17 -10.2205   2.6748\n",
       "6236   inhibitor     0.014493     1.079441  Topic17 -10.2204   2.6738\n",
       "4170          01     0.014491     1.079338  Topic17 -10.2204   2.6738\n",
       "\n",
       "[836 rows x 6 columns], token_table=      Topic      Freq     Term\n",
       "term                          \n",
       "202       2  0.698493        '\n",
       "202       5  0.301139        '\n",
       "0         1  0.134826       's\n",
       "0         2  0.499979       's\n",
       "0         3  0.072328       's\n",
       "...     ...       ...      ...\n",
       "1713      2  0.945851  working\n",
       "1713     14  0.052459  working\n",
       "731       3  0.031020     year\n",
       "731       4  0.325264     year\n",
       "731       5  0.642551     year\n",
       "\n",
       "[1249 rows x 3 columns], R=30, lambda_step=0.01, plot_opts={'xlab': 'PC1', 'ylab': 'PC2'}, topic_order=[11, 6, 10, 9, 1, 16, 3, 8, 4, 12, 15, 14, 7, 2, 17, 5, 13])"
      ]
     },
     "execution_count": 28,
     "metadata": {},
     "output_type": "execute_result"
    }
   ],
   "source": []
  },
  {
   "cell_type": "raw",
   "metadata": {},
   "source": []
  },
  {
   "cell_type": "code",
   "execution_count": 29,
   "metadata": {},
   "outputs": [],
   "source": [
    "from sklearn.decomposition import LatentDirichletAllocation\n",
    "\n",
    "lda_model = LatentDirichletAllocation(n_components=9, max_iter=10, learning_method='online', learning_offset=50.,random_state=0).fit(tfidf_abstracts)\n",
    "lda_W = lda_model.transform(tfidf_abstracts)\n",
    "lda_H = lda_model.components_"
   ]
  },
  {
   "cell_type": "code",
   "execution_count": 30,
   "metadata": {},
   "outputs": [
    {
     "data": {
      "text/html": [
       "<div>\n",
       "<style scoped>\n",
       "    .dataframe tbody tr th:only-of-type {\n",
       "        vertical-align: middle;\n",
       "    }\n",
       "\n",
       "    .dataframe tbody tr th {\n",
       "        vertical-align: top;\n",
       "    }\n",
       "\n",
       "    .dataframe thead th {\n",
       "        text-align: right;\n",
       "    }\n",
       "</style>\n",
       "<table border=\"1\" class=\"dataframe\">\n",
       "  <thead>\n",
       "    <tr style=\"text-align: right;\">\n",
       "      <th></th>\n",
       "      <th>abstract</th>\n",
       "      <th>title</th>\n",
       "      <th>author</th>\n",
       "      <th>affiliation_y</th>\n",
       "      <th>country</th>\n",
       "      <th>fuzzy_matched_QS</th>\n",
       "      <th>Abstract_Cleaned</th>\n",
       "    </tr>\n",
       "  </thead>\n",
       "  <tbody>\n",
       "    <tr>\n",
       "      <th>0</th>\n",
       "      <td>The COVID-19 pandemic is impacting mental heal...</td>\n",
       "      <td>Natural Language Processing Reveals Vulnerable...</td>\n",
       "      <td>Laurie   Rumker | Tanya   Talkar | Daniel M   ...</td>\n",
       "      <td>Department of Brain and Cognitive Sciences Mas...</td>\n",
       "      <td>United States | United States | United States ...</td>\n",
       "      <td>Massachusetts Institute of Technology (MIT) | ...</td>\n",
       "      <td>[The, COVID, 19, pandemic, impacting, mental, ...</td>\n",
       "    </tr>\n",
       "    <tr>\n",
       "      <th>1</th>\n",
       "      <td>Brain regions in the \"pain matrix\", can be act...</td>\n",
       "      <td>Empathic control through coordinated interacti...</td>\n",
       "      <td>Nir   Jacoby | Rebecca   Saxe | Emile G   Brun...</td>\n",
       "      <td>Department of Brain and Cognitive Sciences Mas...</td>\n",
       "      <td>United States | United States | United States ...</td>\n",
       "      <td>Massachusetts Institute of Technology (MIT) | ...</td>\n",
       "      <td>[Brain, region, pain, matrix, activated, obser...</td>\n",
       "    </tr>\n",
       "    <tr>\n",
       "      <th>2</th>\n",
       "      <td>During embryonic development of bilaterally sy...</td>\n",
       "      <td>Characterizing the diverse cells that associat...</td>\n",
       "      <td>N   PenkoffLidbeck | C   Schneider | M S   Sch...</td>\n",
       "      <td>Computational and Systems Biology Massachusett...</td>\n",
       "      <td>United States | United States | Canada | Unite...</td>\n",
       "      <td>Massachusetts Institute of Technology (MIT) | ...</td>\n",
       "      <td>[During, embryonic, development, bilaterally, ...</td>\n",
       "    </tr>\n",
       "    <tr>\n",
       "      <th>3</th>\n",
       "      <td>Zebra finches (Taeniopygia guttata) are labora...</td>\n",
       "      <td>Campylobacter taeniopygiae sp. nov., Campyloba...</td>\n",
       "      <td>Erin   Bryant | Zeli   Shen | Anthony   Mannio...</td>\n",
       "      <td>Division of Comparative Medicine Massachusetts...</td>\n",
       "      <td>United States | United States | United States ...</td>\n",
       "      <td>Massachusetts Institute of Technology (MIT) | ...</td>\n",
       "      <td>[Zebra, finch, Taeniopygia, guttata, laborator...</td>\n",
       "    </tr>\n",
       "    <tr>\n",
       "      <th>4</th>\n",
       "      <td>Non-recurrent deep convolutional neural networ...</td>\n",
       "      <td>Evidence that recurrent circuits are critical ...</td>\n",
       "      <td>Kohitij   Kar | Kailyn   Schmidt | James J   D...</td>\n",
       "      <td>McGovern Institute for Brain Research and Depa...</td>\n",
       "      <td>United States | United States | United States ...</td>\n",
       "      <td>Massachusetts Institute of Technology (MIT) | ...</td>\n",
       "      <td>[Non, recurrent, deep, convolutional, neural, ...</td>\n",
       "    </tr>\n",
       "  </tbody>\n",
       "</table>\n",
       "</div>"
      ],
      "text/plain": [
       "                                            abstract  \\\n",
       "0  The COVID-19 pandemic is impacting mental heal...   \n",
       "1  Brain regions in the \"pain matrix\", can be act...   \n",
       "2  During embryonic development of bilaterally sy...   \n",
       "3  Zebra finches (Taeniopygia guttata) are labora...   \n",
       "4  Non-recurrent deep convolutional neural networ...   \n",
       "\n",
       "                                               title  \\\n",
       "0  Natural Language Processing Reveals Vulnerable...   \n",
       "1  Empathic control through coordinated interacti...   \n",
       "2  Characterizing the diverse cells that associat...   \n",
       "3  Campylobacter taeniopygiae sp. nov., Campyloba...   \n",
       "4  Evidence that recurrent circuits are critical ...   \n",
       "\n",
       "                                              author  \\\n",
       "0  Laurie   Rumker | Tanya   Talkar | Daniel M   ...   \n",
       "1  Nir   Jacoby | Rebecca   Saxe | Emile G   Brun...   \n",
       "2  N   PenkoffLidbeck | C   Schneider | M S   Sch...   \n",
       "3  Erin   Bryant | Zeli   Shen | Anthony   Mannio...   \n",
       "4  Kohitij   Kar | Kailyn   Schmidt | James J   D...   \n",
       "\n",
       "                                       affiliation_y  \\\n",
       "0  Department of Brain and Cognitive Sciences Mas...   \n",
       "1  Department of Brain and Cognitive Sciences Mas...   \n",
       "2  Computational and Systems Biology Massachusett...   \n",
       "3  Division of Comparative Medicine Massachusetts...   \n",
       "4  McGovern Institute for Brain Research and Depa...   \n",
       "\n",
       "                                             country  \\\n",
       "0  United States | United States | United States ...   \n",
       "1  United States | United States | United States ...   \n",
       "2  United States | United States | Canada | Unite...   \n",
       "3  United States | United States | United States ...   \n",
       "4  United States | United States | United States ...   \n",
       "\n",
       "                                    fuzzy_matched_QS  \\\n",
       "0  Massachusetts Institute of Technology (MIT) | ...   \n",
       "1  Massachusetts Institute of Technology (MIT) | ...   \n",
       "2  Massachusetts Institute of Technology (MIT) | ...   \n",
       "3  Massachusetts Institute of Technology (MIT) | ...   \n",
       "4  Massachusetts Institute of Technology (MIT) | ...   \n",
       "\n",
       "                                    Abstract_Cleaned  \n",
       "0  [The, COVID, 19, pandemic, impacting, mental, ...  \n",
       "1  [Brain, region, pain, matrix, activated, obser...  \n",
       "2  [During, embryonic, development, bilaterally, ...  \n",
       "3  [Zebra, finch, Taeniopygia, guttata, laborator...  \n",
       "4  [Non, recurrent, deep, convolutional, neural, ...  "
      ]
     },
     "execution_count": 30,
     "metadata": {},
     "output_type": "execute_result"
    }
   ],
   "source": [
    "# first remove duplicated title, which was due to grouping the dataframe\n",
    "\n",
    "c_c = copy['title'].str.split(\"|\", 1, expand=True)\n",
    "copy['title'] = c_c[0]\n",
    "copy.head()"
   ]
  },
  {
   "cell_type": "code",
   "execution_count": 31,
   "metadata": {},
   "outputs": [],
   "source": [
    "def display_topics(H, W, feature_names, title_list, no_top_words, no_top_documents):\n",
    "    for topic_idx, topic in enumerate(H):\n",
    "        print('\\n',\"Topic %d:\" % (topic_idx))\n",
    "        print(\"Top Words: \",\" \".join([feature_names[i] for i in topic.argsort()[:-no_top_words - 1:-1]]))\n",
    "        top_doc_indices = np.argsort( W[:,topic_idx] )[::-1][0:no_top_documents]\n",
    "        for doc_index in top_doc_indices:\n",
    "            print(title_list[doc_index])\n",
    "            \n",
    "no_top_words = 15\n",
    "no_top_documents = 4     \n",
    "title_list = copy['title'].tolist()\n",
    "tf_feature_names = count_vectorizer.get_feature_names()\n",
    "#display_topics(lda_H, lda_W, tf_feature_names, title_list, no_top_words, no_top_documents)"
   ]
  },
  {
   "cell_type": "code",
   "execution_count": 32,
   "metadata": {},
   "outputs": [],
   "source": [
    "from sklearn.decomposition import NMF\n",
    "\n",
    "nmf_model = NMF(n_components=9, random_state=1, alpha=.1, l1_ratio=.5, init='nndsvd').fit(tfidf_abstracts)\n",
    "nmf_W = nmf_model.transform(tfidf_abstracts)\n",
    "nmf_H = nmf_model.components_"
   ]
  },
  {
   "cell_type": "code",
   "execution_count": 33,
   "metadata": {},
   "outputs": [
    {
     "name": "stdout",
     "output_type": "stream",
     "text": [
      "\n",
      " Topic 0:\n",
      "Top Words:  the of and in to for that with is we as on was were this\n",
      "Social cognition as a mediator variable between neurocognition and functional outcome in schizophrenia: empirical review and new results by structural equation modeling. \n",
      "Psychopathy-related traits and the use of reward and social information: a computational approach. \n",
      "Quality of life and menopause: Developing a theoretical model based on meaning in life, self-efficacy beliefs, and body image. \n",
      "Modeling an auditory stimulated brain under altered states of consciousness using the generalized Ising model. \n",
      "\n",
      " Topic 1:\n",
      "Top Words:  self efficacy health social care support and esteem perceived stigma diabetes adherence mental behaviors patients\n",
      "Relationships between health literacy and heart failure knowledge, self-efficacy, and self-care adherence. \n",
      "Pathways of empowerment perceptions, health literacy, self-efficacy, and self-care behaviors to glycemic control in patients with type 2 diabetes mellitus. \n",
      "Identification of factors associated with self-care behaviors using the COM-B model in patients with chronic heart failure. \n",
      "Understanding consumer health information-seeking behavior from the perspective of the risk perception attitude framework and social support in mobile social media websites. \n",
      "\n",
      " Topic 2:\n",
      "Top Words:  symptoms depressive anxiety depression abuse and childhood disorder trauma trajectories life symptom neuroticism severity negative\n",
      "Intergenerational Transmission of Depressive Symptoms: The Role of Parental Negative Perceptions and Behaviors. \n",
      "Associations of temporal and energetic characteristics of behavior with depressive symptoms: A population-based longitudinal study within Strelau's Regulative Theory of Temperament. \n",
      "Obsessive-compulsive personality disorder symptoms as a risk factor for postpartum depressive symptoms. \n",
      "Perceived competence and depressive symptoms among adolescents: the moderating role of attributional style. \n",
      "\n",
      " Topic 3:\n",
      "Top Words:  alcohol drinking use motives college substance consumption related sensation heavy expectancies problems seeking consequences and\n",
      "Relationship between General and Sport-Related Drinking Motives and Athlete Alcohol Use and Problems. \n",
      "Relationship of drinking motives with alcohol consumption and alcohol-related problems identified in a representative community-based study from Ningxia, China. \n",
      "Perceptions of Alcohol Advertising Vary Based on Psychological Characteristics. \n",
      "The influence of motives on alcohol- and sex-related behaviors among female college students.\n",
      "\n",
      " Topic 4:\n",
      "Top Words:  body eating dissatisfaction image disordered appearance weight disorder compassion and bmi internalization concerns thin media\n",
      "Maternal influences on body image and eating concerns among 7- and 8-year-old boys and girls: Cross-sectional and prospective relations. \n",
      "Body Dissatisfaction as a Mediator between Identity Formation and Eating Disorder Symptomatology in Adolescents and Emerging Adults.\n",
      "Body image and disordered eating in older women: A Tripartite Sociocultural model. \n",
      "Association between food addiction and body dissatisfaction among college students: The mediating role of eating expectancies. \n",
      "\n",
      " Topic 5:\n",
      "Top Words:  sexual women men risk satisfaction hiv sex minority couples condom heterosexual attachment and desire behaviors\n",
      "Gone but not forgotten: virginity loss and current sexual satisfaction. \n",
      "Attachment, Sexual Assertiveness, and Sexual Outcomes in Women with Provoked Vestibulodynia and Their Partners: A Mediation Model. \n",
      "Testing cognitive predictors of individual differences in the sexual psychophysiological responses of sexually functional women. \n",
      "The relationships of sexual identity, hazardous drinking, and drinking expectancies with risky sexual behaviors in a community sample of lesbian and bisexual women. \n",
      "\n",
      " Topic 6:\n",
      "Top Words:  physical activity motivation pa exercise intervention and efficacy leisure girls time levels adolescents intrinsic interventions\n",
      "Physical Activity in People With Mental Illness in Hong Kong: Application of the Health Belief Model. \n",
      "Physical activity in adolescents: analysis of the social influence of parents and friends. \n",
      "The Association Among Social Support, Self-Efficacy, Use of Mobile Apps, and Physical Activity: Structural Equation Models With Mediating Effects. \n",
      "The Moderating Effect of Health-Improving Workplace Environment on Promoting Physical Activity in White-Collar Employees: A Multi-Site Longitudinal Study Using Multi-Level Structural Equation Modeling. \n",
      "\n",
      " Topic 7:\n",
      "Top Words:  children parenting child parents parental and mothers adolescents parent adolescent maternal childhood age early externalizing\n",
      "Negative Controlling Parenting and Child Personality as Modifiers of Psychosocial Development in Youth with Autism Spectrum Disorder: A 9-Year Longitudinal Study at the Level of Within-Person Change. \n",
      "Maternal Self-Efficacy Is Protective for Child (but Not Mother) Body Mass Index Among Mexican-Origin Children with Negative Temperament. \n",
      "Effects of childhood aggression on parenting during adolescence: the role of parental psychological need satisfaction. \n",
      "Application of latent profile analysis to define subgroups of parenting styles and food parenting practices. \n",
      "\n",
      " Topic 8:\n",
      "Top Words:  safety leadership job nurses transformational climate satisfaction employees organizational care staff nursing patient leaders employee\n",
      "Transformational and passive leadership as cross-level moderators of the relationships between safety knowledge, safety motivation, and safety participation.\n",
      "The Impact of Transformational Leadership on Safety Climate and Individual Safety Behavior on Construction Sites. \n",
      "Structural equation modeling of safety performance based on personality traits, job and organizational-related factors. \n",
      "Safety climate and safety behaviors in the construction industry: The importance of..co-workers commitment to safety. \n"
     ]
    }
   ],
   "source": []
  },
  {
   "cell_type": "raw",
   "metadata": {},
   "source": []
  },
  {
   "cell_type": "code",
   "execution_count": null,
   "metadata": {},
   "outputs": [],
   "source": []
  },
  {
   "cell_type": "code",
   "execution_count": null,
   "metadata": {},
   "outputs": [],
   "source": []
  },
  {
   "cell_type": "code",
   "execution_count": null,
   "metadata": {},
   "outputs": [],
   "source": []
  }
 ],
 "metadata": {
  "kernelspec": {
   "display_name": "Python 3",
   "language": "python",
   "name": "python3"
  },
  "language_info": {
   "codemirror_mode": {
    "name": "ipython",
    "version": 3
   },
   "file_extension": ".py",
   "mimetype": "text/x-python",
   "name": "python",
   "nbconvert_exporter": "python",
   "pygments_lexer": "ipython3",
   "version": "3.7.4"
  }
 },
 "nbformat": 4,
 "nbformat_minor": 2
}
