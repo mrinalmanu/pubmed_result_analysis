{
 "cells": [
  {
   "cell_type": "code",
   "execution_count": 8,
   "metadata": {},
   "outputs": [],
   "source": [
    "#df processing imports\n",
    "import numpy as np\n",
    "import pandas as pd\n",
    "\n",
    "#fuzzy join imports\n",
    "import pandas as pd\n",
    "from fuzzywuzzy import fuzz\n",
    "from fuzzywuzzy import process\n",
    "import textdistance"
   ]
  },
  {
   "cell_type": "raw",
   "metadata": {},
   "source": [
    "EDIT THIS CELL\n",
    "\n",
    "Names:\n",
    "\n",
    "/home/mrinalmanu/Desktop/analyse_pubmed_search_results/FINAL/topics/digital_twin/ready_DIG_T_DF_pre_cleaned_processed\n",
    "/home/mrinalmanu/Desktop/analyse_pubmed_search_results/FINAL/topics/modelling_and_consciousness/ready_MOD_CON_DF_pre_cleaned_processed\n",
    "/home/mrinalmanu/Desktop/analyse_pubmed_search_results/FINAL/topics/neuroscience_identity/ready_NEU_ID_DF_pre_cleaned_processed\n",
    "/home/mrinalmanu/Desktop/analyse_pubmed_search_results/FINAL/topics/neuroscience_personality/ready_NEU_PER_DF_pre_cleaned_processed"
   ]
  },
  {
   "cell_type": "code",
   "execution_count": 36,
   "metadata": {},
   "outputs": [],
   "source": [
    "name_i = \"/home/mrinalmanu/Desktop/analyse_pubmed_search_results/FINAL/topics/digital_twin/ready_DIG_T_DF_pre_cleaned_processed\"\n",
    "name_f = \"/home/mrinalmanu/Desktop/analyse_pubmed_search_results/FINAL/topics/digital_twin/uni_DIG_T_DF\"\n",
    "big_df = \"/home/mrinalmanu/Desktop/analyse_pubmed_search_results/FINAL/topics/digital_twin/uni_DIG_T_DF_bigdf\""
   ]
  },
  {
   "cell_type": "markdown",
   "metadata": {},
   "source": [
    "# QS DB processing"
   ]
  },
  {
   "cell_type": "code",
   "execution_count": 3,
   "metadata": {},
   "outputs": [],
   "source": [
    "# UNI rankings DF\n",
    "qs_database = \"/home/mrinalmanu/Desktop/analyse_pubmed_search_results/FINAL/QS-World-University-Rankings-2021-excel-table.csv\""
   ]
  },
  {
   "cell_type": "code",
   "execution_count": 5,
   "metadata": {
    "scrolled": true
   },
   "outputs": [
    {
     "data": {
      "text/html": [
       "<div>\n",
       "<style scoped>\n",
       "    .dataframe tbody tr th:only-of-type {\n",
       "        vertical-align: middle;\n",
       "    }\n",
       "\n",
       "    .dataframe tbody tr th {\n",
       "        vertical-align: top;\n",
       "    }\n",
       "\n",
       "    .dataframe thead th {\n",
       "        text-align: right;\n",
       "    }\n",
       "</style>\n",
       "<table border=\"1\" class=\"dataframe\">\n",
       "  <thead>\n",
       "    <tr style=\"text-align: right;\">\n",
       "      <th></th>\n",
       "      <th>rank display</th>\n",
       "      <th>affiliation</th>\n",
       "      <th>country code</th>\n",
       "      <th>country</th>\n",
       "      <th>size</th>\n",
       "      <th>focus</th>\n",
       "      <th>research</th>\n",
       "      <th>age band</th>\n",
       "    </tr>\n",
       "  </thead>\n",
       "  <tbody>\n",
       "    <tr>\n",
       "      <td>3</td>\n",
       "      <td>1</td>\n",
       "      <td>Massachusetts Institute of Technology (MIT)</td>\n",
       "      <td>US</td>\n",
       "      <td>United States</td>\n",
       "      <td>M</td>\n",
       "      <td>CO</td>\n",
       "      <td>VH</td>\n",
       "      <td>5</td>\n",
       "    </tr>\n",
       "    <tr>\n",
       "      <td>4</td>\n",
       "      <td>2</td>\n",
       "      <td>Stanford University</td>\n",
       "      <td>US</td>\n",
       "      <td>United States</td>\n",
       "      <td>L</td>\n",
       "      <td>FC</td>\n",
       "      <td>VH</td>\n",
       "      <td>5</td>\n",
       "    </tr>\n",
       "    <tr>\n",
       "      <td>5</td>\n",
       "      <td>3</td>\n",
       "      <td>Harvard University</td>\n",
       "      <td>US</td>\n",
       "      <td>United States</td>\n",
       "      <td>L</td>\n",
       "      <td>FC</td>\n",
       "      <td>VH</td>\n",
       "      <td>5</td>\n",
       "    </tr>\n",
       "    <tr>\n",
       "      <td>6</td>\n",
       "      <td>4</td>\n",
       "      <td>California Institute of Technology (Caltech)</td>\n",
       "      <td>US</td>\n",
       "      <td>United States</td>\n",
       "      <td>S</td>\n",
       "      <td>CO</td>\n",
       "      <td>VH</td>\n",
       "      <td>5</td>\n",
       "    </tr>\n",
       "    <tr>\n",
       "      <td>7</td>\n",
       "      <td>5</td>\n",
       "      <td>University of Oxford</td>\n",
       "      <td>UK</td>\n",
       "      <td>United Kingdom</td>\n",
       "      <td>L</td>\n",
       "      <td>FC</td>\n",
       "      <td>VH</td>\n",
       "      <td>5</td>\n",
       "    </tr>\n",
       "  </tbody>\n",
       "</table>\n",
       "</div>"
      ],
      "text/plain": [
       "  rank display                                   affiliation country code  \\\n",
       "3            1   Massachusetts Institute of Technology (MIT)           US   \n",
       "4            2                           Stanford University           US   \n",
       "5            3                            Harvard University           US   \n",
       "6            4  California Institute of Technology (Caltech)           US   \n",
       "7            5                          University of Oxford           UK   \n",
       "\n",
       "          country size focus research age band  \n",
       "3   United States    M    CO       VH        5  \n",
       "4   United States    L    FC       VH        5  \n",
       "5   United States    L    FC       VH        5  \n",
       "6   United States    S    CO       VH        5  \n",
       "7  United Kingdom    L    FC       VH        5  "
      ]
     },
     "execution_count": 5,
     "metadata": {},
     "output_type": "execute_result"
    }
   ],
   "source": [
    "# Load in the dataframe\n",
    "df = pd.read_csv(qs_database, sep='/')\n",
    "df = df.iloc[2:] # first 3 rows\n",
    "df = df.iloc[:1000] # first 1000 rows\n",
    "del df['Unnamed: 1']\n",
    "to_drop = ['Unnamed: 9', 'Unnamed: 10',\n",
    "       'Unnamed: 11', 'Unnamed: 12', 'Unnamed: 13', 'Unnamed: 14',\n",
    "       'Unnamed: 15', 'Unnamed: 16', 'Unnamed: 17', 'Unnamed: 18',\n",
    "       'Unnamed: 19', 'Unnamed: 20', 'Unnamed: 21', 'Unnamed: 22']\n",
    "df = df.drop(labels=to_drop, axis=1) # axis 1 drops columns, 0 will drop rows that match index value in labels\n",
    "df = df.rename(columns=df.iloc[0])\n",
    "df = df.iloc[1:] # first row remove\n",
    "# remove all special characters everywhere\n",
    "\n",
    "df['rank display'] = df['rank display'].str.replace('=','').str.replace(' +',' ').str.strip()\n",
    "\n",
    "df=df.rename(columns = {'institution':'affiliation'})\n",
    "df.head(1)\n",
    "\n",
    "df_qs = df\n",
    "\n",
    "df.head()"
   ]
  },
  {
   "cell_type": "markdown",
   "metadata": {},
   "source": [
    "# Fuzzy matching the QS names to Pubmed results"
   ]
  },
  {
   "cell_type": "code",
   "execution_count": 10,
   "metadata": {},
   "outputs": [],
   "source": [
    "# Load the processed data\n",
    "\n",
    "df_n = pd.read_csv(name_i)\n"
   ]
  },
  {
   "cell_type": "code",
   "execution_count": 11,
   "metadata": {},
   "outputs": [
    {
     "data": {
      "text/html": [
       "<div>\n",
       "<style scoped>\n",
       "    .dataframe tbody tr th:only-of-type {\n",
       "        vertical-align: middle;\n",
       "    }\n",
       "\n",
       "    .dataframe tbody tr th {\n",
       "        vertical-align: top;\n",
       "    }\n",
       "\n",
       "    .dataframe thead th {\n",
       "        text-align: right;\n",
       "    }\n",
       "</style>\n",
       "<table border=\"1\" class=\"dataframe\">\n",
       "  <thead>\n",
       "    <tr style=\"text-align: right;\">\n",
       "      <th></th>\n",
       "      <th>affiliation</th>\n",
       "      <th>affiliation_count</th>\n",
       "    </tr>\n",
       "  </thead>\n",
       "  <tbody>\n",
       "    <tr>\n",
       "      <td>0</td>\n",
       "      <td>Germany Institute of Human Nutrition PotsdamR...</td>\n",
       "      <td>1</td>\n",
       "    </tr>\n",
       "  </tbody>\n",
       "</table>\n",
       "</div>"
      ],
      "text/plain": [
       "                                         affiliation  affiliation_count\n",
       "0   Germany Institute of Human Nutrition PotsdamR...                  1"
      ]
     },
     "execution_count": 11,
     "metadata": {},
     "output_type": "execute_result"
    }
   ],
   "source": [
    "# groupings\n",
    "affiliation_grouping = df_n.groupby(['affiliation']).size().reset_index(name='affiliation_count')\n",
    "affiliation_grouping.head(n=1)"
   ]
  },
  {
   "cell_type": "code",
   "execution_count": 12,
   "metadata": {},
   "outputs": [
    {
     "data": {
      "text/html": [
       "<div>\n",
       "<style scoped>\n",
       "    .dataframe tbody tr th:only-of-type {\n",
       "        vertical-align: middle;\n",
       "    }\n",
       "\n",
       "    .dataframe tbody tr th {\n",
       "        vertical-align: top;\n",
       "    }\n",
       "\n",
       "    .dataframe thead th {\n",
       "        text-align: right;\n",
       "    }\n",
       "</style>\n",
       "<table border=\"1\" class=\"dataframe\">\n",
       "  <thead>\n",
       "    <tr style=\"text-align: right;\">\n",
       "      <th></th>\n",
       "      <th>author</th>\n",
       "      <th>author_count</th>\n",
       "    </tr>\n",
       "  </thead>\n",
       "  <tbody>\n",
       "    <tr>\n",
       "      <td>0</td>\n",
       "      <td>..d..m Domonkos   T..rnoki</td>\n",
       "      <td>2</td>\n",
       "    </tr>\n",
       "  </tbody>\n",
       "</table>\n",
       "</div>"
      ],
      "text/plain": [
       "                       author  author_count\n",
       "0  ..d..m Domonkos   T..rnoki             2"
      ]
     },
     "execution_count": 12,
     "metadata": {},
     "output_type": "execute_result"
    }
   ],
   "source": [
    "author_grouping = df_n.groupby(['author']).size().reset_index(name='author_count')\n",
    "author_grouping.head(n=1)"
   ]
  },
  {
   "cell_type": "code",
   "execution_count": 13,
   "metadata": {},
   "outputs": [
    {
     "data": {
      "text/html": [
       "<div>\n",
       "<style scoped>\n",
       "    .dataframe tbody tr th:only-of-type {\n",
       "        vertical-align: middle;\n",
       "    }\n",
       "\n",
       "    .dataframe tbody tr th {\n",
       "        vertical-align: top;\n",
       "    }\n",
       "\n",
       "    .dataframe thead th {\n",
       "        text-align: right;\n",
       "    }\n",
       "</style>\n",
       "<table border=\"1\" class=\"dataframe\">\n",
       "  <thead>\n",
       "    <tr style=\"text-align: right;\">\n",
       "      <th></th>\n",
       "      <th>rank display</th>\n",
       "      <th>affiliation_x</th>\n",
       "      <th>country code</th>\n",
       "      <th>country</th>\n",
       "      <th>size</th>\n",
       "      <th>focus</th>\n",
       "      <th>research</th>\n",
       "      <th>age band</th>\n",
       "      <th>affiliation_y</th>\n",
       "      <th>affiliation_count</th>\n",
       "    </tr>\n",
       "  </thead>\n",
       "  <tbody>\n",
       "    <tr>\n",
       "      <td>0</td>\n",
       "      <td>1</td>\n",
       "      <td>Massachusetts Institute of Technology (MIT)</td>\n",
       "      <td>US</td>\n",
       "      <td>United States</td>\n",
       "      <td>M</td>\n",
       "      <td>CO</td>\n",
       "      <td>VH</td>\n",
       "      <td>5</td>\n",
       "      <td>Germany Institute of Human Nutrition PotsdamR...</td>\n",
       "      <td>1</td>\n",
       "    </tr>\n",
       "    <tr>\n",
       "      <td>1</td>\n",
       "      <td>1</td>\n",
       "      <td>Massachusetts Institute of Technology (MIT)</td>\n",
       "      <td>US</td>\n",
       "      <td>United States</td>\n",
       "      <td>M</td>\n",
       "      <td>CO</td>\n",
       "      <td>VH</td>\n",
       "      <td>5</td>\n",
       "      <td>Healthcare Life Sciences Uppsala Sweden</td>\n",
       "      <td>2</td>\n",
       "    </tr>\n",
       "    <tr>\n",
       "      <td>2</td>\n",
       "      <td>1</td>\n",
       "      <td>Massachusetts Institute of Technology (MIT)</td>\n",
       "      <td>US</td>\n",
       "      <td>United States</td>\n",
       "      <td>M</td>\n",
       "      <td>CO</td>\n",
       "      <td>VH</td>\n",
       "      <td>5</td>\n",
       "      <td>Vingmed Ultrasound  Horton Norway</td>\n",
       "      <td>2</td>\n",
       "    </tr>\n",
       "    <tr>\n",
       "      <td>3</td>\n",
       "      <td>1</td>\n",
       "      <td>Massachusetts Institute of Technology (MIT)</td>\n",
       "      <td>US</td>\n",
       "      <td>United States</td>\n",
       "      <td>M</td>\n",
       "      <td>CO</td>\n",
       "      <td>VH</td>\n",
       "      <td>5</td>\n",
       "      <td>ANSYS Villeurbanne F France</td>\n",
       "      <td>2</td>\n",
       "    </tr>\n",
       "    <tr>\n",
       "      <td>4</td>\n",
       "      <td>1</td>\n",
       "      <td>Massachusetts Institute of Technology (MIT)</td>\n",
       "      <td>US</td>\n",
       "      <td>United States</td>\n",
       "      <td>M</td>\n",
       "      <td>CO</td>\n",
       "      <td>VH</td>\n",
       "      <td>5</td>\n",
       "      <td>APHP Department of Dermatology INSERM U Univer...</td>\n",
       "      <td>1</td>\n",
       "    </tr>\n",
       "  </tbody>\n",
       "</table>\n",
       "</div>"
      ],
      "text/plain": [
       "  rank display                                affiliation_x country code  \\\n",
       "0            1  Massachusetts Institute of Technology (MIT)           US   \n",
       "1            1  Massachusetts Institute of Technology (MIT)           US   \n",
       "2            1  Massachusetts Institute of Technology (MIT)           US   \n",
       "3            1  Massachusetts Institute of Technology (MIT)           US   \n",
       "4            1  Massachusetts Institute of Technology (MIT)           US   \n",
       "\n",
       "         country size focus research age band  \\\n",
       "0  United States    M    CO       VH        5   \n",
       "1  United States    M    CO       VH        5   \n",
       "2  United States    M    CO       VH        5   \n",
       "3  United States    M    CO       VH        5   \n",
       "4  United States    M    CO       VH        5   \n",
       "\n",
       "                                       affiliation_y  affiliation_count  \n",
       "0   Germany Institute of Human Nutrition PotsdamR...                  1  \n",
       "1            Healthcare Life Sciences Uppsala Sweden                  2  \n",
       "2                  Vingmed Ultrasound  Horton Norway                  2  \n",
       "3                        ANSYS Villeurbanne F France                  2  \n",
       "4  APHP Department of Dermatology INSERM U Univer...                  1  "
      ]
     },
     "execution_count": 13,
     "metadata": {},
     "output_type": "execute_result"
    }
   ],
   "source": [
    "# FUZZY JOIN\n",
    "\n",
    "df1 = df\n",
    "df2 = affiliation_grouping\n",
    "\n",
    "# cross join the data frames\n",
    " \n",
    "df1['dummy'] = True\n",
    "df2['dummy'] = True\n",
    " \n",
    "df = pd.merge(df1,df2, on='dummy')\n",
    " \n",
    "df.drop('dummy', axis=1, inplace=True)\n",
    "df.head()"
   ]
  },
  {
   "cell_type": "markdown",
   "metadata": {},
   "source": [
    "Description of ratio:\n",
    "\n",
    "Ratio: It refers to the Levenshtein Distance Ratio.\n",
    "\n",
    "Partial Ratio: Assume that we are dealing with two strings of different lengths such as L1 and L2, and assume that \n",
    "L1 is less than L2. Then the algorithm seeks the score of the best matching of length -L1 substring.\n",
    "\n",
    "Token Sort Ratio: First it removes punctuations and converts the text to lower case and then it tokenizes it. Then it sorts the tokens alphabetically and then it joins them in a single string.\n",
    "\n",
    "Token Set Ratio: Similar to the Token Sort Ratio, but it takes into consideration the unique tokens."
   ]
  },
  {
   "cell_type": "code",
   "execution_count": 14,
   "metadata": {},
   "outputs": [],
   "source": [
    "df['Ratio'] = df[['affiliation_x','affiliation_y']].apply(lambda x:fuzz.ratio(x.affiliation_x, x.affiliation_y), axis=1)\n",
    "df['Partial_Ratio'] = df[['affiliation_x','affiliation_y']].apply(lambda x:fuzz.partial_ratio(x.affiliation_x, x.affiliation_y), axis=1)\n",
    "df['Token_Sort_Ratio'] = df[['affiliation_x','affiliation_y']].apply(lambda x:fuzz.token_sort_ratio(x.affiliation_x, x.affiliation_y), axis=1)\n",
    "df['Token_Set_Ratio'] = df[['affiliation_x','affiliation_y']].apply(lambda x:fuzz.token_set_ratio(x.affiliation_x, x.affiliation_y), axis=1)"
   ]
  },
  {
   "cell_type": "code",
   "execution_count": 15,
   "metadata": {},
   "outputs": [],
   "source": [
    "df.to_csv(name_f, index=False)"
   ]
  },
  {
   "cell_type": "code",
   "execution_count": 22,
   "metadata": {
    "scrolled": true
   },
   "outputs": [
    {
     "name": "stderr",
     "output_type": "stream",
     "text": [
      "/home/mrinalmanu/miniconda3/lib/python3.7/site-packages/IPython/core/interactiveshell.py:3058: DtypeWarning: Columns (0) have mixed types. Specify dtype option on import or set low_memory=False.\n",
      "  interactivity=interactivity, compiler=compiler, result=result)\n"
     ]
    }
   ],
   "source": [
    "df = pd.read_csv(name_f)"
   ]
  },
  {
   "cell_type": "code",
   "execution_count": 25,
   "metadata": {},
   "outputs": [
    {
     "data": {
      "text/html": [
       "<div>\n",
       "<style scoped>\n",
       "    .dataframe tbody tr th:only-of-type {\n",
       "        vertical-align: middle;\n",
       "    }\n",
       "\n",
       "    .dataframe tbody tr th {\n",
       "        vertical-align: top;\n",
       "    }\n",
       "\n",
       "    .dataframe thead th {\n",
       "        text-align: right;\n",
       "    }\n",
       "</style>\n",
       "<table border=\"1\" class=\"dataframe\">\n",
       "  <thead>\n",
       "    <tr style=\"text-align: right;\">\n",
       "      <th></th>\n",
       "      <th>rank display</th>\n",
       "      <th>affiliation_x</th>\n",
       "      <th>country code</th>\n",
       "      <th>country</th>\n",
       "      <th>size</th>\n",
       "      <th>focus</th>\n",
       "      <th>research</th>\n",
       "      <th>age band</th>\n",
       "      <th>affiliation_y</th>\n",
       "      <th>affiliation_count</th>\n",
       "      <th>Ratio</th>\n",
       "      <th>Partial_Ratio</th>\n",
       "      <th>Token_Sort_Ratio</th>\n",
       "      <th>Token_Set_Ratio</th>\n",
       "    </tr>\n",
       "  </thead>\n",
       "  <tbody>\n",
       "    <tr>\n",
       "      <td>0</td>\n",
       "      <td>1</td>\n",
       "      <td>Massachusetts Institute of Technology (MIT)</td>\n",
       "      <td>US</td>\n",
       "      <td>United States</td>\n",
       "      <td>M</td>\n",
       "      <td>CO</td>\n",
       "      <td>VH</td>\n",
       "      <td>5.0</td>\n",
       "      <td>Germany Institute of Human Nutrition PotsdamR...</td>\n",
       "      <td>1</td>\n",
       "      <td>35</td>\n",
       "      <td>42</td>\n",
       "      <td>41</td>\n",
       "      <td>46</td>\n",
       "    </tr>\n",
       "  </tbody>\n",
       "</table>\n",
       "</div>"
      ],
      "text/plain": [
       "  rank display                                affiliation_x country code  \\\n",
       "0            1  Massachusetts Institute of Technology (MIT)           US   \n",
       "\n",
       "         country size focus research  age band  \\\n",
       "0  United States    M    CO       VH       5.0   \n",
       "\n",
       "                                       affiliation_y  affiliation_count  \\\n",
       "0   Germany Institute of Human Nutrition PotsdamR...                  1   \n",
       "\n",
       "   Ratio  Partial_Ratio  Token_Sort_Ratio  Token_Set_Ratio  \n",
       "0     35             42                41               46  "
      ]
     },
     "execution_count": 25,
     "metadata": {},
     "output_type": "execute_result"
    }
   ],
   "source": [
    "df.head(1)"
   ]
  },
  {
   "cell_type": "markdown",
   "metadata": {},
   "source": [
    "This database will be further processed to filter false matches by Token Set Ratio."
   ]
  },
  {
   "cell_type": "code",
   "execution_count": 26,
   "metadata": {},
   "outputs": [],
   "source": [
    "df['Rank_Token_Set_Ratio'] = df.groupby('affiliation_x')['Token_Set_Ratio'].rank(ascending=False, method='dense')\n",
    "df = df[['affiliation_x','affiliation_y', 'Token_Set_Ratio']].loc[df.Rank_Token_Set_Ratio==1]\n"
   ]
  },
  {
   "cell_type": "markdown",
   "metadata": {},
   "source": [
    "There are a lot of errors with fuzzy matching approach. Most of them have to do with the fact that we have limited search to 1000 universities, and the condition that there should be a match. But we can deal with the error using a simple threshold. We can set a cutoff and filter for the mismatches. Let's look at matches for >70 Token_Set_Ratio"
   ]
  },
  {
   "cell_type": "code",
   "execution_count": 29,
   "metadata": {},
   "outputs": [
    {
     "data": {
      "text/plain": [
       "69681"
      ]
     },
     "execution_count": 29,
     "metadata": {},
     "output_type": "execute_result"
    }
   ],
   "source": [
    "df = df[df['Token_Set_Ratio'] >= 70]\n",
    "len(df)"
   ]
  },
  {
   "cell_type": "code",
   "execution_count": 32,
   "metadata": {},
   "outputs": [],
   "source": [
    "# merge with QS rankings DB\n",
    "df_m = pd.merge(df_n, df, left_on='affiliation', right_on='affiliation_y')\n",
    "df_m=df_m.rename(columns = {'affiliation_y':'original_affiliation'})\n",
    "df_m=df_m.rename(columns = {'affiliation_x':'fuzzy_matched_QS'})\n",
    "df_final = pd.merge(df_qs, df_m, left_on='affiliation', right_on='fuzzy_matched_QS')"
   ]
  },
  {
   "cell_type": "code",
   "execution_count": 35,
   "metadata": {
    "scrolled": true
   },
   "outputs": [
    {
     "data": {
      "text/html": [
       "<div>\n",
       "<style scoped>\n",
       "    .dataframe tbody tr th:only-of-type {\n",
       "        vertical-align: middle;\n",
       "    }\n",
       "\n",
       "    .dataframe tbody tr th {\n",
       "        vertical-align: top;\n",
       "    }\n",
       "\n",
       "    .dataframe thead th {\n",
       "        text-align: right;\n",
       "    }\n",
       "</style>\n",
       "<table border=\"1\" class=\"dataframe\">\n",
       "  <thead>\n",
       "    <tr style=\"text-align: right;\">\n",
       "      <th></th>\n",
       "      <th>rank display</th>\n",
       "      <th>country code</th>\n",
       "      <th>country</th>\n",
       "      <th>size</th>\n",
       "      <th>focus</th>\n",
       "      <th>research</th>\n",
       "      <th>age band</th>\n",
       "      <th>dummy</th>\n",
       "      <th>doi</th>\n",
       "      <th>pmid</th>\n",
       "      <th>...</th>\n",
       "      <th>title</th>\n",
       "      <th>abstract</th>\n",
       "      <th>author</th>\n",
       "      <th>affiliation_y</th>\n",
       "      <th>latitude</th>\n",
       "      <th>longitude</th>\n",
       "      <th>continent</th>\n",
       "      <th>fuzzy_matched_QS</th>\n",
       "      <th>original_affiliation</th>\n",
       "      <th>Token_Set_Ratio</th>\n",
       "    </tr>\n",
       "  </thead>\n",
       "  <tbody>\n",
       "    <tr>\n",
       "      <td>0</td>\n",
       "      <td>1</td>\n",
       "      <td>US</td>\n",
       "      <td>United States</td>\n",
       "      <td>M</td>\n",
       "      <td>CO</td>\n",
       "      <td>VH</td>\n",
       "      <td>5</td>\n",
       "      <td>True</td>\n",
       "      <td>10.1073/pnas.2016271118</td>\n",
       "      <td>33622790</td>\n",
       "      <td>...</td>\n",
       "      <td>Heritability of individualized cortical networ...</td>\n",
       "      <td>Human cortex is patterned by a complex and int...</td>\n",
       "      <td>Ru   Kong</td>\n",
       "      <td>Stanley Center for Psychiatric Research Broad ...</td>\n",
       "      <td>37.09024</td>\n",
       "      <td>-95.712891</td>\n",
       "      <td>North America</td>\n",
       "      <td>Massachusetts Institute of Technology (MIT)</td>\n",
       "      <td>Stanley Center for Psychiatric Research Broad ...</td>\n",
       "      <td>95</td>\n",
       "    </tr>\n",
       "  </tbody>\n",
       "</table>\n",
       "<p>1 rows × 23 columns</p>\n",
       "</div>"
      ],
      "text/plain": [
       "  rank display country code        country size focus research age band  \\\n",
       "0            1           US  United States    M    CO       VH        5   \n",
       "\n",
       "   dummy                      doi      pmid  ...  \\\n",
       "0   True  10.1073/pnas.2016271118  33622790  ...   \n",
       "\n",
       "                                               title  \\\n",
       "0  Heritability of individualized cortical networ...   \n",
       "\n",
       "                                            abstract     author  \\\n",
       "0  Human cortex is patterned by a complex and int...  Ru   Kong   \n",
       "\n",
       "                                       affiliation_y  latitude  longitude  \\\n",
       "0  Stanley Center for Psychiatric Research Broad ...  37.09024 -95.712891   \n",
       "\n",
       "       continent                             fuzzy_matched_QS  \\\n",
       "0  North America  Massachusetts Institute of Technology (MIT)   \n",
       "\n",
       "                                original_affiliation Token_Set_Ratio  \n",
       "0  Stanley Center for Psychiatric Research Broad ...              95  \n",
       "\n",
       "[1 rows x 23 columns]"
      ]
     },
     "execution_count": 35,
     "metadata": {},
     "output_type": "execute_result"
    }
   ],
   "source": [
    "del df_final['affiliation_x']\n",
    "del df_final['name_x']\n",
    "del df_final['code']\n",
    "df_final.head(1)\n"
   ]
  },
  {
   "cell_type": "code",
   "execution_count": 37,
   "metadata": {},
   "outputs": [],
   "source": [
    "df_final.to_csv(big_df, index=False)"
   ]
  },
  {
   "cell_type": "code",
   "execution_count": null,
   "metadata": {},
   "outputs": [],
   "source": []
  }
 ],
 "metadata": {
  "kernelspec": {
   "display_name": "Python 3",
   "language": "python",
   "name": "python3"
  },
  "language_info": {
   "codemirror_mode": {
    "name": "ipython",
    "version": 3
   },
   "file_extension": ".py",
   "mimetype": "text/x-python",
   "name": "python",
   "nbconvert_exporter": "python",
   "pygments_lexer": "ipython3",
   "version": "3.7.4"
  }
 },
 "nbformat": 4,
 "nbformat_minor": 2
}
